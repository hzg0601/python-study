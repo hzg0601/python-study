{
 "cells": [
  {
   "cell_type": "code",
   "execution_count": 3,
   "metadata": {},
   "outputs": [
    {
     "name": "stdout",
     "output_type": "stream",
     "text": [
      "b'Hello,tensorflow'\n"
     ]
    }
   ],
   "source": [
    "#以close结束session\n",
    "import tensorflow as tf\n",
    "hello=tf.constant('Hello,tensorflow')\n",
    "sess=tf.Session()\n",
    "print(sess.run(hello))\n",
    "sess.close()"
   ]
  },
  {
   "cell_type": "code",
   "execution_count": 5,
   "metadata": {},
   "outputs": [
    {
     "name": "stdout",
     "output_type": "stream",
     "text": [
      "plus 7\n",
      "multiply 12\n"
     ]
    }
   ],
   "source": [
    "#以with控制开始结束\n",
    "import tensorflow as tf\n",
    "a=tf.constant(3)\n",
    "b=tf.constant(4)\n",
    "with tf.Session() as sess:\n",
    "    print('plus',sess.run(a+b))\n",
    "    print('multiply',sess.run(a*b))"
   ]
  },
  {
   "cell_type": "code",
   "execution_count": 9,
   "metadata": {},
   "outputs": [
    {
     "name": "stdout",
     "output_type": "stream",
     "text": [
      "plus 7\n",
      "multiply 12\n"
     ]
    }
   ],
   "source": [
    "#注入机制,placeholder占位符\n",
    "import tensorflow as tf\n",
    "a=tf.placeholder(tf.int16)\n",
    "b=tf.placeholder(tf.int16)\n",
    "add=tf.add(a,b)\n",
    "mul=tf.multiply(a,b)\n",
    "with tf.Session() as sess:\n",
    "    print('plus',sess.run(add,feed_dict={a:3,b:4}))\n",
    "    print('multiply',sess.run(mul,feed_dict={a:3,b:4}))\n",
    "    "
   ]
  },
  {
   "cell_type": "markdown",
   "metadata": {},
   "source": [
    "### 建立session的其他方法\n",
    "#### 交互式session方式\n",
    "\n",
    "with tf.InteractiveSession() as IS:\n",
    "#### Supervisor方式\n",
    "该方式会更高级一些,使用起来也更复杂,可以自动来管理session中的具体任务,如:载入/载出检查点文件,写入tensorboard等,另外该方法还支持分布式训练任务的部署.\n",
    "\n"
   ]
  },
  {
   "cell_type": "code",
   "execution_count": 20,
   "metadata": {},
   "outputs": [
    {
     "name": "stdout",
     "output_type": "stream",
     "text": [
      "[12, 7]\n"
     ]
    }
   ],
   "source": [
    "#一次获取多个节点\n",
    "import tensorflow as tf\n",
    "a=tf.placeholder(tf.int16)\n",
    "b=tf.placeholder(tf.int16)\n",
    "add=tf.add(a,b)\n",
    "mul=tf.multiply(a,b)\n",
    "with tf.Session() as sess:\n",
    "    with tf.device('/gpu:1'):#指定GPU或CPU运算设备\n",
    "        print(sess.run([mul,add],feed_dict={a:3,b:4}))\n",
    "#设备用字符串进行标识,目前支持的设备包括:\n",
    "#cpu0:机器的cpu\n",
    "#gpu0:机器的第一个GPU,如果有多个GPU依此类推"
   ]
  },
  {
   "cell_type": "code",
   "execution_count": 23,
   "metadata": {},
   "outputs": [
    {
     "name": "stdout",
     "output_type": "stream",
     "text": [
      "ready!\n"
     ]
    }
   ],
   "source": [
    "#通过tf.ConfigProto来构建一个config,在config中指定相关的GPU,并且在session中传入参数config='自己创建的config'来指定GPU操作.\n",
    "#tf.ConfigProto的参数如下:\n",
    "#log_device_placement=True 是否打印设备分配日志\n",
    "#allow_soft_placement=True 如果指定的设备不存在,允许TF自动分配设备\n",
    "config=tf.ConfigProto(log_device_placement=True,allow_soft_placement=True)\n",
    "session=tf.Session(config=config)\n",
    "print('ready!')\n",
    "session.close()\n"
   ]
  },
  {
   "cell_type": "code",
   "execution_count": 24,
   "metadata": {},
   "outputs": [
    {
     "name": "stdout",
     "output_type": "stream",
     "text": [
      "ready!\n"
     ]
    }
   ],
   "source": [
    "#使用allow_growth刚开始会分配少量的GPU容量,然后按需慢慢地增加,由于不会释放内存,所以会导致碎片化\n",
    "gpu_options=tf.GPUOptions(allow_growth=True)\n",
    "config=tf.ConfigProto(gpu_options=gpu_options)\n",
    "session=tf.Session(config=config)\n",
    "print('ready!')\n",
    "session.close()\n"
   ]
  },
  {
   "cell_type": "code",
   "execution_count": null,
   "metadata": {},
   "outputs": [],
   "source": [
    "#给GPU分配固定大小的计算资源,代表分配给tensorflow的GPU显存大小为:GPU实际显存*0.7\n",
    "gpu_options=tf.GPUOptions(per_process_gpu_fraction=0.7)\n"
   ]
  },
  {
   "cell_type": "code",
   "execution_count": null,
   "metadata": {},
   "outputs": [],
   "source": [
    "#保存模型\n",
    "\n",
    "#载入数据\n",
    "\n",
    "tf.reset_default_graph()#重置图\n",
    "#初始化等操作\n",
    "saver=tf.train.Saver()\n",
    "saverdir='log/'\n",
    "#启动session\n",
    "with tf.Session() as sess:\n",
    "    sess.run(tf.global_variables_initializer())#对模型初始化\n",
    "    #训练模型\n",
    "    print('Finished!')\n",
    "    saver.save(sess,savedir+'file_name.ckpt')\n"
   ]
  },
  {
   "cell_type": "code",
   "execution_count": null,
   "metadata": {},
   "outputs": [],
   "source": [
    "#载入模型\n",
    "with tf.Session() as sess2:\n",
    "    sess2.run(tf.global_variable_initializer())\n",
    "    saver.restore(sess2,savedir+'file_name.ckpt')#将已保存的模型读入并命名为sess2"
   ]
  },
  {
   "cell_type": "code",
   "execution_count": null,
   "metadata": {},
   "outputs": [],
   "source": [
    "#打印保存的模型\n",
    "from tensorflow.python.tools.inspect_checkpoint import print_tensors_in_checkpoint_file\n",
    "savedir='log/'\n",
    "print_tensors_in_checkpoint_file(savedir+'file_name.ckpt',None,True)\n"
   ]
  },
  {
   "cell_type": "code",
   "execution_count": null,
   "metadata": {},
   "outputs": [],
   "source": [
    "#保存模型的其他方法"
   ]
  }
 ],
 "metadata": {
  "kernelspec": {
   "display_name": "Python 3",
   "language": "python",
   "name": "python3"
  },
  "language_info": {
   "codemirror_mode": {
    "name": "ipython",
    "version": 3
   },
   "file_extension": ".py",
   "mimetype": "text/x-python",
   "name": "python",
   "nbconvert_exporter": "python",
   "pygments_lexer": "ipython3",
   "version": "3.6.5"
  },
  "latex_envs": {
   "LaTeX_envs_menu_present": true,
   "autoclose": true,
   "autocomplete": false,
   "bibliofile": "biblio.bib",
   "cite_by": "apalike",
   "current_citInitial": 1,
   "eqLabelWithNumbers": true,
   "eqNumInitial": 1,
   "hotkeys": {
    "equation": "Ctrl-E",
    "itemize": "Ctrl-I"
   },
   "labels_anchors": false,
   "latex_user_defs": false,
   "report_style_numbering": false,
   "user_envs_cfg": false
  },
  "toc": {
   "base_numbering": 1,
   "nav_menu": {},
   "number_sections": true,
   "sideBar": false,
   "skip_h1_title": false,
   "title_cell": "Table of Contents",
   "title_sidebar": "Contents",
   "toc_cell": false,
   "toc_position": {},
   "toc_section_display": true,
   "toc_window_display": false
  }
 },
 "nbformat": 4,
 "nbformat_minor": 2
}
