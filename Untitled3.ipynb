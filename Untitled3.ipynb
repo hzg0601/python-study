{
 "cells": [
  {
   "cell_type": "code",
   "execution_count": 3,
   "metadata": {},
   "outputs": [
    {
     "name": "stdout",
     "output_type": "stream",
     "text": [
      ">1\n",
      ">2\n",
      ">3\n",
      ">4\n",
      ">.\n"
     ]
    }
   ],
   "source": [
    "defall=[]\n",
    "while True:\n",
    "    entry=input('>')#>仅表示输入识别\n",
    "    if entry=='.':#输入每一行文本，一行仅输入一个句点，独立的.表示输入结束\n",
    "        break\n",
    "    else:\n",
    "        all.append(entry)#如果不满足终止条件，继续输入新的一行"
   ]
  },
  {
   "cell_type": "code",
   "execution_count": 9,
   "metadata": {},
   "outputs": [
    {
     "name": "stdout",
     "output_type": "stream",
     "text": [
      "请输入要输出的序号4\n",
      "请输入链表，每次一行，在\">\"之后输入,每次输入之后请按enter键，若结束输入请以.结尾,输入数字数目至少为4：\n",
      ">1\n",
      ">2\n",
      ">3\n",
      ">4\n",
      ">。\n",
      ">.\n"
     ]
    },
    {
     "data": {
      "text/plain": [
       "'2'"
      ]
     },
     "execution_count": 9,
     "metadata": {},
     "output_type": "execute_result"
    }
   ],
   "source": [
    "\n",
    "k=eval(input(\"请输入要返回的序号\"))\n",
    "list=[]\n",
    "print('请输入链表，每次一行，在\">\"之后输入,每次输入之后请按enter键，若结束输入请以.结尾,输入数字数目至少为%s：'%k)\n",
    "while True:\n",
    "    entry=input('>')\n",
    "    if entry=='.':\n",
    "        break\n",
    "    else:\n",
    "        list.append(entry)\n",
    "print(list[-k])\n",
    "\n"
   ]
  }
 ],
 "metadata": {
  "kernelspec": {
   "display_name": "Python 3",
   "language": "python",
   "name": "python3"
  },
  "language_info": {
   "codemirror_mode": {
    "name": "ipython",
    "version": 3
   },
   "file_extension": ".py",
   "mimetype": "text/x-python",
   "name": "python",
   "nbconvert_exporter": "python",
   "pygments_lexer": "ipython3",
   "version": "3.6.5"
  },
  "latex_envs": {
   "LaTeX_envs_menu_present": true,
   "autoclose": true,
   "autocomplete": false,
   "bibliofile": "biblio.bib",
   "cite_by": "apalike",
   "current_citInitial": 1,
   "eqLabelWithNumbers": true,
   "eqNumInitial": 1,
   "hotkeys": {
    "equation": "Ctrl-E",
    "itemize": "Ctrl-I"
   },
   "labels_anchors": false,
   "latex_user_defs": false,
   "report_style_numbering": false,
   "user_envs_cfg": false
  },
  "toc": {
   "base_numbering": 1,
   "nav_menu": {},
   "number_sections": true,
   "sideBar": false,
   "skip_h1_title": false,
   "title_cell": "Table of Contents",
   "title_sidebar": "Contents",
   "toc_cell": false,
   "toc_position": {},
   "toc_section_display": true,
   "toc_window_display": false
  }
 },
 "nbformat": 4,
 "nbformat_minor": 2
}
