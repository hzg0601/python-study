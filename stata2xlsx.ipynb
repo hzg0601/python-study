{
 "cells": [
  {
   "cell_type": "code",
   "execution_count": 2,
   "metadata": {},
   "outputs": [
    {
     "data": {
      "text/plain": [
       "['2009年动态监测技术文件',\n",
       " '2010 技术文件',\n",
       " '2010',\n",
       " '2011',\n",
       " '2011年调查技术手册',\n",
       " '2011社区问卷',\n",
       " '2012',\n",
       " '2012年调查技术手册',\n",
       " '2013a',\n",
       " '2013b',\n",
       " '2013年调查技术手册',\n",
       " '2014',\n",
       " '2014年调查技术手册',\n",
       " '2015a',\n",
       " '2015b',\n",
       " '2015年调查技术手册',\n",
       " '2016migration_population_data',\n",
       " '2017年中国流动人口动态监测调查数据（A 卷）',\n",
       " 'model_selection_and_estimation_in_regression_with_grouped_variables',\n",
       " '2016_a',\n",
       " '2016_a',\n",
       " '2016_a',\n",
       " '2017_Migrant_A_desensitized',\n",
       " '2017_Migrant_A_desensitized']"
      ]
     },
     "execution_count": 2,
     "metadata": {},
     "output_type": "execute_result"
    }
   ],
   "source": [
    "import os\n",
    "root_filepath='C:\\\\Users\\\\hzg0601\\\\Desktop\\\\migration_population_data'\n",
    "# filename=os.listdir(filepath)\n",
    "filelist=[]\n",
    "\n",
    "filepathlist=[]\n",
    "for root,dirs,files in os.walk(root_filepath):\n",
    "\n",
    "    for file in files:\n",
    "        filelist.append(file.split('.')[0])\n",
    "        filepathlist.append(os.path.join(root,file))\n",
    "    \n",
    "\n",
    "                        \n",
    "filelist"
   ]
  },
  {
   "cell_type": "code",
   "execution_count": 3,
   "metadata": {},
   "outputs": [
    {
     "name": "stdout",
     "output_type": "stream",
     "text": [
      "C:\\Users\\hzg0601\\Desktop\\migration_population_data\\2009年动态监测技术文件.pdf\n",
      "C:\\Users\\hzg0601\\Desktop\\migration_population_data\\2010 技术文件.pdf\n",
      "C:\\Users\\hzg0601\\Desktop\\migration_population_data\\2011年调查技术手册.pdf\n",
      "C:\\Users\\hzg0601\\Desktop\\migration_population_data\\2012年调查技术手册.pdf\n",
      "C:\\Users\\hzg0601\\Desktop\\migration_population_data\\2013年调查技术手册.pdf\n",
      "C:\\Users\\hzg0601\\Desktop\\migration_population_data\\2014年调查技术手册.pdf\n",
      "C:\\Users\\hzg0601\\Desktop\\migration_population_data\\2015年调查技术手册.pdf\n",
      "C:\\Users\\hzg0601\\Desktop\\migration_population_data\\2016migration_population_data.zip\n",
      "C:\\Users\\hzg0601\\Desktop\\migration_population_data\\2017年中国流动人口动态监测调查数据（A 卷）.zip\n",
      "C:\\Users\\hzg0601\\Desktop\\migration_population_data\\model_selection_and_estimation_in_regression_with_grouped_variables.slides.html\n",
      "C:\\Users\\hzg0601\\Desktop\\migration_population_data\\2016\\2016_a.csv\n",
      "C:\\Users\\hzg0601\\Desktop\\migration_population_data\\2016\\2016_a.sav\n",
      "C:\\Users\\hzg0601\\Desktop\\migration_population_data\\2017年中国流动人口动态监测调查数据（A 卷）\\2017年中国流动人口动态监测调查数据（A 卷）\\2017_Migrant_A_desensitized.sav\n"
     ]
    }
   ],
   "source": [
    "import pandas as pd\n",
    "def stata2xlsx(filepathlist=filepathlist,filelist=filelist):\n",
    "    for filepath,filename in zip(filepathlist,filelist):\n",
    "        \n",
    "        try:\n",
    "            file=pd.read_stata(filepath)\n",
    "            for i in file:\n",
    "                try:\n",
    "                    file[i]=file[i].apply(lambda x:x.encode('latin-1').decode('gbk'))\n",
    "                except:\n",
    "                    continue\n",
    "\n",
    "            file.to_excel(os.path.join(root_filepath,filename+'.xlsx'))\n",
    "        except:\n",
    "            print(filepath)\n",
    "stata2xlsx()"
   ]
  },
  {
   "cell_type": "code",
   "execution_count": null,
   "metadata": {},
   "outputs": [],
   "source": [
    "file1=pd.read_stata(filepathlist[2])"
   ]
  }
 ],
 "metadata": {
  "kernelspec": {
   "display_name": "Python 3",
   "language": "python",
   "name": "python3"
  },
  "language_info": {
   "codemirror_mode": {
    "name": "ipython",
    "version": 3
   },
   "file_extension": ".py",
   "mimetype": "text/x-python",
   "name": "python",
   "nbconvert_exporter": "python",
   "pygments_lexer": "ipython3",
   "version": "3.6.5"
  },
  "latex_envs": {
   "LaTeX_envs_menu_present": true,
   "autoclose": true,
   "autocomplete": false,
   "bibliofile": "biblio.bib",
   "cite_by": "apalike",
   "current_citInitial": 1,
   "eqLabelWithNumbers": true,
   "eqNumInitial": 1,
   "hotkeys": {
    "equation": "Ctrl-E",
    "itemize": "Ctrl-I"
   },
   "labels_anchors": false,
   "latex_user_defs": false,
   "report_style_numbering": false,
   "user_envs_cfg": false
  },
  "toc": {
   "base_numbering": 1,
   "nav_menu": {},
   "number_sections": true,
   "sideBar": false,
   "skip_h1_title": false,
   "title_cell": "Table of Contents",
   "title_sidebar": "Contents",
   "toc_cell": false,
   "toc_position": {},
   "toc_section_display": true,
   "toc_window_display": false
  }
 },
 "nbformat": 4,
 "nbformat_minor": 2
}
