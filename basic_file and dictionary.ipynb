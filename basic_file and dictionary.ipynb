{
 "cells": [
  {
   "cell_type": "code",
   "execution_count": 1,
   "metadata": {},
   "outputs": [
    {
     "name": "stdout",
     "output_type": "stream",
     "text": [
      "b'\\xe9\\xbb\\x84\\xe5\\xbf\\x97\\xe5\\x9b\\xbd'\n",
      "b'\\xbb\\xc6\\xd6\\xbe\\xb9\\xfa'\n",
      "97\n",
      "u\n"
     ]
    },
    {
     "data": {
      "text/plain": [
       "'hello world'"
      ]
     },
     "execution_count": 1,
     "metadata": {},
     "output_type": "execute_result"
    }
   ],
   "source": [
    "s='黄志国'\n",
    "uts=s.encode('utf-8')#3字节\n",
    "print(uts)\n",
    "uns=s.encode('GBK')\n",
    "print(uns)\n",
    "#help(encode())\n",
    "#ASCII,7个二进制编码;unicode,统一且唯一的二进制编码,每个字符两个字节长,65536;utf-8,可变长度的unicode,英文对应unicode的单字节,而\n",
    "#中-日-韩对应Unicode的三字节;GBK编码,双字节编码\n",
    "#二进制文件,除文本文件外的所有文件,照片,多媒体,计算机程序\n",
    "#文本文件是基于字符定长的ASCII码,而二进制文件编码是变长的,灵活利用率高,不同的二进制文件解码方式不同.\n",
    "print(ord('a'))\n",
    "print(chr(117))\n",
    "#a,附加的末尾;wb,只写二进制文件,如果不存在则自动创建,ab附加到二进制末尾,r+读写\n",
    "#read(),读取整个文件为一个字符串,readline()返回值为文件下一行内容的字符串,readlines()返回值为整个文件内容的列表,每项以换行符为结尾.\n",
    "#write(),把含有文本数据或者二进制数据块的字符串写入文件,writelines(),针对列表操作,接受一个字符串列表作为参数,将它写入文件,并且行结束符\n",
    "#不会被自动加入.\n",
    "outfile=open('outfile.txt','w')\n",
    "outfile.writelines(['hello',' ','world'])#不存在则创建,存在则删除后创建\n",
    "outfile.close()\n",
    "infile=open('outfile.txt','r')\n",
    "infile.read()"
   ]
  },
  {
   "cell_type": "code",
   "execution_count": 24,
   "metadata": {},
   "outputs": [
    {
     "name": "stdout",
     "output_type": "stream",
     "text": [
      "enter a souce file:outfile.txt\n",
      "enter a souce file:infile.txt\n",
      "1 lines and 11 chars copied\n"
     ]
    }
   ],
   "source": [
    "#file=open('file','r')\n",
    "#for line in file:\n",
    "# 处理\n",
    "# file.close()\n",
    "\n",
    "def main():\n",
    "    f1=input('enter a souce file:').strip()#去除空格\n",
    "    f2=input('enter a souce file:').strip()\n",
    "    infile=open(f1,'r')\n",
    "    outfile=open(f2,'w')\n",
    "    countlines=countchars=0\n",
    "    for line in infile:\n",
    "        countlines+=1\n",
    "        countchars+=len(line)\n",
    "        outfile.write(line)\n",
    "    print(countlines,'lines and',countchars,'chars copied')\n",
    "    infile.close()\n",
    "    outfile.close()\n",
    "main()"
   ]
  },
  {
   "cell_type": "code",
   "execution_count": 26,
   "metadata": {},
   "outputs": [
    {
     "name": "stdout",
     "output_type": "stream",
     "text": [
      "[[30.0, 0.0, 144.0, 0.0, 0.0, 0.0], [30.0, 0.0, 144.0, 0.0, 0.0, 1.0], [30.0, 0.0, 144.0, 0.0, 1.0, 0.0], [30.0, 0.0, 144.0, 0.0, 1.0, 1.0], [30.0, 0.0, 144.0, 1.0, 0.0, 0.0], [30.0, 0.0, 144.0, 1.0, 0.0, 1.0], [30.0, 0.0, 144.0, 1.0, 1.0, 0.0], [30.0, 0.0, 144.0, 1.0, 1.0, 1.0]]\n"
     ]
    }
   ],
   "source": [
    "\n",
    "result=[]\n",
    "file=open('C:/Users/hzg0601/Desktop/datapy.txt','r')\n",
    "for line in file:\n",
    "    result.append(list(map(float,line.split(','))))\n",
    "print(result)\n",
    "\n",
    "import turtle\n",
    "turtle.title('数据驱动的动态路径绘制')\n",
    "turtle.setup(800,600,0,0)#窗口大小,800*600的窗口\n",
    "pen=turtle.Turtle()\n",
    "pen.color('red')\n",
    "pen.width(5)\n",
    "pen.shape('turtle')\n",
    "pen.speed(5)\n",
    "#pen.fd(100)\n",
    "\n",
    "for i in range(len(result)):\n",
    "    pen.color((result[i][3],result[i][4],result[i][5]))\n",
    "    pen.fd(result[i][1])\n",
    "    if result[i][1]:\n",
    "        pen.rt(result[i][2])\n",
    "    else:\n",
    "        pen.lt(result[i][2])\n",
    "pen.goto(0,0)\n",
    "\n",
    "#if __name__=='__main__'"
   ]
  },
  {
   "cell_type": "code",
   "execution_count": 7,
   "metadata": {
    "collapsed": true
   },
   "outputs": [],
   "source": [
    "def main():\n",
    "    tel=open('C:/Users/hzg0601/Desktop/tel.txt','rb')\n",
    "    email=open('C:/Users/hzg0601/Desktop/email.txt','rb')\n",
    "    tel.readline()\n",
    "    email.readline()\n",
    "    telfile=tel.readlines()\n",
    "    emailfile=email.readlines()\n",
    "    \n",
    "    tel_name=[]\n",
    "    tel_tel=[]\n",
    "    email_name=[]\n",
    "    email_email=[]\n",
    "    \n",
    "    for line in telfile:\n",
    "        elements=line.split()\n",
    "        tel_name.append(str(elements[0].decode('gbk')))\n",
    "        tel_tel.append(str(elements[1].decode('gbk')))\n",
    "    for line in emailfile:\n",
    "        elements=line.split()\n",
    "        email_name.append(str(elements[0].decode('gbk')))\n",
    "        email_email.append(str(elements[1].decode('gbk')))\n",
    "    address=[]\n",
    "    address.append('姓名\\t  电话 \\t  邮箱\\n')\n",
    "    for i in range(len(tel_name)):\n",
    "        s=''\n",
    "        if tel_name[i] in email_name:\n",
    "            j=email_name.index(tel_name[i])#找到姓名列表中列表1对应列表2的姓名索引\n",
    "            s='\\t'.join([tel_name[i],tel_tel[i],email_email[j]])\n",
    "            s+='\\n'\n",
    "        else:\n",
    "            s='\\t'.join([tel_name[i],tel_tel[i],str('------------')])#以talbe键将字符串连接\n",
    "            s+='\\n'\n",
    "        address.append(s)\n",
    "    for i in range(len(email_name)):\n",
    "        s=''\n",
    "        if email_name[i] not in tel_name:\n",
    "            s='\\t'.join([email_name[i],str('-----------'),email_email[i]])\n",
    "            s+='\\n'\n",
    "        address.append(s)\n",
    "    addressfile=open('address.txt','w')\n",
    "    addressfile.writelines(address)\n",
    "    tel.close()\n",
    "    email.close()\n",
    "    addressfile.close()\n",
    "if __name__=='__main__':#__name__ 是当前模块名，当模块被直接运行时模块名为 __main__ 。\n",
    "    #当模块被直接运行时，以下代码块将被运行，当模块是被导入时，代码块不被运行而只是调用.\n",
    "    #在被其它程序调用时不会显示本程序的输出\n",
    "    main()"
   ]
  },
  {
   "cell_type": "code",
   "execution_count": 23,
   "metadata": {},
   "outputs": [
    {
     "data": {
      "text/plain": [
       "{'hzg': 3, 'xc': 1, 'zdx': 2}"
      ]
     },
     "execution_count": 23,
     "metadata": {},
     "output_type": "execute_result"
    }
   ],
   "source": [
    "#字典是无序数据结构\n",
    "#keys(),返回key列表;values(),返回值列表,item,返回所有键值的列表,clear,删除字典中所有项目;get(key),返回key对应的值,pop(key),删除并返回字典中\n",
    "#key对应的值,update(字典)将字典中的键值添加进去\n",
    "room338={'xc':1,'zdx':2,'hzg':3}\n",
    "type(room338.values())\n",
    "room338.items()\n",
    "room338.get('xc')\n",
    "room338.pop('zdx')\n",
    "room338\n",
    "zdx={'zdx':2}\n",
    "room338.update(zdx)\n",
    "room338"
   ]
  },
  {
   "cell_type": "code",
   "execution_count": 31,
   "metadata": {},
   "outputs": [
    {
     "name": "stdout",
     "output_type": "stream",
     "text": [
      "<class 'dict_values'>\n"
     ]
    }
   ],
   "source": [
    "dir(room338)\n",
    "print(type(room338.values()))"
   ]
  },
  {
   "cell_type": "code",
   "execution_count": 37,
   "metadata": {},
   "outputs": [
    {
     "name": "stdout",
     "output_type": "stream",
     "text": [
      "enter a filename:wordcount.py\n",
      "[('coding', 1), ('utf', 1), ('8', 1), ('\"\"\"', 2), ('created', 1), ('on', 1), ('sat', 1), ('feb', 1), ('3', 2), ('19', 1), ('37', 1), ('14', 1), ('2018', 1), ('author', 1), ('hzg0601', 1), ('import', 1), ('turtle', 5), ('count', 4), ('10', 2), ('data', 5), ('words', 4), ('yscale', 3), ('6', 1), ('xscale', 4), ('30', 1), ('def', 8), ('drawline', 7), ('t', 27), ('x1', 2), ('y1', 2), ('x2', 2), ('y2', 2), ('penup', 2), ('goto', 3), ('pendown', 2), ('drawtext', 3), ('x', 21), ('y', 9), ('text', 2), ('write', 1), ('drawgraph', 2), ('0', 14), ('360', 1), ('300', 1), ('for', 6), ('in', 8), ('range', 3), ('1', 12), ('4', 2), ('20', 1), ('drawbar', 2), ('drawrectangle', 2), ('5', 8), ('i', 8), ('processline', 2), ('line', 11), ('wordcounts', 6), ('repalcepunctions', 1), ('split', 1), ('word', 4), ('if', 3), ('else', 1), ('replacepunctions', 1), ('ch', 3), ('\\\\', 1), ('\"\"', 1), ('replace', 1), ('return', 1), ('main', 3), ('filename', 3), ('input', 1), ('enter', 1), ('a', 1), ('strip', 1), ('infile', 3), ('open', 1), ('r', 1), ('wordcount', 1), ('lower', 1), ('pairs', 1), ('list', 1), ('items', 2), ('sort', 1), ('len', 2), ('item', 6), ('print', 1), ('\\\\t', 1), ('str', 1), ('append', 2), ('wrod', 1), ('close', 1), ('title', 1), ('frequency', 1), ('statistics', 1), ('setup', 1), ('900', 1), ('700', 1), ('hideturtle', 1), ('width', 1), ('name', 1)]\n",
      "[[1, 'coding'], [1, 'utf'], [1, '8'], [2, '\"\"\"'], [1, 'created'], [1, 'on'], [1, 'sat'], [1, 'feb'], [2, '3'], [1, '19'], [1, '37'], [1, '14'], [1, '2018'], [1, 'author'], [1, 'hzg0601'], [1, 'import'], [5, 'turtle'], [4, 'count'], [2, '10'], [5, 'data'], [4, 'words'], [3, 'yscale'], [1, '6'], [4, 'xscale'], [1, '30'], [8, 'def'], [7, 'drawline'], [27, 't'], [2, 'x1'], [2, 'y1'], [2, 'x2'], [2, 'y2'], [2, 'penup'], [3, 'goto'], [2, 'pendown'], [3, 'drawtext'], [21, 'x'], [9, 'y'], [2, 'text'], [1, 'write'], [2, 'drawgraph'], [14, '0'], [1, '360'], [1, '300'], [6, 'for'], [8, 'in'], [3, 'range'], [12, '1'], [2, '4'], [1, '20'], [2, 'drawbar'], [2, 'drawrectangle'], [8, '5'], [8, 'i'], [2, 'processline'], [11, 'line'], [6, 'wordcounts'], [1, 'repalcepunctions'], [1, 'split'], [4, 'word'], [3, 'if'], [1, 'else'], [1, 'replacepunctions'], [3, 'ch'], [1, '\\\\'], [1, '\"\"'], [1, 'replace'], [1, 'return'], [3, 'main'], [3, 'filename'], [1, 'input'], [1, 'enter'], [1, 'a'], [1, 'strip'], [3, 'infile'], [1, 'open'], [1, 'r'], [1, 'wordcount'], [1, 'lower'], [1, 'pairs'], [1, 'list'], [2, 'items'], [1, 'sort'], [2, 'len'], [6, 'item'], [1, 'print'], [1, '\\\\t'], [1, 'str'], [2, 'append'], [1, 'wrod'], [1, 'close'], [1, 'title'], [1, 'frequency'], [1, 'statistics'], [1, 'setup'], [1, '900'], [1, '700'], [1, 'hideturtle'], [1, 'width'], [1, 'name']]\n",
      "[[1, '\"\"'], [1, '14'], [1, '19'], [1, '20'], [1, '2018'], [1, '30'], [1, '300'], [1, '360'], [1, '37'], [1, '6'], [1, '700'], [1, '8'], [1, '900'], [1, '\\\\'], [1, '\\\\t'], [1, 'a'], [1, 'author'], [1, 'close'], [1, 'coding'], [1, 'created'], [1, 'else'], [1, 'enter'], [1, 'feb'], [1, 'frequency'], [1, 'hideturtle'], [1, 'hzg0601'], [1, 'import'], [1, 'input'], [1, 'list'], [1, 'lower'], [1, 'name'], [1, 'on'], [1, 'open'], [1, 'pairs'], [1, 'print'], [1, 'r'], [1, 'repalcepunctions'], [1, 'replace'], [1, 'replacepunctions'], [1, 'return'], [1, 'sat'], [1, 'setup'], [1, 'sort'], [1, 'split'], [1, 'statistics'], [1, 'str'], [1, 'strip'], [1, 'title'], [1, 'utf'], [1, 'width'], [1, 'wordcount'], [1, 'write'], [1, 'wrod'], [2, '\"\"\"'], [2, '10'], [2, '3'], [2, '4'], [2, 'append'], [2, 'drawbar'], [2, 'drawgraph'], [2, 'drawrectangle'], [2, 'items'], [2, 'len'], [2, 'pendown'], [2, 'penup'], [2, 'processline'], [2, 'text'], [2, 'x1'], [2, 'x2'], [2, 'y1'], [2, 'y2'], [3, 'ch'], [3, 'drawtext'], [3, 'filename'], [3, 'goto'], [3, 'if'], [3, 'infile'], [3, 'main'], [3, 'range'], [3, 'yscale'], [4, 'count'], [4, 'word'], [4, 'words'], [4, 'xscale'], [5, 'data'], [5, 'turtle'], [6, 'for'], [6, 'item'], [6, 'wordcounts'], [7, 'drawline'], [8, '5'], [8, 'def'], [8, 'i'], [8, 'in'], [9, 'y'], [11, 'line'], [12, '1'], [14, '0'], [21, 'x'], [27, 't']]\n",
      "t\t27\n",
      "x\t21\n",
      "0\t14\n",
      "1\t12\n",
      "line\t11\n",
      "y\t9\n",
      "in\t8\n",
      "i\t8\n",
      "def\t8\n",
      "5\t8\n"
     ]
    }
   ],
   "source": [
    "import turtle\n",
    " \n",
    "##全局变量##\n",
    "#词频排列显示个数\n",
    "count = 10\n",
    "#单词频率数组-作为y轴数据\n",
    "data = []\n",
    "#单词数组-作为x轴数据\n",
    "words = []\n",
    "#y轴显示放大倍数-可以根据词频数量进行调节\n",
    "yScale = 6\n",
    "#x轴显示放大倍数-可以根据count数量进行调节\n",
    "xScale = 30\n",
    " \n",
    "################# Turtle Start  ####################  \n",
    "#从点(x1,y1)到(x2,y2)绘制线段\n",
    "def drawLine(t, x1, y1, x2, y2):\n",
    "    t.penup()\n",
    "    t.goto (x1, y1)\n",
    "    t.pendown()\n",
    "    t.goto (x2, y2)\n",
    " \n",
    " # 在坐标(x,y)处写文字\n",
    "\n",
    "def drawText(t, x, y, text):\n",
    "    t.penup()\n",
    "    t.goto (x, y)\n",
    "    t.pendown()\n",
    "    t.write(text)\n",
    " \n",
    "def drawGraph(t):\n",
    "    #绘制x/y轴线\n",
    "    drawLine (t, 0, 0, 360, 0)#x轴长度360\n",
    "    drawLine (t, 0, 300, 0, 0)#y轴长度300\n",
    " \n",
    "    #x轴: 坐标及描述\n",
    "    for x in range(count):\n",
    "        x=x+1 #向右移一位,为了不画在原点上\n",
    "        drawText(t, x*xScale-4, -20, (words[x-1]))#在x轴之下写文本\n",
    "        drawText(t, x*xScale-4, data[x-1]*yScale+10, data[x-1])#在频度条之上写文本\n",
    "    drawBar(t)\n",
    " \n",
    " #绘制一个柱体\n",
    "def drawRectangle(t, x, y):\n",
    "    x = x*xScale\n",
    "    y = y*yScale#放大倍数显示\n",
    "    drawLine(t, x-5, 0, x-5, y)\n",
    "    drawLine(t, x-5, y, x+5, y)#频度条的宽度是10\n",
    "    drawLine(t, x+5, y, x+5, 0)\n",
    "    drawLine(t, x+5, 0, x-5, 0)\n",
    "     \n",
    "#绘制多个柱体\n",
    "def drawBar(t):\n",
    "    for i in range(count):\n",
    "        drawRectangle(t, i+1, data[i])    \n",
    "################# Turtle End  ####################\n",
    " \n",
    "         \n",
    "#对文本的每一行计算词频的函数\n",
    "def processLine(line, wordCounts):\n",
    "    #用空格替换标点符号\n",
    "    line = replacePunctuations(line)\n",
    "    #从每一行获取每个词\n",
    "    words = line.split() \n",
    "    for word in words:#对于新读入的一行的每个词\n",
    "        if word in wordCounts:#如果这个词已经在字典中\n",
    "            wordCounts[word] += 1#更新其词频\n",
    "        else:\n",
    "            wordCounts[word] = 1#如果不存在,设该词的频率为1,将该词加入到字典中\n",
    " \n",
    " #空格替换标点的函数\n",
    "def replacePunctuations(line):\n",
    "    for ch in line:\n",
    "        if ch in \"~@#$%^&*()_-+=<>?/,.:;{}[]|\\'\"\"\":\n",
    "            line = line.replace(ch, \" \")\n",
    "    return line\n",
    " \n",
    "def main():\n",
    "    #用户输入一个文件名\n",
    "    filename = input(\"enter a filename:\").strip()\n",
    "    infile = open(filename, \"r\")#作为整个列表读入\n",
    "     \n",
    "    #建立用于计算词频的空字典\n",
    "    wordCounts = {}\n",
    "    for line in infile:#列表中的每一项,即数据中的每一行\n",
    "        processLine(line.lower(), wordCounts)\n",
    "         \n",
    "    #从字典中获取数据对\n",
    "    pairs = list(wordCounts.items())\n",
    " \n",
    "    #列表中的数据对交换位置,数据对排序\n",
    "    items = [[x,y]for (y,x)in pairs] \n",
    "    print(pairs)\n",
    "    print(items)\n",
    "    items.sort() \n",
    "    print(items)\n",
    " \n",
    "    #输出count个数词频结果\n",
    "    for i in range(len(items)-1, len(items)-count-1, -1):\n",
    "        print(items[i][1]+\"\\t\"+str(items[i][0]))\n",
    "        data.append(items[i][0])\n",
    "        words.append(items[i][1])\n",
    "         \n",
    "    infile.close()\n",
    "     \n",
    "    #根据词频结果绘制柱状图\n",
    "    turtle.title('词频结果柱状图')\n",
    "    turtle.setup(900, 750, 0, 0)\n",
    "    t = turtle.Turtle()\n",
    "    t.hideturtle()\n",
    "    t.width(3)\n",
    "    drawGraph(t)\n",
    "         \n",
    "#调用main()函数\n",
    "if __name__ == '__main__':\n",
    "    main()"
   ]
  },
  {
   "cell_type": "code",
   "execution_count": 75,
   "metadata": {},
   "outputs": [
    {
     "data": {
      "text/plain": [
       "\"h's name is zg\""
      ]
     },
     "execution_count": 75,
     "metadata": {},
     "output_type": "execute_result"
    }
   ],
   "source": [
    "name={'h':'zg','x':'c','z':'dx'}\n",
    "\"h's name is {h}\".format_map(name)"
   ]
  },
  {
   "cell_type": "code",
   "execution_count": 76,
   "metadata": {},
   "outputs": [
    {
     "name": "stdout",
     "output_type": "stream",
     "text": [
      "{'h': ['06'], 'x': 'c', 'z': 'dx'}\n",
      "{'h': ['06'], 'x': 'c', 'z': 'dx'}\n",
      "{'h': [], 'x': 'c', 'z': 'dx'}\n",
      "{'h': [], 'x': 'c', 'z': 'dx'}\n"
     ]
    }
   ],
   "source": [
    "name={'h':['zg','06'],'x':'c','z':'dx'}\n",
    "namec=name.copy()#复制,副本与原件指向同一个东西\n",
    "name['h'].remove('zg')\n",
    "print(name)\n",
    "print(namec)\n",
    "\n",
    "namec['h'].remove('06')\n",
    "print(name)\n",
    "print(namec)"
   ]
  },
  {
   "cell_type": "code",
   "execution_count": 80,
   "metadata": {},
   "outputs": [
    {
     "name": "stdout",
     "output_type": "stream",
     "text": [
      "{'h': ['zg', '06', '07'], 'x': 'c', 'z': 'dx'}\n",
      "{'h': ['zg', '06'], 'x': 'c', 'z': 'dx'}\n"
     ]
    }
   ],
   "source": [
    "from copy import deepcopy\n",
    "name={'h':['zg','06'],'x':'c','z':'dx'}\n",
    "namec=name.copy()\n",
    "ndc=deepcopy(name)\n",
    "name['h'].append('07')#增加条目\n",
    "print(namec)\n",
    "print(ndc)"
   ]
  },
  {
   "cell_type": "code",
   "execution_count": 81,
   "metadata": {},
   "outputs": [
    {
     "name": "stdout",
     "output_type": "stream",
     "text": [
      "dict_keys(['h', 'x', 'z'])\n",
      "dict_items([('h', ['zg', '06', '07']), ('x', 'c'), ('z', 'dx')])\n",
      "['zg', '06', '07']\n",
      "('z', 'dx')\n"
     ]
    },
    {
     "data": {
      "text/plain": [
       "dict_values(['c'])"
      ]
     },
     "execution_count": 81,
     "metadata": {},
     "output_type": "execute_result"
    }
   ],
   "source": [
    "print(name.keys())#获得键\n",
    "print(name.items())#获得键值,以列表\n",
    "\n",
    "print(name.pop('h'))#获得与指定键关联的值\n",
    "print(name.popitem())#获得字典的最后一个值\n",
    "name.values()#获得全部值*********************"
   ]
  },
  {
   "cell_type": "code",
   "execution_count": 62,
   "metadata": {},
   "outputs": [
    {
     "data": {
      "text/plain": [
       "{'age': '(h,06)', 'name': '(h,06)'}"
      ]
     },
     "execution_count": 62,
     "metadata": {},
     "output_type": "execute_result"
    }
   ],
   "source": [
    "d={}\n",
    "d.fromkeys(['name','age'],'(h,06)')#添加键及默认值\n"
   ]
  },
  {
   "cell_type": "code",
   "execution_count": 69,
   "metadata": {},
   "outputs": [
    {
     "data": {
      "text/plain": [
       "{'age': '29', 'name': 'h', 'sex': 'male'}"
      ]
     },
     "execution_count": 69,
     "metadata": {},
     "output_type": "execute_result"
    }
   ],
   "source": [
    "d.setdefault('sex','male')#在字典添加键及默认值\n",
    "d"
   ]
  },
  {
   "cell_type": "code",
   "execution_count": 67,
   "metadata": {},
   "outputs": [
    {
     "data": {
      "text/plain": [
       "'h'"
      ]
     },
     "execution_count": 67,
     "metadata": {},
     "output_type": "execute_result"
    }
   ],
   "source": [
    "d={}\n",
    "d['name']='h'\n",
    "d.get('name')#只能通过键索引"
   ]
  },
  {
   "cell_type": "code",
   "execution_count": 68,
   "metadata": {},
   "outputs": [
    {
     "data": {
      "text/plain": [
       "{'age': '29', 'name': 'h'}"
      ]
     },
     "execution_count": 68,
     "metadata": {},
     "output_type": "execute_result"
    }
   ],
   "source": [
    "age={'age':'29'}\n",
    "d.update(age)\n",
    "d"
   ]
  },
  {
   "cell_type": "code",
   "execution_count": 83,
   "metadata": {},
   "outputs": [
    {
     "data": {
      "text/plain": [
       "dict_values([1, 2, 2])"
      ]
     },
     "execution_count": 83,
     "metadata": {},
     "output_type": "execute_result"
    }
   ],
   "source": [
    "d={}\n",
    "d['h']=1\n",
    "d['z']=2\n",
    "d['g']=2\n",
    "d.values()#获得所有值"
   ]
  },
  {
   "cell_type": "code",
   "execution_count": 84,
   "metadata": {},
   "outputs": [
    {
     "name": "stdout",
     "output_type": "stream",
     "text": [
      "name:h\n",
      "Phone number (p) or address (a)?p\n"
     ]
    },
    {
     "ename": "NameError",
     "evalue": "name 'labers' is not defined",
     "output_type": "error",
     "traceback": [
      "\u001b[1;31m---------------------------------------------------------------------------\u001b[0m",
      "\u001b[1;31mNameError\u001b[0m                                 Traceback (most recent call last)",
      "\u001b[1;32m<ipython-input-84-2a8e5b15ae59>\u001b[0m in \u001b[0;36m<module>\u001b[1;34m()\u001b[0m\n\u001b[0;32m      9\u001b[0m \u001b[1;32mif\u001b[0m \u001b[0mrequest\u001b[0m\u001b[1;33m==\u001b[0m\u001b[1;34m'a'\u001b[0m\u001b[1;33m:\u001b[0m\u001b[0mkey\u001b[0m\u001b[1;33m=\u001b[0m\u001b[1;34m'addr'\u001b[0m\u001b[1;33m\u001b[0m\u001b[0m\n\u001b[0;32m     10\u001b[0m \u001b[1;31m#person=people.get(name,{})\u001b[0m\u001b[1;33m\u001b[0m\u001b[1;33m\u001b[0m\u001b[0m\n\u001b[1;32m---> 11\u001b[1;33m \u001b[0mlabel\u001b[0m\u001b[1;33m=\u001b[0m\u001b[0mlabers\u001b[0m\u001b[1;33m.\u001b[0m\u001b[0mget\u001b[0m\u001b[1;33m(\u001b[0m\u001b[0mkey\u001b[0m\u001b[1;33m,\u001b[0m\u001b[0mkey\u001b[0m\u001b[1;33m)\u001b[0m\u001b[1;33m\u001b[0m\u001b[0m\n\u001b[0m\u001b[0;32m     12\u001b[0m \u001b[0mresult\u001b[0m\u001b[1;33m=\u001b[0m\u001b[0mperson\u001b[0m\u001b[1;33m.\u001b[0m\u001b[0mget\u001b[0m\u001b[1;33m(\u001b[0m\u001b[0mkey\u001b[0m\u001b[1;33m,\u001b[0m\u001b[1;34m'not available'\u001b[0m\u001b[1;33m)\u001b[0m\u001b[1;33m\u001b[0m\u001b[0m\n\u001b[0;32m     13\u001b[0m \u001b[0mprint\u001b[0m\u001b[1;33m(\u001b[0m\u001b[1;34m\"{}'s {}.\"\u001b[0m\u001b[1;33m.\u001b[0m\u001b[0mformat\u001b[0m\u001b[1;33m(\u001b[0m\u001b[0mname\u001b[0m\u001b[1;33m,\u001b[0m\u001b[0mlabel\u001b[0m\u001b[1;33m,\u001b[0m\u001b[0mresult\u001b[0m\u001b[1;33m)\u001b[0m\u001b[1;33m)\u001b[0m\u001b[1;33m\u001b[0m\u001b[0m\n",
      "\u001b[1;31mNameError\u001b[0m: name 'labers' is not defined"
     ]
    }
   ],
   "source": [
    "label={\n",
    "    'phone':'phone number',\n",
    "    'addr':'address'\n",
    "}\n",
    "name=input('name:')\n",
    "request=input('Phone number (p) or address (a)?')\n",
    "key=request\n",
    "if request=='p':key='phone'\n",
    "if request=='a':key='addr'\n",
    "#person=people.get(name,{})\n",
    "label=labers.get(key,key)\n",
    "result=person.get(key,'not available')\n",
    "print(\"{}'s {}.\".format(name,label,result))\n"
   ]
  },
  {
   "cell_type": "code",
   "execution_count": null,
   "metadata": {},
   "outputs": [],
   "source": []
  }
 ],
 "metadata": {
  "kernelspec": {
   "display_name": "Python 3",
   "language": "python",
   "name": "python3"
  },
  "language_info": {
   "codemirror_mode": {
    "name": "ipython",
    "version": 3
   },
   "file_extension": ".py",
   "mimetype": "text/x-python",
   "name": "python",
   "nbconvert_exporter": "python",
   "pygments_lexer": "ipython3",
   "version": "3.6.5"
  },
  "latex_envs": {
   "LaTeX_envs_menu_present": true,
   "autoclose": true,
   "autocomplete": false,
   "bibliofile": "biblio.bib",
   "cite_by": "apalike",
   "current_citInitial": 1,
   "eqLabelWithNumbers": true,
   "eqNumInitial": 1,
   "hotkeys": {
    "equation": "Ctrl-E",
    "itemize": "Ctrl-I"
   },
   "labels_anchors": false,
   "latex_user_defs": false,
   "report_style_numbering": false,
   "user_envs_cfg": false
  },
  "toc": {
   "base_numbering": 1,
   "nav_menu": {},
   "number_sections": true,
   "sideBar": false,
   "skip_h1_title": false,
   "title_cell": "Table of Contents",
   "title_sidebar": "Contents",
   "toc_cell": false,
   "toc_position": {},
   "toc_section_display": true,
   "toc_window_display": false
  }
 },
 "nbformat": 4,
 "nbformat_minor": 2
}
