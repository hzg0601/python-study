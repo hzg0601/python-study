{
 "cells": [
  {
   "cell_type": "code",
   "execution_count": 2,
   "metadata": {},
   "outputs": [
    {
     "name": "stdout",
     "output_type": "stream",
     "text": [
      "It is a program to simulate badminton games.\n",
      "please enter the data(probability of a and b, and the games n to simulate):0.65,0.6,1000\n",
      "in the 1000 simulations: A win 685 games,B win 315 games,hence the winning rate of A is 0.685,and B is 0.315.\n"
     ]
    }
   ],
   "source": [
    "from random import *\n",
    "def main():\n",
    "    information()\n",
    "    pa,pb,n=getinput()\n",
    "    ra,rb=simungame(pa,pb,n)\n",
    "    summary(ra,rb)\n",
    "    \n",
    "def information():\n",
    "    print('It is a program to simulate badminton games.')\n",
    "    \n",
    "def getinput():\n",
    "    pa,pb,n=eval(input('please enter the data(probability of a and b, and the games n to simulate):'))\n",
    "    return pa,pb,n\n",
    "\n",
    "def simungame(pa,pb,n):\n",
    "    ra=0\n",
    "    rb=0\n",
    "    for i in range(n):\n",
    "        sa,sb=simuonegame(pa,pb)\n",
    "        if sa>sb:\n",
    "            ra+=1\n",
    "        else:\n",
    "            rb+=1\n",
    "    return ra,rb\n",
    "\n",
    "def simuonegame(pa,pb):\n",
    "    sa=0\n",
    "    sb=0\n",
    "    serving='a'\n",
    "    while not gameover(sa,sb):\n",
    "        if serving=='a':\n",
    "            if random()<pa:\n",
    "                sa+=1\n",
    "            else:\n",
    "                serving='b'\n",
    "        else:\n",
    "            if random()<pb:\n",
    "                sb+=1\n",
    "            else:\n",
    "                serving='a'\n",
    "    return sa,sb\n",
    "\n",
    "def gameover(sa,sb):\n",
    "    if (sa>=21 or sb>=21) and abs(sa-sb)>=2:\n",
    "        return 1\n",
    "    else:\n",
    "        return 0\n",
    "def summary(ra,rb):\n",
    "    n=ra+rb\n",
    "    ar=ra/n\n",
    "    br=rb/n\n",
    "    print('in the %d simulations: A win %d games,B win %d games,hence the winning rate of A is %0.3f,and B is %0.3f.'%(n,ra,rb,ar,br))\n",
    "    \n",
    "if __name__=='__main__':\n",
    "    main()"
   ]
  },
  {
   "cell_type": "code",
   "execution_count": 14,
   "metadata": {},
   "outputs": [
    {
     "name": "stdout",
     "output_type": "stream",
     "text": [
      "enter name of the grade file:C:/Users/hzg0601/Desktop/GPA.txt\n",
      "the best student is: dlm\n",
      "hours 14141.0\n",
      "GPA 13.293897178417367\n"
     ]
    }
   ],
   "source": [
    "class student:\n",
    "    def __init__(self,name,hours,qpoints):\n",
    "        self.name=name\n",
    "        self.hours=float(hours)\n",
    "        self.qpoints=float(qpoints)\n",
    "    def getname(self):\n",
    "        return self.name\n",
    "    def gethours(self):\n",
    "        return self.hours\n",
    "    def getqpoints(self):\n",
    "        return self.qpoints\n",
    "    def gpa(self):\n",
    "        return self.qpoints/self.hours\n",
    "    \n",
    "def makestudent(infostr):\n",
    "    name,hours,qpoints=infostr.split()\n",
    "    return student(name,hours,qpoints)\n",
    "def main():\n",
    "    filename=input('enter name of the grade file:')\n",
    "    infile=open(filename,'r')\n",
    "    best=makestudent(infile.readline())\n",
    "    for line in infile:\n",
    "        s=makestudent(line)\n",
    "    if s.gpa()>best.gpa():\n",
    "        best=s\n",
    "    infile.close()\n",
    "    print('the best student is:',best.getname())\n",
    "    print('hours',best.gethours())\n",
    "    print('GPA',best.gpa())\n",
    "    \n",
    "if __name__=='__main__':\n",
    "    main()\n",
    "    "
   ]
  },
  {
   "cell_type": "code",
   "execution_count": 16,
   "metadata": {},
   "outputs": [
    {
     "name": "stdout",
     "output_type": "stream",
     "text": [
      "Enter name the grade file: C:/Users/hzg0601/Desktop/GPA.txt\n",
      "The best student is: dlm\n",
      "hours: 14141.0\n",
      "GPA: 13.293897178417367\n"
     ]
    }
   ],
   "source": [
    "class Student:\n",
    "    def __init__(self, name, hours, qpoints):\n",
    "        self.name = name\n",
    "        self.hours = float(hours)\n",
    "        self.qpoints = float(qpoints)\n",
    "     \n",
    "    def getName(self):\n",
    "        return self.name\n",
    "     \n",
    "    def getHours(self):\n",
    "        return self.hours\n",
    "     \n",
    "    def getQPoints(self):\n",
    "        return self.qpoints\n",
    "     \n",
    "    def gpa(self):\n",
    "        return self.qpoints/self.hours\n",
    "     \n",
    "def makeStudent(infoStr):\n",
    "    name, hours, qpoints = infoStr.split()\n",
    "    return Student(name, hours, qpoints)\n",
    "     \n",
    "def main():\n",
    "    # 打开输入文件\n",
    "    filename = input(\"Enter name the grade file: \")\n",
    "    infile = open(filename, 'r')\n",
    "    # 设置文件中第一个学生的记录为best\n",
    "    best = makeStudent(infile.readline())\n",
    " \n",
    "    # 处理文件剩余行数据\n",
    "    for line in infile:\n",
    "        # 将每一行数据转换为一个记录\n",
    "        s = makeStudent(line)\n",
    "        # 如果该学生是目前GPA最高的，则记录下来\n",
    "        if s.gpa() > best.gpa():\n",
    "            best = s\n",
    "    infile.close()\n",
    " \n",
    "    # 打印GPA成绩最高的学生信息\n",
    "    print(\"The best student is:\", best.getName())\n",
    "    print(\"hours:\", best.getHours())\n",
    "    print(\"GPA:\", best.gpa())\n",
    " \n",
    "if __name__ == '__main__':\n",
    "    main()"
   ]
  }
 ],
 "metadata": {
  "kernelspec": {
   "display_name": "Python 3",
   "language": "python",
   "name": "python3"
  },
  "language_info": {
   "codemirror_mode": {
    "name": "ipython",
    "version": 3
   },
   "file_extension": ".py",
   "mimetype": "text/x-python",
   "name": "python",
   "nbconvert_exporter": "python",
   "pygments_lexer": "ipython3",
   "version": "3.6.4"
  }
 },
 "nbformat": 4,
 "nbformat_minor": 2
}
