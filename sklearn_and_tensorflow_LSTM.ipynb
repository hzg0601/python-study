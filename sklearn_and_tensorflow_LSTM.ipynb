{
 "cells": [
  {
   "cell_type": "code",
   "execution_count": null,
   "metadata": {},
   "outputs": [],
   "source": [
    "#RNN与前反馈神经网络类似，但与后续节点也有连接的通道。\n"
   ]
  },
  {
   "cell_type": "code",
   "execution_count": null,
   "metadata": {},
   "outputs": [],
   "source": [
    "##LSTM \n",
    "#LSTM\n",
    "import tensorflow as tf\n",
    "n_inputs=3\n",
    "n_neurons=5\n",
    "X0=tf.placeholder(tf.float32,[None,n_inputs])\n",
    "X1=tf.placeholder(tf.float32,[None,n_inputs])\n",
    "Wx=tf.Variable(tf.random_normal(shape=[n_inputs,n_neurons],dtype=tf.float32))\n",
    "Wy=tf.Variable(tf.random_normal(shape=[n_neurons],dtype=tf.float32))\n",
    "b=tf.Variable(tf.zeros([1,n_neurons],dtype=tf.float32))\n",
    "Y0=tf.tanh(tf.matmul(X0,Wx)+b)\n",
    "Y1=tf.tanh(tf.matmul(Y0,Wy)+tf.matmul(X1,Wx)+b)\n",
    "\n",
    "init=tf.global_variables_initializer()\n",
    "lstm_cell=tf.contrib.rnn.BasicLSTMCell(num_units=n_neurons)"
   ]
  }
 ],
 "metadata": {
  "kernelspec": {
   "display_name": "Python 3",
   "language": "python",
   "name": "python3"
  },
  "language_info": {
   "codemirror_mode": {
    "name": "ipython",
    "version": 3
   },
   "file_extension": ".py",
   "mimetype": "text/x-python",
   "name": "python",
   "nbconvert_exporter": "python",
   "pygments_lexer": "ipython3",
   "version": "3.6.5"
  },
  "latex_envs": {
   "LaTeX_envs_menu_present": true,
   "autoclose": true,
   "autocomplete": false,
   "bibliofile": "biblio.bib",
   "cite_by": "apalike",
   "current_citInitial": 1,
   "eqLabelWithNumbers": true,
   "eqNumInitial": 1,
   "hotkeys": {
    "equation": "Ctrl-E",
    "itemize": "Ctrl-I"
   },
   "labels_anchors": false,
   "latex_user_defs": false,
   "report_style_numbering": false,
   "user_envs_cfg": false
  },
  "toc": {
   "base_numbering": 1,
   "nav_menu": {},
   "number_sections": true,
   "sideBar": false,
   "skip_h1_title": false,
   "title_cell": "Table of Contents",
   "title_sidebar": "Contents",
   "toc_cell": false,
   "toc_position": {},
   "toc_section_display": true,
   "toc_window_display": false
  }
 },
 "nbformat": 4,
 "nbformat_minor": 2
}
