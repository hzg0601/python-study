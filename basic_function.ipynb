{
 "cells": [
  {
   "cell_type": "code",
   "execution_count": 4,
   "metadata": {},
   "outputs": [
    {
     "name": "stdout",
     "output_type": "stream",
     "text": [
      "happy birthday to you\n",
      "happy birthday to you\n",
      "happy birthday to hzg\n",
      "happy birthday to you\n",
      "\n",
      "happy birthday to you\n",
      "happy birthday to you\n",
      "happy birthday to zdx\n",
      "happy birthday to you\n",
      "\n"
     ]
    }
   ],
   "source": [
    "#形参定义,实参调用 \n",
    "#return是可选的,可以出现在函数的任意位置\n",
    "def happy():\n",
    "    print('happy birthday to you')\n",
    "def sing(person):\n",
    "    happy()\n",
    "    happy()\n",
    "    print('happy birthday to %s'%person)\n",
    "    happy()\n",
    "    print()\n",
    "sing('hzg')\n",
    "sing('zdx')"
   ]
  },
  {
   "cell_type": "code",
   "execution_count": 13,
   "metadata": {},
   "outputs": [
    {
     "name": "stdout",
     "output_type": "stream",
     "text": [
      "please enter (x,y) of the three points in turn:\n",
      "point1>>5,6,6,7,6,5\n",
      "the perimeter of the triangle is: 4.83\n"
     ]
    }
   ],
   "source": [
    "import math\n",
    "def square(x):\n",
    "    return x**2\n",
    "def distance(x1,y1,x2,y2):\n",
    "    dist=math.sqrt(square(x1-x2)+square(y1-y2))\n",
    "    return dist\n",
    "def istriangle(x1,x2,x3,y1,y2,y3):\n",
    "    flag=((x1-x2)*(y3-y2)-(x3-x2)*(y1-y2))!=0\n",
    "    return flag\n",
    "def main():\n",
    "    print('please enter (x,y) of the three points in turn:')\n",
    "    x1,y1,x2,y2,x3,y3=eval(input('point1>>'))\n",
    "    if (istriangle(x1,x2,x3,y1,y2,y3)):\n",
    "        perim=distance(x1,y1,x2,y2)+distance(x2,y2,x3,y3)+distance(x1,y1,x3,y3)\n",
    "        print('the perimeter of the triangle is: {0:0.2f}'.format(perim))\n",
    "        #print('the perimeter of the triangle is %0.2f '%perim)\n",
    "    else:\n",
    "        print('It is not a triangle')\n",
    "main()\n",
    "        "
   ]
  },
  {
   "cell_type": "code",
   "execution_count": 16,
   "metadata": {},
   "outputs": [
    {
     "name": "stdout",
     "output_type": "stream",
     "text": [
      "please enter the number:4,5\n",
      "9 -1\n"
     ]
    }
   ],
   "source": [
    "def sumdiff(x,y):\n",
    "    sum=x+y\n",
    "    diff=x-y\n",
    "    return sum,diff\n",
    "x,y=eval(input('please enter the number:'))\n",
    "s,d=sumdiff(x,y)\n",
    "print(s,d)"
   ]
  },
  {
   "cell_type": "code",
   "execution_count": 50,
   "metadata": {},
   "outputs": [
    {
     "name": "stdout",
     "output_type": "stream",
     "text": [
      "[1050.0, 2100.0]\n"
     ]
    }
   ],
   "source": [
    "def interest(balance,ratio):\n",
    "    for i in range(len(balance)):\n",
    "        balance[i]=(1+ratio)*balance[i]#列表等才可被修改,而元组,数字,字符串等不可被修改\n",
    "    return balance\n",
    "def main():\n",
    "    amount=[1000,2000]\n",
    "    rate=0.05\n",
    "    interest(amount,rate)\n",
    "    print(amount)\n",
    "main()"
   ]
  },
  {
   "cell_type": "code",
   "execution_count": 4,
   "metadata": {},
   "outputs": [
    {
     "name": "stdout",
     "output_type": "stream",
     "text": [
      "please enter the amounts:1000,20000\n",
      "<class 'list'>\n",
      "please enter the rate:0.05\n",
      "[1050.0, 21000.0]\n"
     ]
    }
   ],
   "source": [
    "def interest(balances,rate):\n",
    "    newbalances=balances\n",
    "    for i in range(len(newbalances)):\n",
    "        newbalances[i]=newbalances[i]*(1+rate)\n",
    "    return newbalances\n",
    "def main():\n",
    "    amounts=list(eval(input('please enter the amounts:')))#默认为tuple\n",
    "    print(type(amounts))\n",
    "    rate=eval(input('please enter the rate:'))\n",
    "    interest(amounts,rate)#python 是通过值来传递的,若变量是可变对象,返回到调用后,该对象呈现被修改后的状态\n",
    "    print(amounts)\n",
    "main()"
   ]
  },
  {
   "cell_type": "code",
   "execution_count": 7,
   "metadata": {},
   "outputs": [
    {
     "name": "stdout",
     "output_type": "stream",
     "text": [
      "plot the growth of a 10-year investment\n",
      "enter the initial principal:1000,1200\n",
      "enter the anualized interest rate:0.05\n"
     ]
    }
   ],
   "source": [
    "def createtable(principal,apr):\n",
    "    for year in range(1,11):\n",
    "        principal=principal*(1+apr)\n",
    "        print('%2d'%year,end=' ')\n",
    "        total=caculatenum(principal)\n",
    "        print('*'*total)\n",
    "    print('0.0K  2.5K  5.0K  7.5K  10.0K')\n",
    "def caculatenum(pricipal):\n",
    "    total=int(pricipal*4/1000)\n",
    "    return total\n",
    "def main():\n",
    "    print('plot the growth of a 10-year investment')\n",
    "    principal=eval(input('enter the initial principal:'))\n",
    "    apr=eval(input('enter the anualized interest rate:'))\n",
    "    createtable=(principal,apr)\n",
    "main()"
   ]
  },
  {
   "cell_type": "code",
   "execution_count": 9,
   "metadata": {},
   "outputs": [
    {
     "data": {
      "text/plain": [
       "'olleh'"
      ]
     },
     "execution_count": 9,
     "metadata": {},
     "output_type": "execute_result"
    }
   ],
   "source": [
    "def reverse(s):\n",
    "    if s=='':\n",
    "        return s\n",
    "    else:\n",
    "        return reverse(s[1:])+s[0]\n",
    "reverse('hello')"
   ]
  },
  {
   "cell_type": "code",
   "execution_count": 74,
   "metadata": {
    "collapsed": true
   },
   "outputs": [],
   "source": [
    "from turtle import Turtle\n",
    "p=Turtle()\n",
    "p.speed(3)\n",
    "p.pensize(5)\n",
    "p.hideturtle()\n",
    "p.color('black','yellow')\n",
    "p.begin_fill()\n",
    "for i in range(5):\n",
    "    p.forward(200)#距离\n",
    "    p.right(144)#角度\n",
    "p.end_fill()"
   ]
  },
  {
   "cell_type": "code",
   "execution_count": 97,
   "metadata": {
    "collapsed": true
   },
   "outputs": [],
   "source": [
    "def maketree(x,y):\n",
    "    p=Turtle()\n",
    "    p.color('green')\n",
    "    p.pensize(3)\n",
    "    p.speed(200)\n",
    "    p.hideturtle()\n",
    "    p.getscreen().tracer(30,0)#return the turtlescreen object the turtle is drawing on.\n",
    "    #turtlescreen methods can then be called for that object.\n",
    "    p.left(90)\n",
    "    p.penup()\n",
    "    p.goto(x,y)\n",
    "    p.pendown()\n",
    "    t=tree([p],110,60,0.6375)\n",
    "    \n",
    "def tree(plist,l,a,f):\n",
    "    if l>5:\n",
    "        lst=[]#基例\n",
    "        for p in plist:#plist is the list of pens\n",
    "            p.forward(l)\n",
    "            q=p.clone()#create and return a clone of a turtle with same position,heading and turtle properties\n",
    "            p.left(a)#\n",
    "            q.right(a)#turn turtle right by angle units,units are by default degrees,but can be set via degrees() and radians()\n",
    "            lst.append(p)\n",
    "            lst.append(q)\n",
    "        tree(lst,l*f,a,f)\n",
    "def main():\n",
    "    maketree(0,0)\n",
    "    maketree(0,300)\n",
    "    maketree(300,0)\n",
    "    maketree(300,300)\n",
    "main()"
   ]
  },
  {
   "cell_type": "code",
   "execution_count": null,
   "metadata": {
    "collapsed": true
   },
   "outputs": [],
   "source": []
  }
 ],
 "metadata": {
  "kernelspec": {
   "display_name": "Python 3",
   "language": "python",
   "name": "python3"
  },
  "language_info": {
   "codemirror_mode": {
    "name": "ipython",
    "version": 3
   },
   "file_extension": ".py",
   "mimetype": "text/x-python",
   "name": "python",
   "nbconvert_exporter": "python",
   "pygments_lexer": "ipython3",
   "version": "3.6.1"
  }
 },
 "nbformat": 4,
 "nbformat_minor": 2
}
