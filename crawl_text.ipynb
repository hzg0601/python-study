{
 "cells": [
  {
   "cell_type": "code",
   "execution_count": 9,
   "metadata": {},
   "outputs": [
    {
     "name": "stdout",
     "output_type": "stream",
     "text": [
      "done!\n"
     ]
    }
   ],
   "source": [
    "import requests as rq\n",
    "import re\n",
    "import os \n",
    "\n",
    "start_url='http://bxjg.circ.gov.cn/web/site0/tab5224/module14369/page3.htm'\n",
    "root_url='http://bxjg.circ.gov.cn'\n",
    "root='D://pics//text//'\n",
    "\n",
    "def getHtml(url):\n",
    "    page = rq.get(url)\n",
    "    page.encoding=page.apparent_encoding\n",
    "    return page.text\n",
    "\n",
    "def getUrl(html):\n",
    "    reg = r'(?:href|HREF)=\"?((?:http://)?.+?\\.htm)'\n",
    "    url_re = re.compile(reg)\n",
    "    url_lst = re.findall(url_re,html)\n",
    "    return(url_lst)\n",
    "page=getHtml(start_url)\n",
    "url_list=getUrl(page)\n",
    "url_list\n",
    "\n",
    "for url in url_list:\n",
    "    url=root_url+url\n",
    "    text=rq.get(url)\n",
    "    path=root+url.split('/')[-1]\n",
    "    if not os.path.exists(root):\n",
    "        os.mkdir(root)\n",
    "    if not os.path.exists(path):\n",
    "        with open(path,'wb') as f:\n",
    "            f.write(text.content)\n",
    "print('done!')\n",
    "    \n",
    "    \n",
    "    \n",
    "    "
   ]
  }
 ],
 "metadata": {
  "kernelspec": {
   "display_name": "Python 3",
   "language": "python",
   "name": "python3"
  },
  "language_info": {
   "codemirror_mode": {
    "name": "ipython",
    "version": 3
   },
   "file_extension": ".py",
   "mimetype": "text/x-python",
   "name": "python",
   "nbconvert_exporter": "python",
   "pygments_lexer": "ipython3",
   "version": "3.6.5"
  },
  "latex_envs": {
   "LaTeX_envs_menu_present": true,
   "autoclose": true,
   "autocomplete": false,
   "bibliofile": "biblio.bib",
   "cite_by": "apalike",
   "current_citInitial": 1,
   "eqLabelWithNumbers": true,
   "eqNumInitial": 1,
   "hotkeys": {
    "equation": "Ctrl-E",
    "itemize": "Ctrl-I"
   },
   "labels_anchors": false,
   "latex_user_defs": false,
   "report_style_numbering": false,
   "user_envs_cfg": false
  },
  "toc": {
   "base_numbering": 1,
   "nav_menu": {},
   "number_sections": true,
   "sideBar": false,
   "skip_h1_title": false,
   "title_cell": "Table of Contents",
   "title_sidebar": "Contents",
   "toc_cell": false,
   "toc_position": {},
   "toc_section_display": true,
   "toc_window_display": false
  }
 },
 "nbformat": 4,
 "nbformat_minor": 2
}
