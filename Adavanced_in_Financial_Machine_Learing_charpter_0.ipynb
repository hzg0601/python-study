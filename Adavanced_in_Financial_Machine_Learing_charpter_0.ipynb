{
 "cells": [
  {
   "cell_type": "markdown",
   "metadata": {},
   "source": [
    "## Motivation\n",
    "**A first motivation for writing this book is to cross the proverbial divide that separates\n",
    "academia and the industry打通实务与学术的界限**<br/>\n",
    "**A second motivation is inspired by the desire that finance serves a purpose.金融不是赌博**<br/>\n",
    "\n",
    "**A third motivation is that many investors fail to grasp the complexity of ML applications\n",
    "to investments.ML应用于金融并不是简单使用现成的模型，而是一套建模流程**\n",
    "\n",
    "## The Main Reason Financial ML  Fail\n",
    "### Sisyphus Paradim\n",
    "**Discretionary Portfolio Managers mostly rely on their judgment or intuition rather than pariticular theory or rantionale，so are not sutiable for teamwork.**<br/>\n",
    "### The Meta-Strategy Paradigm\n",
    "**Work as a team but individuals.Set a research factory**<br/>\n",
    "\n",
    "\n"
   ]
  },
  {
   "cell_type": "markdown",
   "metadata": {},
   "source": [
    "## Book Structure\n",
    "### Structure by Production Chain\n",
    "**The only true alpha left is microscopic.Microscopic alpha today is much more abundant than macroscopic alpha has ever been in history**\n",
    "#### Data Curators\n",
    "**collecting, cleaning, indexing, storing, adjusting,and delivering all data to the production chain**\n",
    "#### Feature Analysts\n",
    "**not an investment strategy on its own, and can be used in alternative ways:execution, monitoring of liquidity risk, market making, position taking特征工程并不能直接产生策略**\n",
    "#### Strategists\n",
    "**the theory needs to explain a large collection of important features.必须依据特征工程进行基于金融、经济理论的建模。**\n",
    "#### Backtesters\n",
    "**the historical path is merely one of the possible outcomes of\n",
    "a stochastic process, and not necessarily the most likely going forward. Alternative scenarios must be evaluated, consistent with the knowledge of the weaknesses and strengths of a proposed strategy.历史数据仅仅是随机过程的一种结果，需要结合策略的特征使用其他模拟数据,回测结果不能为其他部门使用，从而防止过拟合**\n",
    "\n",
    "#### Deployment Team\n",
    "**integrating the strategy code into the production line.rely heavily on process schedulers, automation servers (Jenkins), vectorization,\n",
    "multithreading, multiprocessing, graphics processing unit (GPU-NVIDIA),distributed computing (Hadoop), high-performance computing (Slurm), and parallel computing techniques in general.**\n"
   ]
  },
  {
   "cell_type": "markdown",
   "metadata": {},
   "source": [
    "\n",
    "#### Portfolio Oversight\n",
    "**Embargo**<br/>\n",
    "If embargoed performance is consistent with backtest results, the strategy is promoted to the next stage.在冻结期数据上与回测结果一致才能进行下一步。\n",
    "<br/>\n",
    "**Paper trading**<br/>\n",
    "the strategy is run on a live, real-time feed.Paper trading will take place for as long as it is needed to gather enough evidence\n",
    "that the strategy performs as expected同步实施测试通过才能正式实施策略<br/>\n",
    "**Graduation**<br/>\n",
    "正式实施策略,并实时评估策略表现，包括风险，受益，成本<br/>\n",
    "**Re-allocation**<br/>\n",
    "定期自动重新评估分散化组合，初始分配的额度很小，随着模型表现如预期，逐步增大分配额度，而后，随着表现变差，分配额度下降。<br/>\n",
    "**Decommisssion**<br/>\n",
    "策略失效，废弃策略。\n"
   ]
  },
  {
   "cell_type": "markdown",
   "metadata": {},
   "source": [
    "### Structure by Strategy Component\n",
    "#### Data\n",
    "Work with unique，hard-to-manipulate data.\n",
    "#### Software\n",
    "Develop your own classes.Using popular libraries means more competitors\n",
    "tapping the same well.\n",
    "#### Hardware\n",
    "Become an HPC expert.\n",
    "#### Math\n",
    "not by proof but by experiment.<br/>\n",
    "1,methods to detect structural breaks.2,\n",
    "queuing methods for distributed computing.\n",
    "3,discrete methods\n",
    "#### Meta-Strategy\n",
    "Think like a business.<br/>\n",
    "1,identifies features releavant across asset classes.\n",
    "2,Combine multiple predictions into a single bet.\n",
    "3,Allocate funds to strategies using a robust method.\n",
    "#### Overfitting\n",
    "Most discoveries in finance are false, due to multiple testing and selection bias.<br/>\n",
    "1,There are three backtesting paradigms.2,Learn robust techniques for asset allocation"
   ]
  },
  {
   "cell_type": "markdown",
   "metadata": {},
   "source": [
    "### Structure by Common Pitfall\n",
    "<img src=\"https://raw.githubusercontent.com/hzg0601/picuture/master/%E5%BE%AE%E4%BF%A1%E6%88%AA%E5%9B%BE_20190731091318.png\" width=\"500\">\n",
    "## Target Audience\n",
    "### FAQs"
   ]
  }
 ],
 "metadata": {
  "kernelspec": {
   "display_name": "Python 3",
   "language": "python",
   "name": "python3"
  },
  "language_info": {
   "codemirror_mode": {
    "name": "ipython",
    "version": 3
   },
   "file_extension": ".py",
   "mimetype": "text/x-python",
   "name": "python",
   "nbconvert_exporter": "python",
   "pygments_lexer": "ipython3",
   "version": "3.6.5"
  },
  "latex_envs": {
   "LaTeX_envs_menu_present": true,
   "autoclose": true,
   "autocomplete": false,
   "bibliofile": "biblio.bib",
   "cite_by": "apalike",
   "current_citInitial": 1,
   "eqLabelWithNumbers": true,
   "eqNumInitial": 1,
   "hotkeys": {
    "equation": "Ctrl-E",
    "itemize": "Ctrl-I"
   },
   "labels_anchors": false,
   "latex_user_defs": false,
   "report_style_numbering": false,
   "user_envs_cfg": false
  },
  "toc": {
   "base_numbering": 1,
   "nav_menu": {},
   "number_sections": true,
   "sideBar": false,
   "skip_h1_title": false,
   "title_cell": "Table of Contents",
   "title_sidebar": "Contents",
   "toc_cell": false,
   "toc_position": {},
   "toc_section_display": true,
   "toc_window_display": false
  }
 },
 "nbformat": 4,
 "nbformat_minor": 2
}
