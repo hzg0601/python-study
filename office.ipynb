{
 "cells": [
  {
   "cell_type": "code",
   "execution_count": 2,
   "metadata": {},
   "outputs": [],
   "source": [
    "#pip install/uninstall/freeze/list/show/search/wheel/help\n",
    "#pip freeze output installed packages in requirements format\n",
    "#pip wheel bulid wheels from your requirements\n",
    "#pip help show help for commands\n",
    "#import csv\n",
    "#help(csv )\n",
    "#dir(csv)\n",
    "#help(csv.reader)#csv 返回迭代数据类型\n",
    "#csv.reader.__doc__\n",
    "#wheel库提供对wheel格式文件的安装,python安装文件一般用wheel格式,.whl;利用独立.whl也可以进行安装\n",
    "#pip list--outdated\n",
    "#pip search[关键词],库或摘要中的关键字\n",
    "\n",
    "#E:\\\n",
    "#cd anaconda\\Scripts\n",
    "#conda update conda\n",
    "#conda update --all"
   ]
  },
  {
   "cell_type": "code",
   "execution_count": 21,
   "metadata": {},
   "outputs": [],
   "source": [
    "#OS平台编程的需求\n",
    "#目录文件的操作,对系统目录,文件的操作方法\n",
    "#程序定时执行\n",
    "#可执行程序的转换,python向可执行程序exe的转换\n",
    "\n",
    "#OS库\n",
    "\n",
    "#os.getcwd(),获得当前工作目录\n",
    "#os.listdir(path),返回指定目录下的所有文件和目录名\n",
    "#os.remove()删除一个文件\n",
    "#os.removedirs(path)删除多个目录\n",
    "#os.chdir(path)更改当前目录到指定目录\n",
    "#os.mkdir(path)新建一个目录\n",
    "#os.rmdir(name)删除一个目录\n",
    "#os.rename(oldname,newname)更改文件名\n",
    "\n",
    "#os.path处理操作系统目录的子库\n",
    "\n",
    "#os.path.isfile(),检验路径是否是一个文件\n",
    "#os.path.isdir()检验路径是否是一个路径\n",
    "#os.path.exists()判断路径是否存在\n",
    "#os.path.splitext()分离扩展名\n",
    "#os.path.split()返回一个路径的目录名和文件名\n",
    "#os.path.dirname()获得路径名\n",
    "#os.path.basename()获得路径的文件名\n",
    "#os.path.getsize()获得文件大小\n",
    "#os.path.join(path,name)返回绝对路径\n",
    "\n",
    "#os.walk(path)用于自顶向下遍历一个目录,返回一个三元组\n",
    "#root,dirs,files=os.walk(path)\n",
    "#root是字符串,dirs和files是列表类型,表示root中所有目录和所有文件\n",
    "\n",
    "import os\n",
    "import re\n",
    "os.getcwd()\n",
    "os.listdir('C:\\\\Users\\\\hzg0601')\n",
    "os.path.isfile('C:\\\\Users\\\\hzg0601')\n",
    "os.path.split('C:\\\\Users\\\\hzg0601')\n",
    "path='C:\\\\Users\\\\hzg0601'\n",
    "#for root,dirs,files in os.walk(path):\n",
    "   # for name in files:\n",
    "      #  print(os.path.join(root,name))\n",
    "for root,dirs,files in os.walk(path):\n",
    "    for name in files:\n",
    "        fname,fext=os.path.splitext(name)\n",
    "        #print(type(fname))\n",
    "        #print(fname,fext)\n",
    "        if \"_py_py_py\" in fname:\n",
    "            \n",
    "            nname=fname.replace('_py_py_py','')\n",
    "            \n",
    "            #re.sub('_py_py_py','',fname)\n",
    "            #print(fname)#字符串是不可变数据类型\n",
    " \n",
    "            os.rename(os.path.join(root,name),\\\n",
    "                    os.path.join(root,nname+fext))\n",
    "            \n",
    "                 "
   ]
  },
  {
   "cell_type": "code",
   "execution_count": 15,
   "metadata": {},
   "outputs": [],
   "source": [
    "#程序定时执行 sched库\n",
    "#sched.scheduler()用来创建一个调度任务\n",
    "#当需要对一个任务进行时间调度时,用这个库的函数\n",
    "#scheduler.enter(delay/priority/action/argument=())\n",
    "#schduler.run()运行调度任务中的全部调度事件"
   ]
  },
  {
   "cell_type": "code",
   "execution_count": 22,
   "metadata": {},
   "outputs": [],
   "source": [
    "#可执行程序的转换 py2exe库\n",
    "#确定python程序是可执行的\n",
    "\n",
    "#写一个发布脚本setup.py\n",
    "#from distutils.core import setup\n",
    "#import py2exe\n",
    "#setup(console=['文件.py'])\n",
    "\n",
    "#在win命令行cmd下运行\n",
    "#python setup.py py2exe,确保cmd执行目录与文件.py和setup.py在同一目录下\n",
    "\n",
    "#dist包含了发布的exe程序,dist目录需要整体拷贝才能正确运行\n",
    "#__pycache__是过程文件,可以删除"
   ]
  },
  {
   "cell_type": "code",
   "execution_count": 1,
   "metadata": {},
   "outputs": [
    {
     "data": {
      "text/plain": [
       "code       5.000000\n",
       "year    2009.000000\n",
       "cash      -0.013334\n",
       "CF         0.014128\n",
       "Q          1.142677\n",
       "size      20.721589\n",
       "EXP        0.281905\n",
       "NWC        0.313518\n",
       "SD         0.000000\n",
       "Name: 2, dtype: float64"
      ]
     },
     "execution_count": 1,
     "metadata": {},
     "output_type": "execute_result"
    }
   ],
   "source": [
    "import openpyxl as ol\n",
    "from pandas import *\n",
    "from numpy import *\n",
    "wb=ol.load_workbook('C:\\\\Users\\\\hzg0601\\\\Desktop\\\\Rcode\\\\DATA_HAN.xlsx')\n",
    "stock1=wb['stock1']\n",
    "data = stock1.values\n",
    "cols = next(data)\n",
    "\n",
    "data = list(data)\n",
    "idx = [r[0] for r in data]\n",
    "\n",
    "#data = (slice(r, 1, None) for r in data)\n",
    "#print(data)\n",
    "#df = DataFrame(data, index=idx, columns=cols)\n",
    "#help(next)\n",
    "#stock1['A1'].value\n",
    "stock1=read_excel('C:\\\\Users\\\\hzg0601\\\\Desktop\\\\Rcode\\\\DATA_HAN.xlsx',sheet_name='stock1')\n",
    "#help(read_excel)\n",
    "#dir(stock1)\n",
    "#stock1.head()\n",
    "\n",
    "stock1.loc[0]\n",
    "stock1.iloc[2,]#起始是行"
   ]
  },
  {
   "cell_type": "code",
   "execution_count": 108,
   "metadata": {},
   "outputs": [],
   "source": [
    "#excel编程xlrd\n",
    "#xlrd.open_workbook\n",
    "#open_workbbok.sheet_names(),返回sheet名字组成的list\n",
    "#open_workbook.sheet_by_index,或sheet_by_name获取指定的sheet\n",
    "#sheet.name/nrows/ncols\n",
    "#sheet.row(0)[1].value/sheet.col(1)[0].value/sheet.cell(0,1).value"
   ]
  },
  {
   "cell_type": "code",
   "execution_count": 109,
   "metadata": {},
   "outputs": [],
   "source": [
    "#excel xlwt\n",
    "\n",
    "#file=xlwt.workbook创建工作簿\n",
    "#调用add.sheet返回一个worksheet类,cell_overwrite_ok,表示是否覆盖单元格,默认值为false\n",
    "#调用sheet的write属性实现sheet内容添加,write(x,y,string,style),x为行,y为列,style为写入类型\n",
    "\n",
    "#"
   ]
  },
  {
   "cell_type": "code",
   "execution_count": 110,
   "metadata": {},
   "outputs": [],
   "source": [
    "#python-docx\n",
    "#Document()新建文档\n",
    "#document.save('file.docx')\n",
    "#document.add_paragraph()添加文本\n",
    "#add_paragraph.style,更改项目符号\n",
    "#document.add_heading()增加设定标题级别\n",
    "#document.add_picture,添加图片\n",
    "#text.run.font.bold/size/color,设置加粗/字号/颜色\n",
    "#table=document.add_table(rows,cols)创建表格\n",
    "#cell=table.cell(row_num,col_num),访问单元格\n",
    "#cell.add_paragraph('content',style=),添加文本\n",
    "#cell.add_talbe(rows,cols)添加另一个表格\n",
    "#cell.text,返回单元格的文本\n",
    "#cell.tables返回单元格的表格\n"
   ]
  },
  {
   "cell_type": "code",
   "execution_count": null,
   "metadata": {},
   "outputs": [],
   "source": [
    "#python-pptx,自动生成符合模板格式的PPT文件,批量更新,类似docx库\n",
    "#presentation,用于创建 ppt对象\n",
    "\n",
    "#ppt.slide_layouts[]确定幻灯片的先后顺序\n",
    "\n",
    "#slides,对幻灯片进行操作\n",
    "\n",
    "#.slides.add_slide()增加一个幻灯片\n",
    "#slide.shape.title表示一个幻灯片的标题\n",
    "#slide.shape.placeholders表示一个幻灯片\n",
    "#shapes,对幻灯片的某一区域进行操作\n",
    "#table,表格操作\n",
    "#text文本操作\n",
    "#ppt.save('.pptx')\n",
    "#shapes.add_textbox()\n",
    "#shapes.add_picture()\n",
    "#shapes.add_talbe()\n",
    "#shapes.add_table()"
   ]
  }
 ],
 "metadata": {
  "kernelspec": {
   "display_name": "Python 3",
   "language": "python",
   "name": "python3"
  },
  "language_info": {
   "codemirror_mode": {
    "name": "ipython",
    "version": 3
   },
   "file_extension": ".py",
   "mimetype": "text/x-python",
   "name": "python",
   "nbconvert_exporter": "python",
   "pygments_lexer": "ipython3",
   "version": "3.6.4"
  }
 },
 "nbformat": 4,
 "nbformat_minor": 2
}
