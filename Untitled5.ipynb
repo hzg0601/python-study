{
 "cells": [
  {
   "cell_type": "markdown",
   "metadata": {},
   "source": [
    "$$\\frac{1}{n-1}\\sum_{i=1}^n{(x_i-\\bar{x})^2}=\\frac{1}{n-1}[\\sum_{i=1}^n(x_i-\\mu)^2-\\sum_{i=1}^n{(\\bar{x}-\\mu)^2}]-\\sigma^2$$\n",
    "$$\\sigma^2(\\frac{1}{n-1}\\sum_{i=1}^n{(\\frac{x_i-\\mu}{\\sigma})^2}-\\frac{n}{n-1}-\\frac{1}{n-1}(\\frac{\\bar{x}-\\mu}{\\sigma^2/\\sqrt{n}})^2+\\frac{1}{n})$$\n",
    "$$\\sigma^2\\cdot \\frac{\\sqrt{\\mu_4-\\sigma^4}}{\\sigma^2}$$\n"
   ]
  }
 ],
 "metadata": {
  "kernelspec": {
   "display_name": "Python 3",
   "language": "python",
   "name": "python3"
  },
  "language_info": {
   "codemirror_mode": {
    "name": "ipython",
    "version": 3
   },
   "file_extension": ".py",
   "mimetype": "text/x-python",
   "name": "python",
   "nbconvert_exporter": "python",
   "pygments_lexer": "ipython3",
   "version": "3.6.5"
  },
  "latex_envs": {
   "LaTeX_envs_menu_present": true,
   "autoclose": true,
   "autocomplete": false,
   "bibliofile": "biblio.bib",
   "cite_by": "apalike",
   "current_citInitial": 1,
   "eqLabelWithNumbers": true,
   "eqNumInitial": 1,
   "hotkeys": {
    "equation": "Ctrl-E",
    "itemize": "Ctrl-I"
   },
   "labels_anchors": false,
   "latex_user_defs": false,
   "report_style_numbering": false,
   "user_envs_cfg": false
  },
  "toc": {
   "base_numbering": 1,
   "nav_menu": {},
   "number_sections": true,
   "sideBar": false,
   "skip_h1_title": false,
   "title_cell": "Table of Contents",
   "title_sidebar": "Contents",
   "toc_cell": false,
   "toc_position": {},
   "toc_section_display": true,
   "toc_window_display": false
  }
 },
 "nbformat": 4,
 "nbformat_minor": 2
}
