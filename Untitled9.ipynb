{
 "cells": [
  {
   "cell_type": "code",
   "execution_count": 12,
   "metadata": {},
   "outputs": [
    {
     "data": {
      "text/plain": [
       "array([ 0.38636843, -1.6663636 ,  1.13110192,  0.56854615, -0.56688421,\n",
       "       -0.98761233, -0.77591823,  1.4468726 , -0.36309111, -0.94970174,\n",
       "        0.77125989,  0.88211839, -1.33903732,  0.70599706,  1.52428658,\n",
       "        0.54942036,  1.22738309,  0.22594652,  0.06389405,  0.69842162,\n",
       "        0.64755004, -1.22065225,  0.53292235, -0.14093925, -0.05590424,\n",
       "       -0.32848336,  0.94029357,  0.65820684,  0.01065011,  1.10482189,\n",
       "        1.11322138, -0.04152273,  1.36375108, -0.12435089, -1.66354688,\n",
       "       -1.24931363, -0.90553113,  0.59042088,  0.06407259, -0.70322423,\n",
       "       -0.0508855 ,  0.05506   , -0.72521964, -0.04096988, -0.46508638,\n",
       "        0.09159573,  0.29485651,  0.91097148, -0.73675686,  0.12079231,\n",
       "       -0.09415199, -0.14548355,  0.62825406, -1.33576769,  0.58801543,\n",
       "        0.28838392,  0.84499824, -0.26608633,  1.25604437, -0.36948824,\n",
       "        0.60293577,  1.73054817,  1.00774622,  0.27419273, -1.41116462,\n",
       "       -0.4002273 , -0.61100102,  0.27477424, -1.01508402,  0.349557  ,\n",
       "       -1.48551122, -0.83803401, -0.57647221, -0.28913895, -0.53877945,\n",
       "        0.04386433,  0.25890113,  1.17439691,  0.83916487, -0.19122713,\n",
       "        0.24311335, -0.66183833,  0.84604551,  0.49516157, -1.09578553,\n",
       "       -1.43454959, -0.30726995, -0.34964506,  0.88169736,  0.45365577,\n",
       "        0.76094641, -0.84606579, -0.02566869,  1.54573777, -0.46813678,\n",
       "        0.40243415,  0.64270797, -0.72558905, -0.0658814 ,  0.85271322])"
      ]
     },
     "execution_count": 12,
     "metadata": {},
     "output_type": "execute_result"
    }
   ],
   "source": [
    "import gplearn\n",
    "from sklearn.utils.random import check_random_state\n",
    "import numpy as np\n",
    "\n",
    "rs=check_random_state(10)\n",
    "a=rs.uniform(-1,1,100)\n",
    "b=rs.uniform(-1,1,100)\n",
    "a-b"
   ]
  },
  {
   "cell_type": "code",
   "execution_count": null,
   "metadata": {},
   "outputs": [],
   "source": []
  }
 ],
 "metadata": {
  "kernelspec": {
   "display_name": "Python 3",
   "language": "python",
   "name": "python3"
  },
  "language_info": {
   "codemirror_mode": {
    "name": "ipython",
    "version": 3
   },
   "file_extension": ".py",
   "mimetype": "text/x-python",
   "name": "python",
   "nbconvert_exporter": "python",
   "pygments_lexer": "ipython3",
   "version": "3.6.5"
  },
  "latex_envs": {
   "LaTeX_envs_menu_present": true,
   "autoclose": true,
   "autocomplete": false,
   "bibliofile": "biblio.bib",
   "cite_by": "apalike",
   "current_citInitial": 1,
   "eqLabelWithNumbers": true,
   "eqNumInitial": 1,
   "hotkeys": {
    "equation": "Ctrl-E",
    "itemize": "Ctrl-I"
   },
   "labels_anchors": false,
   "latex_user_defs": false,
   "report_style_numbering": false,
   "user_envs_cfg": false
  },
  "toc": {
   "base_numbering": 1,
   "nav_menu": {},
   "number_sections": true,
   "sideBar": false,
   "skip_h1_title": false,
   "title_cell": "Table of Contents",
   "title_sidebar": "Contents",
   "toc_cell": false,
   "toc_position": {},
   "toc_section_display": true,
   "toc_window_display": false
  }
 },
 "nbformat": 4,
 "nbformat_minor": 2
}
