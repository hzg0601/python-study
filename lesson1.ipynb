{
 "cells": [
  {
   "cell_type": "markdown",
   "metadata": {},
   "source": [
    "# lesson1\n",
    "## 数据类型\n",
    "### 数字\n",
    "#### 整型\n",
    "#### 浮点型\n",
    "### 字符串\n",
    "a,b,cd，都是字符串,用单引号或者双引号\n",
    "### 元组\n",
    "(1,3,4,'a','b','dd')都是元组\n",
    "### 列表\n",
    "[1,2,3,‘abc’],列表是一种可变类型，也是一种容器类型\n",
    "### 字典/键值对\n",
    "{a:1,b:2},一种容器类型，一种可变类型\n",
    "### 集合\n",
    "{1,2,3,4},一种容器类型，一种可变类型\n",
    "\n",
    "\n",
    "\n",
    "\n"
   ]
  },
  {
   "cell_type": "markdown",
   "metadata": {},
   "source": [
    "a={1,2,3,3}\n",
    "a=(12,3,4)\n",
    "b=[12,3,4]\n",
    "b[0]=4\n",
    "print(b)\n",
    "<font size=7 color='red' face='黑体'>我</font>"
   ]
  }
 ],
 "metadata": {
  "kernelspec": {
   "display_name": "Python 3",
   "language": "python",
   "name": "python3"
  },
  "language_info": {
   "codemirror_mode": {
    "name": "ipython",
    "version": 3
   },
   "file_extension": ".py",
   "mimetype": "text/x-python",
   "name": "python",
   "nbconvert_exporter": "python",
   "pygments_lexer": "ipython3",
   "version": "3.6.5"
  },
  "latex_envs": {
   "LaTeX_envs_menu_present": true,
   "autoclose": true,
   "autocomplete": false,
   "bibliofile": "biblio.bib",
   "cite_by": "apalike",
   "current_citInitial": 1,
   "eqLabelWithNumbers": true,
   "eqNumInitial": 1,
   "hotkeys": {
    "equation": "Ctrl-E",
    "itemize": "Ctrl-I"
   },
   "labels_anchors": false,
   "latex_user_defs": false,
   "report_style_numbering": false,
   "user_envs_cfg": false
  },
  "toc": {
   "base_numbering": 1,
   "nav_menu": {},
   "number_sections": true,
   "sideBar": false,
   "skip_h1_title": false,
   "title_cell": "Table of Contents",
   "title_sidebar": "Contents",
   "toc_cell": false,
   "toc_position": {},
   "toc_section_display": true,
   "toc_window_display": false
  }
 },
 "nbformat": 4,
 "nbformat_minor": 2
}
