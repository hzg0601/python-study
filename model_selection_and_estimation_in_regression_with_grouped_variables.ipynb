{
 "cells": [
  {
   "cell_type": "markdown",
   "metadata": {
    "slideshow": {
     "slide_type": "slide"
    }
   },
   "source": [
    " \n",
    " ## Grouped LASSO\n",
    " 令$\\big|\\big|\\eta\\big|\\big|_K=(\\eta'K\\eta)^{\\frac{1}{2}})$ <br>\n",
    " \n",
    " 则Grouped LASSO定义为：<br>\n",
    " $$\\frac{1}{2}\\bigg|\\bigg|Y-\\sum_{j=1}^J{X_j\\beta_j}\\bigg|\\bigg|^2+\\lambda\\sum_{j=1}^J{\\big|\\big|\\beta_j\\big|\\big|_{K_j}}$$\n",
    " 其中，$K_j=p_jI_j$,p_j为因子j中的变量数。<br>\n",
    "\n",
    "\n",
    "若$\\beta=(\\beta_1',\\beta_2',...,\\beta_J')$是上述Grouped LASSO的解则，$\\beta$应满足\n",
    " $$-X_j'(Y-X\\beta)+\\frac{\\lambda\\sqrt{p_j}\\beta_j}{\\big|\\big|\\beta_j\\big|\\big|}=0 \\ \\ \\forall \\beta_j\\ne \\boldsymbol{0}\\\\\n",
    "\\big|\\big|-X_j'(Y-X\\beta)\\big|\\big|\\leq \\lambda\\sqrt{p_j} \\ \\ \\ \\ \\forall \\beta_j=\\boldsymbol{0}$$\n",
    "\n",
    "由于$X_j'X_j=I_{p_j}$,Grouped LASSO的解可写为$$\\beta_j=\\left(1-\\frac{\\lambda\\sqrt{p_j}}{\\big|\\big|S_j\\big|\\big|}\\right)_+S_j$$\n",
    "其中，$S_j=X_j'(Y-X\\beta_{-j}),\\beta_{-j}=(\\beta_1',...,\\beta_{j-1}',\\boldsymbol{0}',\\beta_{j+1}',...,\\beta_J')$\n",
    "\n",
    "\n"
   ]
  },
  {
   "cell_type": "markdown",
   "metadata": {
    "slideshow": {
     "slide_type": "slide"
    }
   },
   "source": [
    "<img src=\"https://raw.githubusercontent.com/hzg0601/picuture/master/微信截图_20190722103816.png\" alt=\"L1 vs Grouped LASSO vs L2\" width=\"500\" >"
   ]
  },
  {
   "cell_type": "markdown",
   "metadata": {
    "slideshow": {
     "slide_type": "slide"
    }
   },
   "source": [
    "## Grouped LARS\n",
    "### forward stepwise slection \n",
    "**1 ** 令$\\beta^{[0]}=0,k=1,r^{[0]}=Y，\\mathcal{A}^{[0]}= \\emptyset$<br>\n",
    "**2** 计算$$X_j=\\underset{i}{argmax}\\big|\\big|X'_ir^{[k-1]}\\big|\\big|^2\\big/p_j\\\\ \n",
    "\\mathcal{A}_{k}=\\mathcal{A}_{k-1}\\cup\\{{X_j}\\}$$\n",
    "**3** 进行OLS回归，更新系数，直至达到模型选择标准。\n",
    "\n",
    "\n"
   ]
  },
  {
   "cell_type": "markdown",
   "metadata": {
    "slideshow": {
     "slide_type": "slide"
    }
   },
   "source": [
    "### forward stagewise selection\n",
    "**1 ** 令$\\beta^{[0]}=0,k=1,r^{[0]}=Y，\\mathcal{A}^{[0]}= \\emptyset$<br>\n",
    "**2** 计算$$\\mathcal{A}_1=\\underset{i}{argmax}\\big|\\big|X'_ir^{[0]}\\big|\\big|^2\\big/p_j\\\\ \n",
    "$$\n",
    "\n",
    "**3** \n",
    "&emsp;  *while*: $$ \\ \\ X'_jr^{[k-1]}!=X'_{j'}r^{[k-1]} \\ \\ \\ \\ \\forall j'\\in \\mathcal{A}:\\\\\n",
    "\\beta^{[k-1]}->\\beta^{[k-1]}+\\epsilon$$\n",
    "&emsp;else:<br>\n",
    "$$\\mathcal{A}_{k}=\\mathcal{A}_{k-1}\\cup\\{{X_j}\\}$$\n"
   ]
  },
  {
   "cell_type": "markdown",
   "metadata": {
    "slideshow": {
     "slide_type": "slide"
    }
   },
   "source": [
    " <img src=\"https://raw.githubusercontent.com/hzg0601/picuture/master/微信截图_20190722150819.png\" width=\"500\">"
   ]
  },
  {
   "cell_type": "markdown",
   "metadata": {
    "slideshow": {
     "slide_type": "slide"
    }
   },
   "source": [
    "### LARS\n",
    "**1 ** 令$\\beta^{[0]}=0,k=1,r^{[0]}=Y，\\mathcal{A}^{[0]}= \\emptyset$<br>\n",
    "**2** 计算$$\\mathcal{A}_1=\\underset{i}{argmax}\\big|\\big|X'_ir^{[0]}\\big|\\big|^2\\big/p_j\\\\ \n",
    "$$\n",
    "**3** \n",
    "&emsp;$$\\gamma_{\\mathcal{A}_{k}}=(X_{\\mathcal{A}_k}'X_{\\mathcal{A}_k})^{-1}X'_{\\mathcal{A}_k}r^{[k-1]}\\\\\n",
    "\\alpha_j=arg min\\ \\ \\ ||X_j'(r^{[k-1]}-\\alpha_jX\\gamma)||^2/p_j=||X'_{j^{'}}(r^{[k-1]}-\\alpha_jX\\gamma)||^2/p_j'\\ \\ \\ \\forall j'\\in \\mathcal{A}_k\\ \\  \\ if a_j<1\\\\ \\mathcal{A}_{k+1}=\\mathcal{A}_{k}\\cup\\{X_j\\}\\\\ \n",
    "\\beta^{[k]}=\\beta^{[k-1]}+\\alpha_j\\gamma\\\\ r^{[k]}=Y-X_{\\mathcal{A}_k}\\beta^{[k]}$$\n"
   ]
  },
  {
   "cell_type": "markdown",
   "metadata": {
    "slideshow": {
     "slide_type": "slide"
    }
   },
   "source": [
    "### Grouped Non-negative Garrote\n",
    "$$d(\\lambda)=\\underset{d}{argmin}\\ \\ \\frac{1}{2}||Y-Zd||^2+\\lambda\\sum_{j=1}^J{p_jd_j} \\ \\ \\ d_j\\geq0,\\forall j$$\n",
    "其中，$Z=(Z_1,Z_2,...,Z_J),Z_j=X_j\\hat{\\beta}_j^{OLS}$<br>\n",
    "\n",
    "**Nonnegative Garrote**\n",
    "$$d(\\lambda)=\\underset{d}{argmin}\\ \\ \\frac{1}{2}||Y-Zd||^2+\\lambda\\sum_{j=1}^J{d_j},\\ \\ \\ d_j\\geq0,\\forall j$$"
   ]
  },
  {
   "cell_type": "markdown",
   "metadata": {
    "slideshow": {
     "slide_type": "slide"
    }
   },
   "source": [
    "**1 ** 令$\\beta^{[0]}=0,k=1,r^{[0]}=Y，\\mathcal{A}^{[0]}= \\emptyset$<br>\n",
    "**2** 计算$$\\mathcal{C}_1=\\underset{j}{argmax}\\ \\ \\ Z'_ir^{[k-1]}\\big/p_j\\\\ $$\n",
    " \n",
    "**3**\n",
    "&emsp;$$\\gamma_{\\mathcal{C}_{k}}=(Z_{\\mathcal{C}_k}'Z_{\\mathcal{C}_k})^{-1}Z'_{\\mathcal{C}_k}r^{[k-1]}\\\\\n",
    "\\alpha_j=arg \\ \\ \\ ||Z_j'(r^{[k-1]}-\\alpha_jZ\\gamma)||^2/p_j=||Z'_{j^{'}}(r^{[k-1]}-\\alpha_jZ\\gamma)||^2/p_j'\\ \\ \\ \\forall j'\\in \\mathcal{C}_k\\\\    \\alpha_j^=min(\\beta_j,1) \\ where\\ \\beta_j=-d^{[k-1]}_j/\\gamma_j \\ \\ \\ \\forall j\\in \\mathcal{C}_k\\\\\n",
    "if \\ \\ \\ \\alpha_j<0 \\ or\\ min_{j:\\alpha_j>0} \\{\\alpha_j\\}>1, 令\\alpha=1;\\\\ \n",
    "else:\\ \\ \\ \\ \\alpha=\\alpha_j \\\\\n",
    " \\mathcal{C}_{k+1}=\\mathcal{C}_{k}\\cup\\{j\\} \\ \\ \\ \\ if j\\notin\\mathcal{C}_k\\\\ \n",
    "else:\\mathcal{C}_{k+1}=C_k-{j^*}\\\\\n",
    "d^{[k]}=d^{[k]}+\\alpha_j\\gamma_{\\mathcal{C}_k}\\\\\n",
    "r^{[k]}=Y-Z_{\\mathcal{C}_k}d^{[k]}$$\n"
   ]
  }
 ],
 "metadata": {
  "celltoolbar": "Slideshow",
  "kernelspec": {
   "display_name": "Python 3",
   "language": "python",
   "name": "python3"
  },
  "language_info": {
   "codemirror_mode": {
    "name": "ipython",
    "version": 3
   },
   "file_extension": ".py",
   "mimetype": "text/x-python",
   "name": "python",
   "nbconvert_exporter": "python",
   "pygments_lexer": "ipython3",
   "version": "3.6.5"
  },
  "latex_envs": {
   "LaTeX_envs_menu_present": true,
   "autoclose": true,
   "autocomplete": false,
   "bibliofile": "biblio.bib",
   "cite_by": "apalike",
   "current_citInitial": 1,
   "eqLabelWithNumbers": true,
   "eqNumInitial": 1,
   "hotkeys": {
    "equation": "Ctrl-E",
    "itemize": "Ctrl-I"
   },
   "labels_anchors": false,
   "latex_user_defs": false,
   "report_style_numbering": false,
   "user_envs_cfg": false
  },
  "toc": {
   "base_numbering": 1,
   "nav_menu": {},
   "number_sections": true,
   "sideBar": false,
   "skip_h1_title": false,
   "title_cell": "Table of Contents",
   "title_sidebar": "Contents",
   "toc_cell": false,
   "toc_position": {},
   "toc_section_display": true,
   "toc_window_display": false
  }
 },
 "nbformat": 4,
 "nbformat_minor": 2
}
