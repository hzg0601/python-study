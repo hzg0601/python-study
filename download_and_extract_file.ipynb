{
 "cells": [
  {
   "cell_type": "code",
   "execution_count": null,
   "metadata": {},
   "outputs": [],
   "source": [
    "from six.moves import urllib\n",
    "import os\n",
    "import sys\n",
    "import tensorflow as tf\n",
    "import tarfile\n",
    "FLAGS = tf.app.flags.FLAGS#提取系统参数作用的变量\n",
    "tf.app.flags.DEFINE_string('dir','D:/download_html','directory of html')#将下载目录保存到变量dir中,通过FLAGS.dir提取\n",
    "directory = FLAGS.dir#从FLAGS中提取dir变量\n",
    "url = 'http://www.cs.toronto.edu/~kriz/cifar-10-binary.tar.gz'\n",
    "filename = url.split('/')[-1]#-1表示分割后的最后一个元素\n",
    "filepath = os.path.join(directory,filename)\n",
    "if not os.path.exists(directory):\n",
    "    os.makedirs(directory)\n",
    "if not os.path.exists(filepath):\n",
    "    def _recall_func(num,block_size,total_size):\n",
    "        sys.stdout.write('\\r>> downloading %s %.1f%%' % (filename,float(num*block_size)/float(total_size)*100.0))\n",
    "        sys.stdout.flush()\n",
    "    urllib.request.urlretrieve(url,filepath,_recall_func)\n",
    "    print()\n",
    "    file_info = os.stat(filepath)\n",
    "    print('Successfully download',filename,file_info.st_size,'bytes')\n",
    "tar = tarfile.open(filepath,'r:gz')#指定解压路径和解压方式为解压gzip\n",
    "tar.extractall(directory)#全部解压\n",
    "\n",
    "\n",
    "\n",
    "\n",
    "#“..”代表上一级目录、“~”代表HOME目录、“-”代表前一目录。\n",
    "#if not os.path.exists('data'):\n",
    "    #os.mkdir('data')\n",
    "    \n",
    "\n",
    "url='https://archive.ics.uci.edu/ml/machine-learning-databases/00240/UCI HAR Dataset.zip'\n",
    "\n",
    "#%run C:\\\\Users\\\\hzg0601\\\\LSTM-Human-Activity-Recognition\\\\data\\\\download_dataset.py\n",
    "from six.moves import urllib\n",
    "import sys\n",
    "import zipfile\n",
    "filename=url.split('/')[-1]\n",
    "cwd=os.getcwd()\n",
    "filepath=os.path.join(cwd,filename)\n",
    "if not os.path.exists(filepath):\n",
    "    def _recall_func(num,block_size,total_size):\n",
    "        sys.stdout.write('\\r>>downloading %s %.1f%%'%(filename,float(num*block_size)/float(total_size)*100))\n",
    "        sys.stdout.flush()        \n",
    "    urllib.request.urlretrieve(url,filename)\n",
    "    print()\n",
    "    file_info=os.stat(filepath)\n",
    "    print('Successfullu downlaod',filename,file_info.st_size,'bytes')\n"
   ]
  }
 ],
 "metadata": {
  "kernelspec": {
   "display_name": "Python 3",
   "language": "python",
   "name": "python3"
  },
  "language_info": {
   "codemirror_mode": {
    "name": "ipython",
    "version": 3
   },
   "file_extension": ".py",
   "mimetype": "text/x-python",
   "name": "python",
   "nbconvert_exporter": "python",
   "pygments_lexer": "ipython3",
   "version": "3.6.5"
  },
  "latex_envs": {
   "LaTeX_envs_menu_present": true,
   "autoclose": true,
   "autocomplete": false,
   "bibliofile": "biblio.bib",
   "cite_by": "apalike",
   "current_citInitial": 1,
   "eqLabelWithNumbers": true,
   "eqNumInitial": 1,
   "hotkeys": {
    "equation": "Ctrl-E",
    "itemize": "Ctrl-I"
   },
   "labels_anchors": false,
   "latex_user_defs": false,
   "report_style_numbering": false,
   "user_envs_cfg": false
  },
  "toc": {
   "base_numbering": 1,
   "nav_menu": {},
   "number_sections": true,
   "sideBar": false,
   "skip_h1_title": false,
   "title_cell": "Table of Contents",
   "title_sidebar": "Contents",
   "toc_cell": false,
   "toc_position": {},
   "toc_section_display": true,
   "toc_window_display": false
  }
 },
 "nbformat": 4,
 "nbformat_minor": 2
}
