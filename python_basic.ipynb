{
 "cells": [
  {
   "cell_type": "code",
   "execution_count": 14,
   "metadata": {},
   "outputs": [
    {
     "name": "stdout",
     "output_type": "stream",
     "text": [
      "hello world!\n"
     ]
    }
   ],
   "source": [
    "print('hello world!')#print()3.x须带括号"
   ]
  },
  {
   "cell_type": "code",
   "execution_count": 5,
   "metadata": {
    "collapsed": true
   },
   "outputs": [],
   "source": [
    "myString='hello world!'"
   ]
  },
  {
   "cell_type": "code",
   "execution_count": 7,
   "metadata": {},
   "outputs": [
    {
     "name": "stdout",
     "output_type": "stream",
     "text": [
      "hello world!\n"
     ]
    }
   ],
   "source": [
    "print(myString)#print函数调用str()函数显示对象，而交互式解释器则调用repr()显示对象"
   ]
  },
  {
   "cell_type": "code",
   "execution_count": 9,
   "metadata": {},
   "outputs": [
    {
     "data": {
      "text/plain": [
       "'hello world!'"
      ]
     },
     "execution_count": 9,
     "metadata": {},
     "output_type": "execute_result"
    }
   ],
   "source": [
    "myString#仅使用变量名时，为保证字符串也能以字符串的形式显示在屏幕上"
   ]
  },
  {
   "cell_type": "code",
   "execution_count": 10,
   "metadata": {},
   "outputs": [
    {
     "data": {
      "text/plain": [
       "'hello world!'"
      ]
     },
     "execution_count": 10,
     "metadata": {},
     "output_type": "execute_result"
    }
   ],
   "source": [
    "_#_表示最后一个表达式的值"
   ]
  },
  {
   "cell_type": "code",
   "execution_count": 11,
   "metadata": {},
   "outputs": [
    {
     "name": "stdout",
     "output_type": "stream",
     "text": [
      "Python is number 1\n"
     ]
    }
   ],
   "source": [
    "print(\"%s is number %d\" % (\"Python\",1))#%字符串操作符，与print结合使用可以实现字符串替换功能，\n",
    "#%表示由一个字符串替代，%d表示由一个整型替代，%f表示由一个浮点型来替换"
   ]
  },
  {
   "cell_type": "code",
   "execution_count": 30,
   "metadata": {},
   "outputs": [
    {
     "name": "stderr",
     "output_type": "stream",
     "text": [
      "Fatal error: invalid unput\n"
     ]
    }
   ],
   "source": [
    "import sys\n",
    "#print >> sys.stderr,'Fatal error:invalid input!'#2.x版本\n",
    "print('Fatal error: invalid unput',file=sys.stderr)#将输出重定向到文件"
   ]
  },
  {
   "cell_type": "code",
   "execution_count": null,
   "metadata": {
    "collapsed": true
   },
   "outputs": [],
   "source": [
    "logfile=open('/tmp/mylog.txt','a')\n",
    "#print('Fatal error:invalid input!',file=logfile)\n",
    "#logfile.close()"
   ]
  },
  {
   "cell_type": "code",
   "execution_count": 1,
   "metadata": {},
   "outputs": [
    {
     "name": "stdout",
     "output_type": "stream",
     "text": [
      "Enter login name:hzg\n"
     ]
    }
   ],
   "source": [
    "#user=raw_input('Enter login name:')#3.x已经取消了raw_input()，而将input()和raw_input()整合，接受任何输入形式\n",
    "user=input(\"Enter login name:\")"
   ]
  },
  {
   "cell_type": "code",
   "execution_count": 5,
   "metadata": {},
   "outputs": [
    {
     "data": {
      "text/plain": [
       "6"
      ]
     },
     "execution_count": 5,
     "metadata": {},
     "output_type": "execute_result"
    }
   ],
   "source": [
    "def f(x=3):#=默认值\n",
    "    return x^2+3\n",
    "\n",
    "\n",
    "f()   "
   ]
  },
  {
   "cell_type": "code",
   "execution_count": 37,
   "metadata": {},
   "outputs": [
    {
     "name": "stdout",
     "output_type": "stream",
     "text": [
      "your login is: hzg\n"
     ]
    }
   ],
   "source": [
    "print('your login is:',user)"
   ]
  },
  {
   "cell_type": "code",
   "execution_count": 38,
   "metadata": {},
   "outputs": [
    {
     "name": "stdout",
     "output_type": "stream",
     "text": [
      "now enter a number:21\n"
     ]
    }
   ],
   "source": [
    "num=input('now enter a number:')"
   ]
  },
  {
   "cell_type": "code",
   "execution_count": 39,
   "metadata": {},
   "outputs": [
    {
     "name": "stdout",
     "output_type": "stream",
     "text": [
      "Doubling your number:42\n"
     ]
    }
   ],
   "source": [
    "print('Doubling your number:%d'%(int(num)*2))#int 将字符型数字转换为整型"
   ]
  },
  {
   "cell_type": "code",
   "execution_count": null,
   "metadata": {
    "collapsed": true
   },
   "outputs": [],
   "source": [
    "#num=input('now enter a number:')\n",
    "#print('Doubling your number:%d'%(int(num)*2))#不支持将字符强制转换为整型"
   ]
  },
  {
   "cell_type": "code",
   "execution_count": null,
   "metadata": {
    "collapsed": true
   },
   "outputs": [],
   "source": [
    "help(abs)"
   ]
  },
  {
   "cell_type": "code",
   "execution_count": 2,
   "metadata": {},
   "outputs": [],
   "source": [
    "def 黄志国():\n",
    "    'This is a doc string.'\n",
    "    return True#文档字符串，你可以在模块、类或者函数的起始添加一个字符串，起到在线文档的功能 "
   ]
  },
  {
   "cell_type": "code",
   "execution_count": 1,
   "metadata": {
    "collapsed": true
   },
   "outputs": [],
   "source": [
    "#%取模，返回余数；//取整除，返回商的整数部分；/除；**幂；"
   ]
  },
  {
   "cell_type": "code",
   "execution_count": 6,
   "metadata": {},
   "outputs": [
    {
     "data": {
      "text/plain": [
       "'hzg'"
      ]
     },
     "execution_count": 6,
     "metadata": {},
     "output_type": "execute_result"
    }
   ],
   "source": [
    "a='h'\n",
    "b='zg'\n",
    "a+b\n",
    "#print(a+b)"
   ]
  },
  {
   "cell_type": "code",
   "execution_count": 10,
   "metadata": {},
   "outputs": [
    {
     "data": {
      "text/plain": [
       "-12"
      ]
     },
     "execution_count": 10,
     "metadata": {},
     "output_type": "execute_result"
    }
   ],
   "source": [
    "~11#-x-1，按位取反"
   ]
  },
  {
   "cell_type": "code",
   "execution_count": 17,
   "metadata": {},
   "outputs": [
    {
     "data": {
      "text/plain": [
       "20"
      ]
     },
     "execution_count": 17,
     "metadata": {},
     "output_type": "execute_result"
    }
   ],
   "source": [
    "5<<2#向右移两位  "
   ]
  },
  {
   "cell_type": "code",
   "execution_count": 14,
   "metadata": {},
   "outputs": [
    {
     "data": {
      "text/plain": [
       "1"
      ]
     },
     "execution_count": 14,
     "metadata": {},
     "output_type": "execute_result"
    }
   ],
   "source": [
    "5>>2#向左移两位"
   ]
  },
  {
   "cell_type": "code",
   "execution_count": 15,
   "metadata": {},
   "outputs": [
    {
     "data": {
      "text/plain": [
       "7"
      ]
     },
     "execution_count": 15,
     "metadata": {},
     "output_type": "execute_result"
    }
   ],
   "source": [
    "5^2#按位异或，不同取1"
   ]
  },
  {
   "cell_type": "code",
   "execution_count": 16,
   "metadata": {},
   "outputs": [
    {
     "data": {
      "text/plain": [
       "7"
      ]
     },
     "execution_count": 16,
     "metadata": {},
     "output_type": "execute_result"
    }
   ],
   "source": [
    "5|2#按位或，其中一个为1取1"
   ]
  },
  {
   "cell_type": "code",
   "execution_count": 18,
   "metadata": {},
   "outputs": [
    {
     "data": {
      "text/plain": [
       "0"
      ]
     },
     "execution_count": 18,
     "metadata": {},
     "output_type": "execute_result"
    }
   ],
   "source": [
    "5&2#按位并，都为1取1"
   ]
  },
  {
   "cell_type": "code",
   "execution_count": 19,
   "metadata": {},
   "outputs": [
    {
     "data": {
      "text/plain": [
       "True"
      ]
     },
     "execution_count": 19,
     "metadata": {},
     "output_type": "execute_result"
    }
   ],
   "source": [
    "\"h\"in'hzg'"
   ]
  },
  {
   "cell_type": "code",
   "execution_count": 2,
   "metadata": {},
   "outputs": [
    {
     "name": "stdout",
     "output_type": "stream",
     "text": [
      "3060143207008\n",
      "3060143207008\n"
     ]
    },
    {
     "data": {
      "text/plain": [
       "True"
      ]
     },
     "execution_count": 2,
     "metadata": {},
     "output_type": "execute_result"
    }
   ],
   "source": [
    "a='h'\n",
    "b=a\n",
    "print(id(a))\n",
    "print(id(b))\n",
    "b is a\n"
   ]
  },
  {
   "cell_type": "code",
   "execution_count": 27,
   "metadata": {},
   "outputs": [
    {
     "data": {
      "text/plain": [
       "2"
      ]
     },
     "execution_count": 27,
     "metadata": {},
     "output_type": "execute_result"
    }
   ],
   "source": [
    "5 and 2"
   ]
  },
  {
   "cell_type": "code",
   "execution_count": 28,
   "metadata": {},
   "outputs": [
    {
     "data": {
      "text/plain": [
       "0"
      ]
     },
     "execution_count": 28,
     "metadata": {},
     "output_type": "execute_result"
    }
   ],
   "source": [
    "0 and 2#如果x为False 则返回False，否则返回y"
   ]
  },
  {
   "cell_type": "code",
   "execution_count": 1,
   "metadata": {},
   "outputs": [
    {
     "data": {
      "text/plain": [
       "5"
      ]
     },
     "execution_count": 1,
     "metadata": {},
     "output_type": "execute_result"
    }
   ],
   "source": [
    "5 or 2#如果x非0返回x,否则返回y"
   ]
  },
  {
   "cell_type": "code",
   "execution_count": 34,
   "metadata": {},
   "outputs": [
    {
     "data": {
      "text/plain": [
       "False"
      ]
     },
     "execution_count": 34,
     "metadata": {},
     "output_type": "execute_result"
    }
   ],
   "source": [
    "not 5>2#如果x非0，则返回False,否则返回True"
   ]
  },
  {
   "cell_type": "markdown",
   "metadata": {
    "collapsed": true
   },
   "source": [
    "#优先级：逻辑( and or not)<成员(in ,not in)<身份( not,is not)<赋值(=,%=,+=，/=)\n",
    "#<等于(==,!=,<,>)<比较(<=,>=)<位(异或^，或|)<位&<位移(<<,>>)<算术<按位运算符(~)<指数运算符\n",
    "我<font color='red',size=7 >我"
   ]
  },
  {
   "cell_type": "code",
   "execution_count": 14,
   "metadata": {},
   "outputs": [
    {
     "data": {
      "text/plain": [
       "216"
      ]
     },
     "execution_count": 14,
     "metadata": {},
     "output_type": "execute_result"
    }
   ],
   "source": [
    "a=7\n",
    "a-=1\n",
    "a//4\n",
    "a**3"
   ]
  },
  {
   "cell_type": "code",
   "execution_count": 33,
   "metadata": {},
   "outputs": [
    {
     "data": {
      "text/plain": [
       "True"
      ]
     },
     "execution_count": 33,
     "metadata": {},
     "output_type": "execute_result"
    }
   ],
   "source": [
    "3<4<5"
   ]
  },
  {
   "cell_type": "code",
   "execution_count": 39,
   "metadata": {},
   "outputs": [
    {
     "name": "stdout",
     "output_type": "stream",
     "text": [
      "25\n"
     ]
    },
    {
     "data": {
      "text/plain": [
       "-25"
      ]
     },
     "execution_count": 39,
     "metadata": {},
     "output_type": "execute_result"
    }
   ],
   "source": [
    "n=5\n",
    "n*=5\n",
    "print(n)#不支持自增自减"
   ]
  },
  {
   "cell_type": "code",
   "execution_count": 46,
   "metadata": {},
   "outputs": [
    {
     "name": "stdout",
     "output_type": "stream",
     "text": [
      "(6.23+1.5j)\n"
     ]
    },
    {
     "data": {
      "text/plain": [
       "1.1"
      ]
     },
     "execution_count": 46,
     "metadata": {},
     "output_type": "execute_result"
    }
   ],
   "source": [
    "#python支持的基本数字，int,*long,bool,float,complex,decimal\n",
    "m=6.23+1.5j\n",
    "print(m)\n",
    "1.1"
   ]
  },
  {
   "cell_type": "code",
   "execution_count": 52,
   "metadata": {},
   "outputs": [
    {
     "data": {
      "text/plain": [
       "' cool!'"
      ]
     },
     "execution_count": 52,
     "metadata": {},
     "output_type": "execute_result"
    }
   ],
   "source": [
    "h='python'\n",
    "zg='is cool!'#'''可以用来包含特殊字符\n",
    "zg[2:]#：在数字之后包括自身,下标从0开始\n"
   ]
  },
  {
   "cell_type": "code",
   "execution_count": 53,
   "metadata": {},
   "outputs": [
    {
     "data": {
      "text/plain": [
       "'py'"
      ]
     },
     "execution_count": 53,
     "metadata": {},
     "output_type": "execute_result"
    }
   ],
   "source": [
    "h[:2]#在数字之前不包括自身"
   ]
  },
  {
   "cell_type": "code",
   "execution_count": 57,
   "metadata": {},
   "outputs": [
    {
     "data": {
      "text/plain": [
       "'python is cool!'"
      ]
     },
     "execution_count": 57,
     "metadata": {},
     "output_type": "execute_result"
    }
   ],
   "source": [
    "h+' '+zg#允许字符直接以+号连接"
   ]
  },
  {
   "cell_type": "code",
   "execution_count": 58,
   "metadata": {},
   "outputs": [
    {
     "data": {
      "text/plain": [
       "'is cool!is cool!'"
      ]
     },
     "execution_count": 58,
     "metadata": {},
     "output_type": "execute_result"
    }
   ],
   "source": [
    "zg*2#允许字符以*复制"
   ]
  },
  {
   "cell_type": "code",
   "execution_count": 16,
   "metadata": {},
   "outputs": [
    {
     "data": {
      "text/plain": [
       "'hzghzg'"
      ]
     },
     "execution_count": 16,
     "metadata": {},
     "output_type": "execute_result"
    }
   ],
   "source": [
    "hzg='hzg'\n",
    "hzg*2"
   ]
  },
  {
   "cell_type": "code",
   "execution_count": 17,
   "metadata": {},
   "outputs": [
    {
     "data": {
      "text/plain": [
       "'hzghzghzghzg'"
      ]
     },
     "execution_count": 17,
     "metadata": {},
     "output_type": "execute_result"
    }
   ],
   "source": [
    "_*2"
   ]
  },
  {
   "cell_type": "code",
   "execution_count": 69,
   "metadata": {},
   "outputs": [
    {
     "data": {
      "text/plain": [
       "'python\\nis cool'"
      ]
     },
     "execution_count": 69,
     "metadata": {},
     "output_type": "execute_result"
    }
   ],
   "source": [
    "h='''python\n",
    "is cool'''\n",
    "h#将换行Enter自动识别为换行符"
   ]
  },
  {
   "cell_type": "code",
   "execution_count": 26,
   "metadata": {},
   "outputs": [
    {
     "name": "stdout",
     "output_type": "stream",
     "text": [
      "  'wo' \n"
     ]
    }
   ],
   "source": [
    "print(\"  'wo' \")"
   ]
  },
  {
   "cell_type": "code",
   "execution_count": 71,
   "metadata": {},
   "outputs": [
    {
     "name": "stdout",
     "output_type": "stream",
     "text": [
      "python\n",
      " is cool\n"
     ]
    }
   ],
   "source": [
    "print(\"\"\"python\\n is cool\"\"\")#也可以手动添加"
   ]
  },
  {
   "cell_type": "code",
   "execution_count": 73,
   "metadata": {},
   "outputs": [
    {
     "data": {
      "text/plain": [
       "[1, 2, 'zg', 'h', '/']"
      ]
     },
     "execution_count": 73,
     "metadata": {},
     "output_type": "execute_result"
    }
   ],
   "source": [
    "list=[1,2,3,'h','/']#[]为列表，元素的*个数*及值可以更改；()为元组，个数和值不可更改;元组可以看成只读的列表\n",
    "array=(1,2,3,'h','/')\n",
    "list[2]='zg'\n",
    "list"
   ]
  },
  {
   "cell_type": "code",
   "execution_count": 75,
   "metadata": {
    "collapsed": true
   },
   "outputs": [],
   "source": [
    "#array[2]='zg'"
   ]
  },
  {
   "cell_type": "code",
   "execution_count": 81,
   "metadata": {},
   "outputs": [
    {
     "data": {
      "text/plain": [
       "{'06': 10, 'h': 'zg'}"
      ]
     },
     "execution_count": 81,
     "metadata": {},
     "output_type": "execute_result"
    }
   ],
   "source": [
    "dict={'h':'zg'}#映射数据类型，类似于键-值对\n",
    "#dict['06']=01\n",
    "dict['06']=10\n",
    "dict"
   ]
  },
  {
   "cell_type": "code",
   "execution_count": 82,
   "metadata": {},
   "outputs": [
    {
     "data": {
      "text/plain": [
       "dict_keys(['h', '06'])"
      ]
     },
     "execution_count": 82,
     "metadata": {},
     "output_type": "execute_result"
    }
   ],
   "source": [
    "dict.keys()"
   ]
  },
  {
   "cell_type": "code",
   "execution_count": 83,
   "metadata": {},
   "outputs": [
    {
     "data": {
      "text/plain": [
       "10"
      ]
     },
     "execution_count": 83,
     "metadata": {},
     "output_type": "execute_result"
    }
   ],
   "source": [
    "dict['06']"
   ]
  },
  {
   "cell_type": "code",
   "execution_count": 85,
   "metadata": {},
   "outputs": [
    {
     "name": "stdout",
     "output_type": "stream",
     "text": [
      "h zg\n",
      "06 10\n"
     ]
    }
   ],
   "source": [
    "for key in dict:#每一层次必须严格对齐\n",
    "    print(key,dict[key])"
   ]
  },
  {
   "cell_type": "code",
   "execution_count": 87,
   "metadata": {},
   "outputs": [
    {
     "name": "stdout",
     "output_type": "stream",
     "text": [
      "I like to use the internet for:\n",
      "e-mai\n",
      "net-surfing\n",
      "homework\n",
      "chat\n"
     ]
    }
   ],
   "source": [
    "print('I like to use the internet for:')\n",
    "for item in ['e-mai','net-surfing','homework','chat']:#for 接受可迭代对象作为其参数，每次迭代其中一个元素\n",
    "    print(item)"
   ]
  },
  {
   "cell_type": "code",
   "execution_count": 98,
   "metadata": {},
   "outputs": [
    {
     "name": "stdout",
     "output_type": "stream",
     "text": [
      "I like to use the internet for:\n",
      "e-mai net-surfing homework chat "
     ]
    }
   ],
   "source": [
    "print('I like to use the internet for:')\n",
    "for item in ['e-mai','net-surfing','homework','chat']:#for 接受可迭代对象作为其参数，每次迭代其中一个元素\n",
    "    print(item,end=' ')#end用以控制输出后的符号，默认为换行符;2.x 加逗号即可实现该功能"
   ]
  },
  {
   "cell_type": "code",
   "execution_count": 5,
   "metadata": {},
   "outputs": [
    {
     "name": "stdout",
     "output_type": "stream",
     "text": [
      "hzg is the most handsome man in the world\n"
     ]
    }
   ],
   "source": [
    "who='hzg'\n",
    "how='most'\n",
    "print('%s is the %s handsome man in the world' %(who,how))"
   ]
  },
  {
   "cell_type": "code",
   "execution_count": 7,
   "metadata": {},
   "outputs": [
    {
     "name": "stdout",
     "output_type": "stream",
     "text": [
      "hzg is the mostmostmost handsome man in the world\n"
     ]
    }
   ],
   "source": [
    "print('%s is the %s handsome man in the world' %(who,how*3))#连续控制，因此可能会多一个空格"
   ]
  },
  {
   "cell_type": "code",
   "execution_count": 27,
   "metadata": {},
   "outputs": [
    {
     "name": "stdout",
     "output_type": "stream",
     "text": [
      "w b j "
     ]
    }
   ],
   "source": [
    "for 流氓 in ['w','b','j']:#\n",
    "    print(流氓,end=' ')\n"
   ]
  },
  {
   "cell_type": "code",
   "execution_count": 28,
   "metadata": {},
   "outputs": [
    {
     "name": "stdout",
     "output_type": "stream",
     "text": [
      "1\n",
      "2\n",
      "4\n"
     ]
    }
   ],
   "source": [
    "for i in [1,2,4]:\n",
    "    print(i)"
   ]
  },
  {
   "cell_type": "code",
   "execution_count": 29,
   "metadata": {},
   "outputs": [
    {
     "name": "stdout",
     "output_type": "stream",
     "text": [
      "[1, 2, 4] [1, 2, 4] [1, 2, 4] "
     ]
    }
   ],
   "source": [
    "for i in range(3):#range 也是从0开始\n",
    "    print([1,2,4],end=' ')"
   ]
  },
  {
   "cell_type": "code",
   "execution_count": 15,
   "metadata": {},
   "outputs": [
    {
     "name": "stdout",
     "output_type": "stream",
     "text": [
      "s|i|c|h|o|u|l|i|u|m|a|n|g|"
     ]
    }
   ],
   "source": [
    "for i in 'sichouliumang':\n",
    "    print(i,end='|')"
   ]
  },
  {
   "cell_type": "code",
   "execution_count": 114,
   "metadata": {},
   "outputs": [
    {
     "name": "stdout",
     "output_type": "stream",
     "text": [
      "0*1*2*3*4*5*6*7*8*9*10*11*12*"
     ]
    }
   ],
   "source": [
    "#for sichouliumang in len('sichouliumang'):#不能以纯数字为迭代对象\n",
    "for i in range(len('sichouliumang')):\n",
    "    print(i,end='*')\n"
   ]
  },
  {
   "cell_type": "code",
   "execution_count": 17,
   "metadata": {},
   "outputs": [
    {
     "name": "stdout",
     "output_type": "stream",
     "text": [
      "s 0**i 1**c 2**h 3**o 4**u 5**l 6**i 7**u 8**m 9**a 10**n 11**g 12**"
     ]
    }
   ],
   "source": [
    "zdx='sichouliumang'#要么循环索引 要么循环元素\n",
    "for i in range(len(zdx)):\n",
    "    print(zdx[i],'%d' % i,end=\"**\")"
   ]
  },
  {
   "cell_type": "code",
   "execution_count": 18,
   "metadata": {},
   "outputs": [
    {
     "name": "stdout",
     "output_type": "stream",
     "text": [
      "s 0 i 1 c 2 h 3 o 4 u 5 l 6 i 7 u 8 m 9 a 10 n 11 g 12 "
     ]
    },
    {
     "data": {
      "text/plain": [
       "enumerate"
      ]
     },
     "execution_count": 18,
     "metadata": {},
     "output_type": "execute_result"
    }
   ],
   "source": [
    "for i,ch in enumerate(zdx):#不必使用原数据\n",
    "    print(ch, '%d' % i,end=' ')\n",
    "type(enumerate(zdx))"
   ]
  },
  {
   "cell_type": "code",
   "execution_count": 121,
   "metadata": {},
   "outputs": [
    {
     "data": {
      "text/plain": [
       "[0, 1, 4, 9]"
      ]
     },
     "execution_count": 121,
     "metadata": {},
     "output_type": "execute_result"
    }
   ],
   "source": [
    "sq=[x**2 for x in range(4)]#列表解析\n",
    "sq"
   ]
  },
  {
   "cell_type": "code",
   "execution_count": 30,
   "metadata": {},
   "outputs": [
    {
     "name": "stdout",
     "output_type": "stream",
     "text": [
      "[0, 4, 16, 36]\n"
     ]
    },
    {
     "data": {
      "text/plain": [
       "[1, 2, 1, 4, 2, 2]"
      ]
     },
     "execution_count": 30,
     "metadata": {},
     "output_type": "execute_result"
    }
   ],
   "source": [
    "sqd=[x**2 for x in range(8) if not x%2]#循环-控制嵌套于列表 \n",
    "print(sqd)\n",
    "from numpy import random as rm\n",
    "rm.random(2)\n",
    "[rm.randint(1,x) for x in range(2,8)]"
   ]
  },
  {
   "cell_type": "code",
   "execution_count": 156,
   "metadata": {
    "collapsed": true
   },
   "outputs": [],
   "source": [
    "handle=open('C:/Users/hzg0601/Desktop/Rcode/data_stratage4.csv',mode='r')#r,w,x,a,b,t,+,U,2.x版本为access.mode\n",
    "#help(open)\n"
   ]
  },
  {
   "cell_type": "code",
   "execution_count": 132,
   "metadata": {},
   "outputs": [
    {
     "data": {
      "text/plain": [
       "'C:\\\\Users\\\\hzg0601'"
      ]
     },
     "execution_count": 132,
     "metadata": {},
     "output_type": "execute_result"
    }
   ],
   "source": [
    "import os\n",
    "os.getcwd()\n",
    "#os.chdir()"
   ]
  },
  {
   "cell_type": "code",
   "execution_count": null,
   "metadata": {
    "collapsed": true
   },
   "outputs": [],
   "source": [
    "#fobj=open(file,'r')\n"
   ]
  },
  {
   "cell_type": "code",
   "execution_count": 3,
   "metadata": {},
   "outputs": [
    {
     "name": "stdout",
     "output_type": "stream",
     "text": [
      "快TM键入文件名：f\n"
     ]
    }
   ],
   "source": [
    "file=input('快TM键入文件名：')"
   ]
  },
  {
   "cell_type": "code",
   "execution_count": null,
   "metadata": {
    "collapsed": true,
    "scrolled": true
   },
   "outputs": [],
   "source": [
    "#try-except 错误和异常管理；try之后的代码组，就是你打算管理的代码；except之后的代码组，则是你处理错误的代码"
   ]
  },
  {
   "cell_type": "code",
   "execution_count": null,
   "metadata": {
    "collapsed": true
   },
   "outputs": [],
   "source": [
    "try:\n",
    "    filename=input('快点输入，这边等着呢')\n",
    "    fobj=open(filename,'r')\n",
    "    for i in fobj:\n",
    "        print(i,fobj.close())\n",
    "except IOError as e:\n",
    "        print('file open error:',e)"
   ]
  },
  {
   "cell_type": "code",
   "execution_count": 143,
   "metadata": {
    "collapsed": true
   },
   "outputs": [],
   "source": [
    "import openpyxl\n",
    "import csv\n",
    "import xlrd\n",
    "import xlwt"
   ]
  },
  {
   "cell_type": "code",
   "execution_count": 7,
   "metadata": {},
   "outputs": [
    {
     "name": "stdout",
     "output_type": "stream",
     "text": [
      "魔镜，魔镜！这里谁才是臭流氓？2\n",
      "大家一致认为2是臭流氓\n"
     ]
    }
   ],
   "source": [
    "who=eval(input('魔镜，魔镜！这里谁才是臭流氓？'))\n",
    "print('大家一致认为%d是臭流氓' %who)"
   ]
  },
  {
   "cell_type": "code",
   "execution_count": 2,
   "metadata": {},
   "outputs": [
    {
     "data": {
      "text/plain": [
       "(10, 'hzg', 10, 'hzg')"
      ]
     },
     "execution_count": 2,
     "metadata": {},
     "output_type": "execute_result"
    }
   ],
   "source": [
    "def dup(x):\n",
    "    return(x*2)\n",
    "dup((10,'hzg'))\n",
    "    "
   ]
  },
  {
   "cell_type": "code",
   "execution_count": 3,
   "metadata": {},
   "outputs": [
    {
     "name": "stdout",
     "output_type": "stream",
     "text": [
      "肖晨 是臭流氓\n"
     ]
    }
   ],
   "source": [
    "def 流氓(x):\n",
    "    print('%s 是臭流氓'%x)\n",
    "流氓('肖晨')"
   ]
  },
  {
   "cell_type": "code",
   "execution_count": 96,
   "metadata": {},
   "outputs": [
    {
     "name": "stdout",
     "output_type": "stream",
     "text": [
      "不！这不可能！！肖晨没有赵东旭流氓.\n"
     ]
    }
   ],
   "source": [
    "def liumang(canshu='赵东旭'):\n",
    "    if canshu=='赵东旭':#if debug 只有debug==0或false才执行else\n",
    "        print(\"我就知道赵东旭是臭流氓\")\n",
    "    else:\n",
    "        print('不！这不可能！！%s没有赵东旭流氓.'%debug)\n",
    "liumang('肖晨')"
   ]
  },
  {
   "cell_type": "code",
   "execution_count": 9,
   "metadata": {
    "collapsed": true
   },
   "outputs": [],
   "source": [
    "#class定义类"
   ]
  },
  {
   "cell_type": "code",
   "execution_count": 11,
   "metadata": {},
   "outputs": [
    {
     "name": "stdout",
     "output_type": "stream",
     "text": [
      "hello wrold!\n"
     ]
    },
    {
     "data": {
      "text/plain": [
       "'3.6.3 |Anaconda, Inc.| (default, Oct 15 2017, 03:27:45) [MSC v.1900 64 bit (AMD64)]'"
      ]
     },
     "execution_count": 11,
     "metadata": {},
     "output_type": "execute_result"
    }
   ],
   "source": [
    "import sys\n",
    "sys.stdout.write('hello wrold!\\n')#一旦导入一个模块的属性可以通过\n",
    "#熟悉的句点属性标识法访问\n",
    "sys.version"
   ]
  },
  {
   "cell_type": "code",
   "execution_count": 94,
   "metadata": {},
   "outputs": [
    {
     "name": "stdout",
     "output_type": "stream",
     "text": [
      "created a class instance for hzg \n",
      "your name is hzg\n",
      "my name is fooclass\n",
      "0.1\n",
      "10\n"
     ]
    }
   ],
   "source": [
    "class fooclass(object):\n",
    "    #\"\"\"my very first class: fooclass\"\"\"\n",
    "    version=0.1 #class(data)attribute\n",
    "    #name=''#3.x中类属性需预先定义\n",
    "    \n",
    "    def __init__(self,nm='hzg'):#左右下划线都是两个\n",
    "        #\"\"\"constructor\"\"\"\n",
    "        self.name = nm #class instance(data) atturibute\n",
    "        print(\"created a class instance for %s \"%nm)\n",
    "    def showname(self):\n",
    "        #'''display instance attribute and class name'''\n",
    "        print( 'your name is %s' %self.name) \n",
    "        print('my name is',self.__class__.__name__)#左右下划线都是两个\n",
    "    def showver(self):\n",
    "       # '''display class(static) attribute'''\n",
    "        print(self.version)#referneces fooclass.version\n",
    "    def addme2me(self,x):#does not use 'self'\n",
    "        #\"\"\"apply+operation to argument\"\"\"\n",
    "        return x*2\n",
    "\n",
    "fool=fooclass() #created a class instance for hzg，当一个实例被创建，_init_就会被自动调用，不管_init_是自定义还是默认的\n",
    "fool.showname()#\n",
    "fool.showver()\n",
    "print(fool.addme2me(5))\n",
    "#在上面这个类中，我们定义了一个静态变量version，它将被所有实例及4个方法共享--_init_,showname(),showver(),addne2me(),这些show*()方法并没有\n",
    "#做什么有用的事情，仅仅输出对应的信息。#\n",
    "#_init_方法有一个特殊名字，所有名字开始和结束都有两个下划线的方法都是特殊方法。\n",
    "#当一个类实例被创建时，_init_方法会自动执行，在类实例创建完毕后执行，类似构造器。_init_可以被当成构造器，不过不像其它语言中的构造器，它并不\n",
    "#创建实例--它仅仅是你对象创建后执行的第一个方法，它的目的是执行一些该对象的必要初始化工作。通过创建自己的_init_方法，你可以覆盖默认的_init_\n",
    "#方法，从而能够修饰刚刚创建的对象。在这个例子里，我们初始化一个名为name的类实例属性，这个变量仅在类实例中存在，它并不是类本身的一部分。_init_\n",
    "##需要一个默认的参数，self，它是类实例自身的引用，其它面向对象语言通常使用一个名为this的标识符。"
   ]
  },
  {
   "cell_type": "code",
   "execution_count": 32,
   "metadata": {},
   "outputs": [
    {
     "data": {
      "text/plain": [
       "['__add__',\n",
       " '__class__',\n",
       " '__contains__',\n",
       " '__delattr__',\n",
       " '__dir__',\n",
       " '__doc__',\n",
       " '__eq__',\n",
       " '__format__',\n",
       " '__ge__',\n",
       " '__getattribute__',\n",
       " '__getitem__',\n",
       " '__getnewargs__',\n",
       " '__gt__',\n",
       " '__hash__',\n",
       " '__init__',\n",
       " '__init_subclass__',\n",
       " '__iter__',\n",
       " '__le__',\n",
       " '__len__',\n",
       " '__lt__',\n",
       " '__mod__',\n",
       " '__mul__',\n",
       " '__ne__',\n",
       " '__new__',\n",
       " '__reduce__',\n",
       " '__reduce_ex__',\n",
       " '__repr__',\n",
       " '__rmod__',\n",
       " '__rmul__',\n",
       " '__setattr__',\n",
       " '__sizeof__',\n",
       " '__str__',\n",
       " '__subclasshook__',\n",
       " 'capitalize',\n",
       " 'casefold',\n",
       " 'center',\n",
       " 'count',\n",
       " 'encode',\n",
       " 'endswith',\n",
       " 'expandtabs',\n",
       " 'find',\n",
       " 'format',\n",
       " 'format_map',\n",
       " 'index',\n",
       " 'isalnum',\n",
       " 'isalpha',\n",
       " 'isdecimal',\n",
       " 'isdigit',\n",
       " 'isidentifier',\n",
       " 'islower',\n",
       " 'isnumeric',\n",
       " 'isprintable',\n",
       " 'isspace',\n",
       " 'istitle',\n",
       " 'isupper',\n",
       " 'join',\n",
       " 'ljust',\n",
       " 'lower',\n",
       " 'lstrip',\n",
       " 'maketrans',\n",
       " 'partition',\n",
       " 'replace',\n",
       " 'rfind',\n",
       " 'rindex',\n",
       " 'rjust',\n",
       " 'rpartition',\n",
       " 'rsplit',\n",
       " 'rstrip',\n",
       " 'split',\n",
       " 'splitlines',\n",
       " 'startswith',\n",
       " 'strip',\n",
       " 'swapcase',\n",
       " 'title',\n",
       " 'translate',\n",
       " 'upper',\n",
       " 'zfill']"
      ]
     },
     "execution_count": 32,
     "metadata": {},
     "output_type": "execute_result"
    }
   ],
   "source": [
    "hzg='hzg'\n",
    "dir(hzg)#显示对象属性，如果没有提供参数，则显示全局变量的名字。\n",
    "#type(hzg)#返回对象的类型"
   ]
  },
  {
   "cell_type": "code",
   "execution_count": 40,
   "metadata": {},
   "outputs": [],
   "source": [
    "?hzg.ljust"
   ]
  },
  {
   "cell_type": "code",
   "execution_count": 92,
   "metadata": {},
   "outputs": [
    {
     "name": "stdout",
     "output_type": "stream",
     "text": [
      "魔镜魔镜，谁才是真正的流氓？\n",
      "找到了，流氓的名字是肖晨\n",
      "说实话！\n",
      "其实赵东旭才是流氓，他给我了5毛钱叫我说肖晨才是流氓\n"
     ]
    }
   ],
   "source": [
    "class zhenliumang(object):\n",
    "    def __init__(self,name='赵东旭'):\n",
    "        self.name=name\n",
    "        print('魔镜魔镜，谁才是真正的流氓？')\n",
    "    def showname(self):\n",
    "        print('找到了，流氓的名字是肖晨')\n",
    "    def telltruth(self):\n",
    "        print('说实话！')\n",
    "    def truth(self):\n",
    "        print('其实%s才是流氓，他给我了5毛钱叫我说肖晨才是流氓'%self.name)\n",
    "who=zhenliumang()\n",
    "who.showname()\n",
    "who.telltruth()\n",
    "who.truth()\n",
    "    \n"
   ]
  },
  {
   "cell_type": "code",
   "execution_count": 2,
   "metadata": {},
   "outputs": [
    {
     "name": "stdout",
     "output_type": "stream",
     "text": [
      "“魔镜魔镜，谁才是世界上最黑的人？”%￥\\n##$瞎说\n",
      "“谁？！谁TM在说话？！”\n"
     ]
    }
   ],
   "source": [
    "#if (wheather_is_hot==1)and \\\n",
    "#(shark_warnings==0):#缩进以4个空格为宜，并应避免使用制表符\n",
    "    #send_goto_beach_mesg_to_pager()#\\继续##在闭合操作符，如(),[],{}可以多行书写无需添加\\；\"\"\"\"\"\"也不需要添加\\,但仍能识别\\n,\\n用\\\\n表示\n",
    "    #也能识别Enter\n",
    "print(\"\"\"“魔镜魔镜，谁才是世界上最黑的人？”%￥\\\\n##$瞎说\n",
    "“谁？！谁TM在说话？！”\"\"\")\n",
    "a,b,c,d=(1,\n",
    "        2,3,4)#不允许断行连续书写多个语句,支持多元赋值\n",
    "e=5;f=6\n",
    "(a,b,c,d)=(1,2,3,4)"
   ]
  },
  {
   "cell_type": "code",
   "execution_count": 8,
   "metadata": {},
   "outputs": [
    {
     "name": "stdout",
     "output_type": "stream",
     "text": [
      "6\n"
     ]
    }
   ],
   "source": [
    "x=5\n",
    "y=x=x+1#支持连续赋值\n",
    "print(y)\n",
    "x+=1\n",
    "y,x=x,y#支持变量直接交换"
   ]
  },
  {
   "cell_type": "code",
   "execution_count": 29,
   "metadata": {},
   "outputs": [
    {
     "name": "stdout",
     "output_type": "stream",
     "text": [
      "1837036524024\n",
      "1837036524024\n",
      "[2, 2, 3]\n"
     ]
    }
   ],
   "source": [
    "#x=3.14#当一个对象被创建时，就创建了一个引用计数，当对象引用计数为0时，对象不再被使用，被收回。\n",
    "#y=x#x与y完全相同，值相同，地址相同；x的引用增加1次；当y另赋值时，x的引用减少\n",
    "print(id(x))\n",
    "print(id(y))\n",
    "x=[1,2,3]\n",
    "y=x\n",
    "y[0]=2\n",
    "print(x)"
   ]
  },
  {
   "cell_type": "code",
   "execution_count": 9,
   "metadata": {},
   "outputs": [
    {
     "data": {
      "text/plain": [
       "1786993251240"
      ]
     },
     "execution_count": 9,
     "metadata": {},
     "output_type": "execute_result"
    }
   ],
   "source": [
    "id(y)"
   ]
  },
  {
   "cell_type": "code",
   "execution_count": 30,
   "metadata": {},
   "outputs": [
    {
     "data": {
      "text/plain": [
       "False"
      ]
     },
     "execution_count": 30,
     "metadata": {},
     "output_type": "execute_result"
    }
   ],
   "source": [
    "x is not y#身份运算符"
   ]
  },
  {
   "cell_type": "code",
   "execution_count": 12,
   "metadata": {},
   "outputs": [
    {
     "data": {
      "text/plain": [
       "False"
      ]
     },
     "execution_count": 12,
     "metadata": {},
     "output_type": "execute_result"
    }
   ],
   "source": []
  },
  {
   "cell_type": "code",
   "execution_count": 13,
   "metadata": {},
   "outputs": [
    {
     "data": {
      "text/plain": [
       "1786993251336"
      ]
     },
     "execution_count": 13,
     "metadata": {},
     "output_type": "execute_result"
    }
   ],
   "source": [
    "id(a)"
   ]
  },
  {
   "cell_type": "code",
   "execution_count": 14,
   "metadata": {},
   "outputs": [
    {
     "data": {
      "text/plain": [
       "1786993251192"
      ]
     },
     "execution_count": 14,
     "metadata": {},
     "output_type": "execute_result"
    }
   ],
   "source": [
    "id(b)"
   ]
  },
  {
   "cell_type": "code",
   "execution_count": 30,
   "metadata": {
    "collapsed": true
   },
   "outputs": [],
   "source": [
    "import copy\n",
    "import numpy as np\n",
    "d={34:[1,2,3]}\n",
    "e=copy.copy(d)#浅拷贝，只拷贝父对象，区别在字典的拷贝时显现。\n",
    "d is e\n",
    "f=copy.deepcopy(d)#深拷贝，包括数据结构\n"
   ]
  },
  {
   "cell_type": "code",
   "execution_count": 22,
   "metadata": {},
   "outputs": [
    {
     "data": {
      "text/plain": [
       "True"
      ]
     },
     "execution_count": 22,
     "metadata": {},
     "output_type": "execute_result"
    }
   ],
   "source": [
    "f is d"
   ]
  },
  {
   "cell_type": "code",
   "execution_count": 23,
   "metadata": {},
   "outputs": [
    {
     "data": {
      "text/plain": [
       "True"
      ]
     },
     "execution_count": 23,
     "metadata": {},
     "output_type": "execute_result"
    }
   ],
   "source": [
    "d is e"
   ]
  },
  {
   "cell_type": "code",
   "execution_count": 50,
   "metadata": {
    "collapsed": true
   },
   "outputs": [],
   "source": [
    "h=np.arange(15).reshape(3,5)\n",
    "f=h#f完全等于h,当h的值改变，f的值也改变；\n",
    "i=h.view()#浅赋值，地址不同，值共用；当h的值改变，i的值也改变；\n",
    "j=h.copy()#深赋值，地址不同，值也不同；当h的值改变，j的值改变；"
   ]
  },
  {
   "cell_type": "code",
   "execution_count": 46,
   "metadata": {},
   "outputs": [
    {
     "data": {
      "text/plain": [
       "True"
      ]
     },
     "execution_count": 46,
     "metadata": {},
     "output_type": "execute_result"
    }
   ],
   "source": [
    "#h.shape\n",
    "f is h"
   ]
  },
  {
   "cell_type": "code",
   "execution_count": 47,
   "metadata": {},
   "outputs": [
    {
     "data": {
      "text/plain": [
       "False"
      ]
     },
     "execution_count": 47,
     "metadata": {},
     "output_type": "execute_result"
    }
   ],
   "source": [
    "i is h"
   ]
  },
  {
   "cell_type": "code",
   "execution_count": 48,
   "metadata": {},
   "outputs": [
    {
     "data": {
      "text/plain": [
       "False"
      ]
     },
     "execution_count": 48,
     "metadata": {},
     "output_type": "execute_result"
    }
   ],
   "source": [
    "j is h"
   ]
  },
  {
   "cell_type": "code",
   "execution_count": 53,
   "metadata": {},
   "outputs": [
    {
     "data": {
      "text/plain": [
       "10"
      ]
     },
     "execution_count": 53,
     "metadata": {},
     "output_type": "execute_result"
    }
   ],
   "source": [
    "h[0,1]=10\n",
    "i[0,1]\n"
   ]
  },
  {
   "cell_type": "code",
   "execution_count": 54,
   "metadata": {},
   "outputs": [
    {
     "data": {
      "text/plain": [
       "1"
      ]
     },
     "execution_count": 54,
     "metadata": {},
     "output_type": "execute_result"
    }
   ],
   "source": [
    "j[0,1]"
   ]
  },
  {
   "cell_type": "code",
   "execution_count": 55,
   "metadata": {},
   "outputs": [
    {
     "data": {
      "text/plain": [
       "10"
      ]
     },
     "execution_count": 55,
     "metadata": {},
     "output_type": "execute_result"
    }
   ],
   "source": [
    "f[0,1]"
   ]
  },
  {
   "cell_type": "code",
   "execution_count": 59,
   "metadata": {},
   "outputs": [
    {
     "name": "stdout",
     "output_type": "stream",
     "text": [
      "Enter filename:mirror\n",
      "\n",
      " Enter lines('.' by itself to quit).\n",
      "\n",
      ">you are my destiny.\n",
      ">you are my everything.\n",
      ">.\n",
      "DONE\n"
     ]
    }
   ],
   "source": [
    "#！/usr/bin/env python\n",
    "'makeTextFile.py--create text file'#UNIX 启动行\n",
    "import os\n",
    "ls=os.linesep#导入os模块，为os.linesep属性取了一个别名\n",
    "#类似os.linesep的名字需要解释器做两次查询：1）查找os以确认它是一个模块；2）在这个模块中查找linesep变量，因此多消耗了系统资源。\n",
    "#若在一个函数中频繁使用一个属性，最好为该属性取一个本地变量别名，在查找全局变量之前，总是先查找本地变量。\n",
    "#get filename\n",
    "while True:#一个无限循环\n",
    "    fname=input('Enter filename:')\n",
    "    if os.path.exists(fname):#当输入一个不存在的文件名时，os.path.exists()返回False，中断循环继续下面的代码\n",
    "        print(\"ERROR:'%s' already exists\" % fname)\n",
    "    else:\n",
    "        break\n",
    "        \n",
    "#get file content (text) lines\n",
    "all=[]#初始化列表以保存每一行文本\n",
    "print(\"\\n Enter lines('.' by itself to quit).\\n\")#输入文件内容，一次一行\n",
    "\n",
    "#loop until user terminates input\n",
    "while True:\n",
    "    entry=input('>')#>仅表示输入识别\n",
    "    if entry=='.':#输入每一行文本，一行仅输入一个句点，独立的.表示输入结束\n",
    "        break\n",
    "    else:\n",
    "        all.append(entry)#如果不满足终止条件，继续输入新的一行\n",
    "#write lines to file with proper line-ending\n",
    "fobj=open(fname,'w')\n",
    "fobj.writelines(['%s%s'% (x,ls) for x in all])#将内存中内容逐行写入文件，每个文件都需要一个行结束符，‘%s%r'为每一行添加行结束符，\n",
    "#(x,ls)表示每一行及其行结束符\n",
    "fobj.close()\n",
    "print('DONE')\n",
    "    \n"
   ]
  },
  {
   "cell_type": "code",
   "execution_count": 73,
   "metadata": {},
   "outputs": [
    {
     "name": "stdout",
     "output_type": "stream",
     "text": [
      "Enter filename:mirror\n",
      "\n",
      "you are my destiny.\n",
      "\n",
      "you are my everything.\n",
      "\n"
     ]
    }
   ],
   "source": [
    "'readTextFile.py--read and display text file'\n",
    "fname=input(\"Enter filename:\")#获取文件名\n",
    "print()#打印一个空行\n",
    "try:\n",
    "    fobj=open(fname,'r')\n",
    "except IOError as e:#取别名\n",
    "    print(\"*** file open error:\",e)\n",
    "else:\n",
    "    for i in fobj:\n",
    "        print(i,end='')#由于我们没有移除代表每行结束的行结束符，我们不得不抵制print语句自动生成的行结束符\n",
    "    fobj.close()\n",
    "    \n"
   ]
  },
  {
   "cell_type": "code",
   "execution_count": 4,
   "metadata": {},
   "outputs": [
    {
     "name": "stdout",
     "output_type": "stream",
     "text": [
      "<class 'numpy.ndarray'>\n"
     ]
    }
   ],
   "source": [
    "import numpy as np\n",
    "h=np.arange(15).reshape(3,5)\n",
    "#print(dir(h))\n",
    "print(type(h))"
   ]
  },
  {
   "cell_type": "code",
   "execution_count": 5,
   "metadata": {},
   "outputs": [
    {
     "name": "stdout",
     "output_type": "stream",
     "text": [
      "<class 'int'>\n",
      "<class 'type'>\n"
     ]
    }
   ],
   "source": [
    "print(type(42))#Null对象，类似于C语言的void。它的布尔值总是False\n",
    "print(type(type(42)))#类型对象的类型称为type对象\n",
    "#"
   ]
  },
  {
   "cell_type": "code",
   "execution_count": 19,
   "metadata": {},
   "outputs": [
    {
     "name": "stdout",
     "output_type": "stream",
     "text": [
      "edcba\n",
      "eca\n",
      "[123, 342.24]\n",
      "True\n",
      "True\n",
      "True\n",
      "False\n",
      "True\n",
      "3\n",
      "True\n",
      "-3\n",
      "1\n",
      "1\n",
      "china\n",
      "<class 'type'>\n",
      "<class '__main__.Foo'>\n",
      "<class 'type'>\n",
      "<class '__main__.Bar'>\n",
      "True\n"
     ]
    }
   ],
   "source": [
    "#标准类型：数字(int,bool,float（双精度，decimal模块可以实现任意精度,complex),string,list,tuple(不可变）,dictionary\n",
    "#内建类型：类型(type),Null，文件，集合/固定集合，函数/方法，模块，类\n",
    "#类就是类型，实例是对应类型的对象\n",
    "#Null对象或者None Type？\n",
    "#内部类型：代码、帧、跟踪记录、切片、省略、Xrange\n",
    "\n",
    "#4.4.1代码对象是编译过的python源代码片段，通过调用compile()可以得到代码对象，可以被exec命令和eval()函数来执行\n",
    "#代码对象本身不包含任何执行环境信息，它是用户自定义函数的核心，在被执行时动态获得上下文。一个函数除了有代码对象外，还有其它函数必须的属性，\n",
    "#代码是函数的一个属性，其它属性包括函数名、文档字符串、全局命名空间等。\n",
    "\n",
    "#4。4.2帧对象表示python的执行栈帧。帧对象包含python解释器在运行时所需要知道的所有信息。它的属性包括指向上一帧的链接，正在被执行的代码对象，\n",
    "#本地及全局名称空间字典及当前指令等。每次函数调用产生一个新的帧，每一个帧对象都会创建一个C栈帧。用到帧对象的一个地方就是跟踪记录对象。\n",
    "\n",
    "#4.4.3当异常发生时，一个包含针对异常的栈跟踪信息的跟踪记录即被创建，如果一个异常有自己的处理程序，处理程序就会访问这个跟踪记录。\n",
    "\n",
    "#当使用python扩展的切片语法时，就会创建切片对象。扩展的切片语法允许对不同的索引切片操作，包括步进切片、多维切片和省略切片。\n",
    "#多维切片list[start1;end1,start2:end2]\n",
    "#使用省略号list[...,start1:end1]\n",
    "#步进切片允许利用第三个元素进行步进切片，list[start1:end1:step]\n",
    "\n",
    "foostr='abcde'\n",
    "print(foostr[::-1])\n",
    "print(foostr[::-2])\n",
    "foolist=[123,'xba',342.24,'abc']\n",
    "print(foolist[::2])\n",
    "\n",
    "#4.4.5省略对象用于扩展切片语法中，起记号作用，类似于Null对象None,省略对象有一个唯一的名字Ellipsis,它的布尔值始终为True.\n",
    "\n",
    "#Xrange，调用内建函数xrange()会生成一个Xrange对象，是函数range()的兄弟版本，用于节省内存使用或range()无法完成的超大数据集场合,\n",
    "#*python3已统一为range()。\n",
    "\n",
    "#4.5.1 对象值的比较\n",
    "#5+4j > 2-3j#python3不支持不同数据类型的比较,包括\n",
    "print('abc'<='xyz')#支持字符串比较\n",
    "print([3,5]>=[2,3])\n",
    "print([3,'abc']<=[4,'xyz'])#支持对应数据类型list间的比较\n",
    "print([3,'abc']<=[2,'xyz'])\n",
    "#对象可以被赋值到另一个变量（通过引用），因为每个变量指向同一个共享的数据对象，只要任何一个引用发生变化，该对象其它引用也会随之改变。\n",
    "fool1=fool2=4.3#一个对象两个引用\n",
    "print(fool1 is fool2)\n",
    "#布尔逻辑操作符and、or和not，优先级为not>and>or\n",
    "#逻辑<成员<身份<赋值<等于<不等于<位<位移<算术<按位反转<幂\n",
    "x,y,z=1,2,3\n",
    "print(not x and y or z)\n",
    "print(y is not x)#身份运算符\n",
    "print(~2)#按位反转运算符=-x-1\n",
    "#python2,cmp(x,y);python3,operator.(lt、le、eq、ne、ge、gt)\n",
    "print(repr(x))#返回对象的字符串表示\n",
    "print(str(x))#返回对象适合可读性好的字符串；\n",
    "#str()致力于一个对用户而言可读性好的字符串，而repr()则是生成一个python可识别的字符串(多数可用eval()得到原值)，在python2中与''相同\n",
    "中国='china'#python3默认为utf-8编码，支持以中文作为变量名\n",
    "print(中国)\n",
    "class Foo:pass\n",
    "foo=Foo()\n",
    "class Bar(object):pass\n",
    "bar=Bar()\n",
    "print(type(Foo))#python2 为classobj\n",
    "print(type(foo))#python2 为instance\n",
    "print(type(Bar))\n",
    "print(type(bar))\n",
    "print(isinstance(foo,Foo))#python3智能用isinstance判断是否是类的一个实例"
   ]
  },
  {
   "cell_type": "code",
   "execution_count": 25,
   "metadata": {},
   "outputs": [
    {
     "name": "stdout",
     "output_type": "stream",
     "text": [
      "69 的类型是： int\n"
     ]
    }
   ],
   "source": [
    "def 显示类型(数字):\n",
    "    print(数字,'的',end='')\n",
    "    if isinstance(数字,(int,float,complex)):#简化语句判断的次数\n",
    "        print('类型是：',type(数字).__name__)\n",
    "    else:\n",
    "        print('这不是个数字')\n",
    "显示类型(69)\n"
   ]
  },
  {
   "cell_type": "code",
   "execution_count": 63,
   "metadata": {},
   "outputs": [
    {
     "name": "stdout",
     "output_type": "stream",
     "text": [
      "赵东旭是个大流氓\n",
      "瞎TM乱输个啥\n"
     ]
    }
   ],
   "source": [
    "def 找流氓(流氓):\n",
    "    if isinstance(流氓,str):\n",
    "        print('%s是个大流氓'%流氓)\n",
    "    else:\n",
    "        print('瞎TM乱输个啥')\n",
    "找流氓('赵东旭')#字符类型必须用‘’或str定义\n",
    "找流氓(45)"
   ]
  },
  {
   "cell_type": "code",
   "execution_count": 51,
   "metadata": {},
   "outputs": [
    {
     "ename": "IndentationError",
     "evalue": "unexpected indent (<ipython-input-51-d75ddb32ab13>, line 6)",
     "output_type": "error",
     "traceback": [
      "\u001b[1;36m  File \u001b[1;32m\"<ipython-input-51-d75ddb32ab13>\"\u001b[1;36m, line \u001b[1;32m6\u001b[0m\n\u001b[1;33m    print('类型是：',type(数字).__name__)\u001b[0m\n\u001b[1;37m    ^\u001b[0m\n\u001b[1;31mIndentationError\u001b[0m\u001b[1;31m:\u001b[0m unexpected indent\n"
     ]
    }
   ],
   "source": [
    "import types#已无IntType等属性\n",
    "types.IntType\n",
    "def 显示类型(数字):\n",
    "    print(数字,'的',end='')\n",
    "   # if type(数字)is types.IntType:#简化语句判断的次数\n",
    "        print('类型是：',type(数字).__name__)\n",
    "    else:\n",
    "        print('这不是个数字')\n",
    "#显示类型(69)"
   ]
  },
  {
   "cell_type": "code",
   "execution_count": 50,
   "metadata": {
    "collapsed": true,
    "scrolled": true
   },
   "outputs": [],
   "source": [
    "#dir(types)"
   ]
  },
  {
   "cell_type": "code",
   "execution_count": 52,
   "metadata": {},
   "outputs": [
    {
     "name": "stdout",
     "output_type": "stream",
     "text": [
      "<class 'int'>\n"
     ]
    }
   ],
   "source": [
    "#int(),list(),type(),float,complex(),str(),unicode(),basestring(),tuple()等属于类型工厂函数，当调用这些函数时，实际上是生成了一个类实例。\n",
    "print(type(int(1)))"
   ]
  },
  {
   "cell_type": "code",
   "execution_count": 54,
   "metadata": {},
   "outputs": [
    {
     "name": "stdout",
     "output_type": "stream",
     "text": [
      "1765276826288\n",
      "1765276824848\n",
      "1765277997384\n",
      "1765277997384\n"
     ]
    }
   ],
   "source": [
    "#所有python容器对象(列表、元组、字典)都能容纳不同类型的对象。存储模型：存储的对象的个数\n",
    "#更新模型：对象的值是否可以更新；列表、字典可以更新，而数字、字符串、元组不可更新\n",
    "x=1314\n",
    "print(id(x))\n",
    "x=x+1\n",
    "print(id(x))#重赋值事实上是新建了一个对象，并将原对象被收回\n",
    "lista=['a','b','c']\n",
    "print(id(lista))\n",
    "lista[0]=1\n",
    "print(id(lista))"
   ]
  },
  {
   "cell_type": "code",
   "execution_count": 22,
   "metadata": {},
   "outputs": [
    {
     "name": "stdout",
     "output_type": "stream",
     "text": [
      "<class 'bytes'>\n",
      "15\n",
      "3510\n",
      "4095\n",
      "18.0\n",
      "20.0\n",
      "(20-18j)\n"
     ]
    }
   ],
   "source": [
    "#访问模型：直接存取(数值）、顺序（字符串、列表、元组）和映射（哈希键-值对应的集合）\n",
    "#每种访问模型的类型，某个分类之间的异同（操作符和内建函数），python标准类型。\n",
    "#不支持的类型：char,byte （Python3已支持），指针，单精度和双精度（python默认为双精度）\n",
    "\n",
    "#精度，也即float，一般在计算机中存储占用4字节，也32位，有效位数为7位；\n",
    "#双精度（double）在计算机中存储占用8字节，64位，有效位数为16位。\n",
    "#原因：使用二进制科学计数法，都包含三个部分：符号位，指数位和尾数部分。\n",
    "#其中float的符号位，指数位，尾数部分分别为1,  8,  23.     双精度分别为1,  11,  52。精度主要取决于尾数部分的位数，\n",
    "#float为23位，最小为2的-23次方，约等于1.19乘以10的-7次方，所以float小数部分只能精确到后面6位，加上小数点前的一位，即有效数字为7位。  \n",
    "#类似，double 尾数部分52位，最小为2的-52次方，约为2.22乘以10的-16次方，所以精确到小数点后15位，有效位数为16位。\n",
    "\n",
    "#区别在于有些小数不可用有限的二进制表示。decimal 模块可以实现任意精度。\n",
    "#一般不建议浮点数字进行直接比较或算术操作。\n",
    "b=b'2018'\n",
    "print(type(b))\n",
    "print(0b1111)#python3新增2进制,bin()\n",
    "print(0o6666)#8进制,oct()\n",
    "print(0xfff)#16进制，hex()\n",
    "cpx=20+18j\n",
    "print(cpx.imag)\n",
    "print(cpx.real)\n",
    "print(cpx.conjugate())#conjugate的()"
   ]
  },
  {
   "cell_type": "code",
   "execution_count": 19,
   "metadata": {},
   "outputs": [
    {
     "name": "stdout",
     "output_type": "stream",
     "text": [
      "1.7691806012954132\n",
      "(3, 1)\n",
      "8\n",
      "------------------------------\n",
      "3.235\n",
      "-3\n",
      "-4\n"
     ]
    }
   ],
   "source": [
    "#位操作符~，&，|,^(异或，不同取1，相同取0，》，《，^,|<&< >>,<< < 算术<~\n",
    "~-30\n",
    "#int(obj,base=10),complex(real,image=0.0)#可选进制参数\n",
    "#coerce(1,1.5)已被移除\n",
    "print(abs(1.2+1.3j))#返回math.sqrt(real**2+imag**2)\n",
    "print(divmod(10,3))#返回除的商和余\n",
    "print(pow(2,3))\n",
    "print('-'*30)\n",
    "import math\n",
    "print(round(3.23456,3))#四舍五入为float类型\n",
    "print(int(-3.23456))#只取整数部分\n",
    "print(math.floor(-3.23456))#取最接近原数但小于原数的整型\n",
    "#for i in range(10):\n",
    "    #print(round(math.pi,i))\n",
    "print(chr(25))#将ASCII码转化为字符\n",
    "print(ord('hzg'))#将字符转换为ASCII码\n",
    "print(unichr(2018))#将Unicode码值转换为字符\n",
    "#Unicode码扩展自ASCII字元集。在严格的ASCII中，每个字元用7位元表示，或者电脑上普遍使用的每字元有8位元宽；\n",
    "#而Unicode使用全16位元字元集。这使得Unicode能够表示世界上所有的书写语言中可能用於电脑通讯的字元、象形文字和其他符号。"
   ]
  },
  {
   "cell_type": "code",
   "execution_count": 26,
   "metadata": {},
   "outputs": [
    {
     "name": "stdout",
     "output_type": "stream",
     "text": [
      "True\n",
      "True\n"
     ]
    }
   ],
   "source": [
    "class C:\n",
    "    def ___nonzero__(self):#python3不支持强制转换\n",
    "        return False\n",
    "c=C()\n",
    "print(bool(c))\n",
    "print(bool(C))\n"
   ]
  },
  {
   "cell_type": "code",
   "execution_count": 51,
   "metadata": {},
   "outputs": [
    {
     "data": {
      "text/plain": [
       "4"
      ]
     },
     "execution_count": 51,
     "metadata": {},
     "output_type": "execute_result"
    }
   ],
   "source": [
    "#相关数字模块 decimal array数值数组，math标准C库运算函数，operator数字操作符的函数实现，random伪随机数生成器\n",
    "import random as rm\n",
    "#dir(random)\n",
    "rm.randint(2,4)#返回整型间的随机整型；\n",
    "rm.randrange(2,8)#与randint几乎一致\n",
    "rm.uniform(0,1)#返回浮点型\n",
    "rm.random()#不接受参数，返回0~1之间的随机数\n",
    "rm.choice([1,23,4,5])#随机返回给定序列\n",
    "#help(rm.choice)"
   ]
  },
  {
   "cell_type": "code",
   "execution_count": 73,
   "metadata": {},
   "outputs": [
    {
     "name": "stdout",
     "output_type": "stream",
     "text": [
      "abcdef\n",
      "abcde\n",
      "abcd\n",
      "abc\n",
      "ab\n",
      "a\n",
      "abcdefg\n",
      "abcdef\n",
      "abcde\n",
      "abcd\n",
      "abc\n",
      "ab\n",
      "a\n"
     ]
    }
   ],
   "source": [
    "#[:2]之前不包括2，[3:]以后包括3\n",
    "s='abcdefg'\n",
    "for i in range(-1,-len(s),-1):\n",
    "    print(s[:i])\n",
    "#+s[i]\n",
    "\n",
    "for i in range(len(s)):#列表或元组可以直接用变量名\n",
    "    print(s[0:(7-i)])\n",
    "length=len(s)\n",
    "for i in range(length):#循环中应避免出现多余的计算，上例中每次循环需计算len(s)效率较低\n",
    "    print(s[0:(7-i)])"
   ]
  },
  {
   "cell_type": "code",
   "execution_count": 132,
   "metadata": {},
   "outputs": [
    {
     "name": "stdout",
     "output_type": "stream",
     "text": [
      "[(1, 'a'), (2, 'b'), (3, 'c')]\n",
      "[(0, 1), (1, 2), (2, 3), (3, 4), (4, 5), (5, 6)]\n",
      "[6, 5, 4, 3, 2, 1]\n",
      "[1, 2, 3, 4, 5, 6]\n"
     ]
    }
   ],
   "source": [
    "#类型转换，list(iter)把可迭代对象转为列表,但不可用于字符串\n",
    "#str(obj),把对象转换为字符串\n",
    "#unicode()\n",
    "#basstring(),抽象工厂函数，其作用仅仅是为str和unicode提供父类，不能被实例化，也不能被调用\n",
    "#tuple(iter)，把一个可迭代对象转换为一个元组\n",
    "#enumerate(iter)接受一个可迭代对象作为参数，返回一个enumerate对象，同时也是一个迭代器，该对象生成一个由iter每个元素的index值和iter值组成的元组\n",
    "#reversed()接受一个序列作为参数，返回一个以逆序访问的迭代器\n",
    "#sorted()接受一个可迭代对象作为参数，返回一个有序列表\n",
    "#len,max,min\n",
    "#zip(it0,it1,...,itN)返回一个列表，其中第一个元素是it0，it1,这些元素的第一个元素组成的元组，依次类推\n",
    "x=[1,2,3,4,5,6]\n",
    "y=['a','b','c']\n",
    "print(list(zip(x,y)))\n",
    "print(list(enumerate(x)))\n",
    "print(list(reversed(x)))\n",
    "print(sorted(x))"
   ]
  },
  {
   "cell_type": "code",
   "execution_count": 92,
   "metadata": {},
   "outputs": [
    {
     "data": {
      "text/plain": [
       "'ab'"
      ]
     },
     "execution_count": 92,
     "metadata": {},
     "output_type": "execute_result"
    }
   ],
   "source": [
    "#字符串模块 string,.upper,#大写.letters,字符.digits,数字\n",
    "foo=u'a'+'b'#也可以不加+,u代表unicode字符\n",
    "foo"
   ]
  },
  {
   "cell_type": "code",
   "execution_count": 115,
   "metadata": {},
   "outputs": [
    {
     "name": "stdout",
     "output_type": "stream",
     "text": [
      "75BCD15是多少\n",
      "1.234568E+08是多少\n",
      "1.345679是多少\n",
      "1.34568是多少\n"
     ]
    },
    {
     "data": {
      "text/plain": [
       "'这个教室里有0X10个流氓'"
      ]
     },
     "execution_count": 115,
     "metadata": {},
     "output_type": "execute_result"
    }
   ],
   "source": [
    "#%c转换成字符，ASCII码，或者长度为1的字符串\n",
    "#%r优先用repr()函数进行字符串转换\n",
    "#%s优先用str()函数进行字符串转换\n",
    "#%d/%r转换成十进制数\n",
    "#%u转换成无符号十进制数\n",
    "#%o转换成无符号八进制数\n",
    "#%x/%X转换为无符号十六进制数，x,X控制大小写\n",
    "x=123456789\n",
    "print('%X是多少'%x)\n",
    "#%e/%E转换成科学计数法\n",
    "print('%E是多少'%x)\n",
    "y=1.3456789012435\n",
    "#%f/%F转成浮点型，小数自然截断,单精度\n",
    "print('%F是多少'%y)\n",
    "#%g%G，%e,%f的简写\n",
    "print('%g是多少'%y)\n",
    "#%%输出%\n",
    "#%*定义宽度或小数点精度\n",
    "#%-左对齐\n",
    "#%+在整数面前显示+号\n",
    "#%<sp>在正数面前显示空格\n",
    "#%#在八进制数前显示0，在十六进制前显示0X或0x\n",
    "#%0显示的数字前填充0而不是默认的空格\n",
    "#%（var）映射变量（字典参数）\n",
    "#%m.n m是显示最小总宽度，n是小数点后的位数\n",
    "\"这个教室里有%(几个)0#X个%(啥)s\"%{'几个':16,'啥':'流氓'}"
   ]
  },
  {
   "cell_type": "code",
   "execution_count": 117,
   "metadata": {},
   "outputs": [
    {
     "name": "stdout",
     "output_type": "stream",
     "text": [
      "there are 3 Python Quotation Symbols\n"
     ]
    }
   ],
   "source": [
    "from string import Template as tp\n",
    "s=tp('there are ${howmany} ${lang} Quotation Symbols')#substitute and safe_substitute,字符串模板\n",
    "print(s.substitute(lang='Python',howmany=3))"
   ]
  },
  {
   "cell_type": "code",
   "execution_count": 135,
   "metadata": {},
   "outputs": [
    {
     "name": "stdout",
     "output_type": "stream",
     "text": [
      "\\n\n",
      "\\n\n",
      "A\n",
      "97\n"
     ]
    }
   ],
   "source": [
    "print(r'\\n')#r必须紧靠第一个引号前\n",
    "print('\\\\n')#也可以通过\\来实现\n",
    "u'abc\\u1347\\n'\n",
    "#s,t='foa','obr'\n",
    "#list(zip(s,t))\n",
    "print(chr(65))#0~255\n",
    "#print(unichr(65))#python3被移除\n",
    "print(ord('a'))"
   ]
  },
  {
   "cell_type": "code",
   "execution_count": null,
   "metadata": {
    "collapsed": true
   },
   "outputs": [],
   "source": []
  },
  {
   "cell_type": "code",
   "execution_count": 36,
   "metadata": {},
   "outputs": [
    {
     "data": {
      "text/plain": [
       "'000what is your favorite color'"
      ]
     },
     "execution_count": 36,
     "metadata": {},
     "output_type": "execute_result"
    }
   ],
   "source": [
    "question='what is your favorite color'\n",
    "question.capitalize()\n",
    "question.center(40)\n",
    "question.count('or')#beg,end指定范围\n",
    "#question.decode('UTF-8','strict')#python3已移除\n",
    "question.encode(encoding='UTF-8',errors='repalce')#strict,ignore,repalce\n",
    "question.endswith('blue')#string是否以blue结束,beg,end指定范围\n",
    "question.expandtabs(tabsize=8)#将tab符号转为空格\n",
    "question.find('cl',30)#是则返回索引,否则返回-1\n",
    "#question.index(\"at\",50)#是则返回索引,否则报错\n",
    "question.isalnum()#是否全是数字\n",
    "question.isalpha()#是否全是字母\n",
    "question.islower()#是否全是小写\n",
    "question.isdecimal()#是否包含十进制数字\n",
    "question.isdigit()#是否全是数字\n",
    "question.isspace()#是否全是空格\n",
    "question.istitle()#是否标题化\n",
    "question.isupper()#是否字母全部大写\n",
    "#question.join(seq)#以question作为分隔符,将seq中的所以元素合并成一个新的字符串\n",
    "\n",
    "\n",
    "question.ljust(2)#返回一个原字符串的左对齐,并使用空格填充长度\n",
    "question.lower()#将question的大写转换成小写.\n",
    "question.lstrip()#截掉左边的空格\n",
    "question.partition('is')#将question从'is'处分割为三组,如果不包含'is'则返回question\n",
    "question.replace('color','colors',3)#将'color'替换为'colors',不超过num次\n",
    "question.rfind('is')#从右边开始寻找,返回索引,或者-1\n",
    "question.rindex('is')#从右边开始寻找返回索引,或者报错\n",
    "question.rjust(2)#返回一个原字符串的右对齐,并使用空格长度填充\n",
    "question.rpartition('is')#从右边开始查找并分割\n",
    "question.rstrip()#截掉question右边的空格\n",
    "question.split(' ',2)#以空格为切片符,分割question为2次,没有参数名\n",
    "question.splitlines(2)#按照行分割,返回一个包含各行的列表,最多分割2次\n",
    "question.startswith('wh')#是否以'wh'\n",
    "#question.strip([obj])\n",
    "question.swapcase()#反转question中的大小写\n",
    "question.title()#首字母大写\n",
    "#question.translate(str,del='')#根据str给出的表(包含256个字符)转换question的字符,过滤掉的字符放到del中\n",
    "question.upper()#将小写转换为大写\n",
    "question.zfill(30)#返回长度为30的字符串,源字符串右对齐,前面填充0"
   ]
  },
  {
   "cell_type": "code",
   "execution_count": 4,
   "metadata": {},
   "outputs": [
    {
     "data": {
      "text/plain": [
       "'ebcd'"
      ]
     },
     "execution_count": 4,
     "metadata": {},
     "output_type": "execute_result"
    }
   ],
   "source": [
    "#\\0空字符;\\a BEL响铃字符; \\b BS退格;\\t HT横向制表符;\\n LF换行;\\vVT纵向制表符;\\f FF换页;\\r CR回车; \\e ESC转义; \\'';\\';\\\\\n",
    "#\"\"\"中可以出现换行符,制表符,等,这些控制符号将被识别,从而保持输出样式.\n",
    "#字符串是一种不可变数据类型\n",
    "s='abcd'\n",
    "#s[0]='e'\n",
    "s='e'+s[1:]\n",
    "s"
   ]
  },
  {
   "cell_type": "code",
   "execution_count": 5,
   "metadata": {},
   "outputs": [
    {
     "data": {
      "text/plain": [
       "'hello'"
      ]
     },
     "execution_count": 5,
     "metadata": {},
     "output_type": "execute_result"
    }
   ],
   "source": [
    "#ASCII美国标准信息交换码;\n",
    "#BMP基本多文种平面\n",
    "#BOM字节顺序标识\n",
    "#＃CＪＫ(V)中-日-韩-越\n",
    "#Code point类似于ASCII值，代表Unicode字符的值，从０ｘ００００００到０ｘ１０ＦＦＦＦ\n",
    "#Octet 八位二进制数的位组\n",
    "#UCS通用字符集\n",
    "#UCS2的双节编码方式\n",
    "#UCS4四节编码\n",
    "#UTF,Unicode或UCS的转换格式\n",
    "#UTF-8,8位UTF转换格式,无符号字节序列,长度为1~4个字节\n",
    "#UTF-16,16位UTF转换格式,无符号字节顺序,通常为16位长.\n"
   ]
  },
  {
   "cell_type": "code",
   "execution_count": 14,
   "metadata": {},
   "outputs": [
    {
     "name": "stdout",
     "output_type": "stream",
     "text": [
      "b'hello world\\n'\n",
      "hello world\n",
      "\n"
     ]
    }
   ],
   "source": [
    "#codec,coder/decoder,UTF-8可以用1-4个字节来表示其它语言的字符,CJK/East这样的东亚文字一般用3个字节表示,特殊字符用4个字节来表示.\n",
    "#UTF-16,把所有字符用16位,两个字节来表示,因此UTF-16编码需要一个BOM,或者你显式地定义UTF-16-LE或者UTF-16-BE(大端)字节序.\n",
    "#uicode支持多种编码格式,因此需要用encode函数来把对应的unicode转换成定义的格式.\n",
    "codec='utf-8'\n",
    "file='unicode.txt'\n",
    "hello_out=u'hello world\\n'\n",
    "bytes_out=hello_out.encode(codec)\n",
    "print(bytes_out)\n",
    "f=open(file,'wb+')#以二进制打开\n",
    "f.write(bytes_out)\n",
    "f.close()\n",
    "\n",
    "f=open(file,'rb')#必须以二进制方式打开.如果文件内容不是unicode编码的，要先以二进制方式打开，读入比特流，再解码。\n",
    "bytes_in=f.read()\n",
    "f.close()\n",
    "hello_in=bytes_in.decode()\n",
    "print(hello_in,)\n"
   ]
  },
  {
   "cell_type": "code",
   "execution_count": 40,
   "metadata": {},
   "outputs": [
    {
     "name": "stdout",
     "output_type": "stream",
     "text": [
      "2757664773704 2757664773704 2757664776136 2757664564104 2757664686792\n",
      "2757664773704 2757664773704 2757664776136 2757664564104 2757664686792\n",
      "[413, 'zdx', 'hzg'] [413, 'zdx', 'hzg'] [412, 'hzg'] [412, 'hzg'] [412, 'hzg']\n",
      "{'hzg': 412, 'zdx': 413} {'hzg': 412, 'zdx': 413} {'hzg': 412, 'zdx': 413} {'hzg': 412, 'zdx': 413} {'hzg': 412, 'zdx': 413}\n",
      "2757664812416 2757664812416 2757664812560 2757664794592 2757664812632\n",
      "{'hzg': 412, 'zdx': 414} {'hzg': 412, 'zdx': 414} {'hzg': 412, 'zdx': 413} {'hzg': 412, 'zdx': 413} {'hzg': 412, 'zdx': 413}\n",
      "2757664812416 2757664812416 2757664812560 2757664794592 2757664812632\n"
     ]
    }
   ],
   "source": [
    "#非容器类型没有拷贝一说,浅拷贝是用完全切片来完成的;如果元组变量只包含原子类型对象,对它的深拷贝不会进行.copy()浅拷贝;deepcopy深拷贝\n",
    "import copy\n",
    "a=[412,'hzg']\n",
    "b=a\n",
    "c=copy.copy(a)#浅拷贝（外层对象完全拷贝，内层对象只是引用）\n",
    "d=a.copy()#浅拷贝（外层对象完全拷贝，内层对象只是引用）\n",
    "e=copy.deepcopy(a)\n",
    "print(id(a),id(b),id(c),id(d),id(e))\n",
    "a[0:1]=413,'zdx'\n",
    "print(id(a),id(b),id(c),id(d),id(e))\n",
    "print(a,b,c,d,e)\n"
   ]
  },
  {
   "cell_type": "code",
   "execution_count": 42,
   "metadata": {},
   "outputs": [
    {
     "name": "stdout",
     "output_type": "stream",
     "text": [
      "['hzg', 412, ['zdx', 413]] ['hzg', 412, ['zdx', 413]] ['hzg', 412, ['zdx', 413]] ['hzg', 412, ['zdx', 413]] ['hzg', 412, ['zdx', 413]]\n",
      "2757664466504 2757664466504 2757664777416 2757664466568 2757664466376\n",
      "['hzg', 412, ['zdx', 414]] ['hzg', 412, ['zdx', 414]] ['hzg', 412, ['zdx', 414]] ['hzg', 412, ['zdx', 414]] ['hzg', 412, ['zdx', 413]]\n",
      "2757664466504 2757664466504 2757664777416 2757664466568 2757664466376\n"
     ]
    }
   ],
   "source": [
    "aa=['hzg',412,['zdx',413]]\n",
    "bb=aa\n",
    "cc=copy.copy(aa)\n",
    "dd=aa.copy()\n",
    "ee=copy.deepcopy(aa)\n",
    "print(aa,bb,cc,dd,ee)\n",
    "print(id(aa),id(bb),id(cc),id(dd),id(ee))\n",
    "aa[2][1]=414\n",
    "print(aa,bb,cc,dd,ee)\n",
    "print(id(aa),id(bb),id(cc),id(dd),id(ee))#浅拷贝（外层对象完全拷贝，内层对象只是引用）\n"
   ]
  },
  {
   "cell_type": "markdown",
   "metadata": {},
   "source": []
  },
  {
   "cell_type": "code",
   "execution_count": null,
   "metadata": {
    "collapsed": true
   },
   "outputs": [],
   "source": []
  }
 ],
 "metadata": {
  "kernelspec": {
   "display_name": "Python 3",
   "language": "python",
   "name": "python3"
  },
  "language_info": {
   "codemirror_mode": {
    "name": "ipython",
    "version": 3
   },
   "file_extension": ".py",
   "mimetype": "text/x-python",
   "name": "python",
   "nbconvert_exporter": "python",
   "pygments_lexer": "ipython3",
   "version": "3.6.5"
  },
  "latex_envs": {
   "LaTeX_envs_menu_present": true,
   "autoclose": true,
   "autocomplete": false,
   "bibliofile": "biblio.bib",
   "cite_by": "apalike",
   "current_citInitial": 1,
   "eqLabelWithNumbers": true,
   "eqNumInitial": 1,
   "hotkeys": {
    "equation": "Ctrl-E",
    "itemize": "Ctrl-I"
   },
   "labels_anchors": false,
   "latex_user_defs": false,
   "report_style_numbering": false,
   "user_envs_cfg": false
  },
  "toc": {
   "base_numbering": 1,
   "nav_menu": {},
   "number_sections": true,
   "sideBar": false,
   "skip_h1_title": false,
   "title_cell": "Table of Contents",
   "title_sidebar": "Contents",
   "toc_cell": false,
   "toc_position": {},
   "toc_section_display": true,
   "toc_window_display": false
  }
 },
 "nbformat": 4,
 "nbformat_minor": 2
}
