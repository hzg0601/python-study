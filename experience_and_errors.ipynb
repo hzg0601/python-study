{
 "cells": [
  {
   "cell_type": "code",
   "execution_count": null,
   "metadata": {},
   "outputs": [],
   "source": [
    "from tensorflow.examples.tutorials.mnist import input_data\n",
    "mnist=input_data.read_data_sets('/data/')\n",
    "\n",
    "#先下载至\n",
    "\n",
    "ipython profile create #自动补全\n",
    "\n",
    "jupyter nbconvert mymodel.ipynb --to slides --post serve\n",
    "\n",
    "tf.reset_default_graph()#防止多次运行命名空间错误\n",
    "\n",
    "with tf.variable_scope():#reuse=True ,先创建再复用\n",
    "    \n",
    "with tf.variable_scope('relu') as scope:\n",
    "    scope.reuse_variables()"
   ]
  },
  {
   "cell_type": "code",
   "execution_count": 10,
   "metadata": {},
   "outputs": [],
   "source": [
    "\n",
    "import tensorflow as tf\n",
    "tf.reset_default_graph()\n",
    "n_features=3\n",
    "X=tf.placeholder(tf.float32,shape=(None,n_feature),name='X')\n",
    "def relu(X):\n",
    "    with tf.variable_scope('relu') as scope:\n",
    "        scope.reuse_variables()\n",
    "        threshold=tf.get_variable('threshold')#重用已存在变量\n",
    "        w_shape = int(X.get_shape()[1]), 1 \n",
    "        w=tf.Variable(tf.random_normal(w_shape),name='weights')\n",
    "        b=tf.Variable(0.0,name='bias')\n",
    "        z=tf.add(tf.matmul(X,w),b,name='z')\n",
    "        return tf.maximum(z,threshold,name='max')\n",
    "X=tf.placeholder(tf.float32,shape=(None,n_features),name='X')\n",
    "\n",
    "with tf.variable_scope('relu'):#创建变量\n",
    "    threshold=tf.get_variable('threshold',shape=(),initializer=tf.constant_initializer(0.0))\n",
    "    \n",
    "relus=[relu(X) for relu_index in range(5)]\n",
    "output=tf.add_n(relus,name='output')\n",
    "    #首先定义relu函数，然后创建relu/threshold变量，创建五个ReLU，relu()重用relu/threshold\n",
    "    #变量，并创建其他ReLU节点。"
   ]
  },
  {
   "cell_type": "code",
   "execution_count": 15,
   "metadata": {},
   "outputs": [],
   "source": []
  }
 ],
 "metadata": {
  "kernelspec": {
   "display_name": "Python 3",
   "language": "python",
   "name": "python3"
  },
  "language_info": {
   "codemirror_mode": {
    "name": "ipython",
    "version": 3
   },
   "file_extension": ".py",
   "mimetype": "text/x-python",
   "name": "python",
   "nbconvert_exporter": "python",
   "pygments_lexer": "ipython3",
   "version": "3.6.5"
  },
  "latex_envs": {
   "LaTeX_envs_menu_present": true,
   "autoclose": true,
   "autocomplete": false,
   "bibliofile": "biblio.bib",
   "cite_by": "apalike",
   "current_citInitial": 1,
   "eqLabelWithNumbers": true,
   "eqNumInitial": 1,
   "hotkeys": {
    "equation": "Ctrl-E",
    "itemize": "Ctrl-I"
   },
   "labels_anchors": false,
   "latex_user_defs": false,
   "report_style_numbering": false,
   "user_envs_cfg": false
  },
  "toc": {
   "base_numbering": 1,
   "nav_menu": {},
   "number_sections": true,
   "sideBar": false,
   "skip_h1_title": false,
   "title_cell": "Table of Contents",
   "title_sidebar": "Contents",
   "toc_cell": false,
   "toc_position": {},
   "toc_section_display": true,
   "toc_window_display": false
  }
 },
 "nbformat": 4,
 "nbformat_minor": 2
}
