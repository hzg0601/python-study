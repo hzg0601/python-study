{
 "cells": [
  {
   "cell_type": "code",
   "execution_count": 1,
   "metadata": {},
   "outputs": [],
   "source": [
    "#调试:定位错误,修改程序;未知条件,结局不可预知;对象:代码;不能计划,进度不可度量\n",
    "#测试:找出软件存在的错误;已知条件,结局可预知;对象:文档,代码等;需要计划,进度可以度量\n",
    "\n",
    "#程序中常见的错误\n",
    "#编译错误;代码编写错误\n",
    "#运行时错误;执行了非法的操作或某些操作失败,如找不到文件,磁盘空间不足,除数为零,列表下表越界\n",
    "#逻辑错误,应用程序未按照预期的方式运行时所产生的错误.\n",
    "\n",
    "#调试的类别:\n",
    "#静态调试\n",
    "#动态调试:\n",
    "  #分段隔离\n",
    "  #跟踪打印\n",
    "  #设置断点:使用前要在代码中插入断点\n"
   ]
  },
  {
   "cell_type": "code",
   "execution_count": 2,
   "metadata": {},
   "outputs": [],
   "source": [
    "#pdb主要特性\n",
    "#设置断点\n",
    "#单步调试\n",
    "#进入函数调试\n",
    "#查看当前代码\n",
    "#查看栈片段\n",
    "#动态改变变量的值\n"
   ]
  },
  {
   "cell_type": "code",
   "execution_count": 4,
   "metadata": {},
   "outputs": [
    {
     "name": "stdout",
     "output_type": "stream",
     "text": [
      "your BMI is 1\n"
     ]
    }
   ],
   "source": [
    "def debug_bmi(height,weight,gender):\n",
    "    if gender !='male' and gender !='female':\n",
    "        print('input error')\n",
    "    elif gender=='male':\n",
    "        standard_weight=(height-100)*0.9\n",
    "    else:\n",
    "        standard_weight=(height-100)*0.9-2.5\n",
    "    if weight<=(standard_weight*0.9):\n",
    "        print('your BMI is -1')\n",
    "    elif weight<(standard_weight*1.1):\n",
    "        print('your BMI is 0')\n",
    "    elif weight<(standard_weight*1.2):\n",
    "        print('your BMI is 1')\n",
    "    elif weight<(standard_weight*1.3):\n",
    "        print('your BMI is 2')\n",
    "    elif weight<(standard_weight*1.5):\n",
    "        print('your BMI is 3')\n",
    "    else:\n",
    "        print('your BMI is 4')\n",
    "if __name__=='__main__':\n",
    "    debug_bmi(160,60,'male')\n",
    "    \n"
   ]
  },
  {
   "cell_type": "code",
   "execution_count": null,
   "metadata": {},
   "outputs": [
    {
     "name": "stdout",
     "output_type": "stream",
     "text": [
      "> <ipython-input-5-d57366017485>(6)debug_bmi()\n",
      "-> if gender !='male' and gender !='female':\n",
      "(Pdb) h\n",
      "\n",
      "Documented commands (type help <topic>):\n",
      "========================================\n",
      "EOF    c          d        h         list      q        rv       undisplay\n",
      "a      cl         debug    help      ll        quit     s        unt      \n",
      "alias  clear      disable  ignore    longlist  r        source   until    \n",
      "args   commands   display  interact  n         restart  step     up       \n",
      "b      condition  down     j         next      return   tbreak   w        \n",
      "break  cont       enable   jump      p         retval   u        whatis   \n",
      "bt     continue   exit     l         pp        run      unalias  where    \n",
      "\n",
      "Miscellaneous help topics:\n",
      "==========================\n",
      "exec  pdb\n",
      "\n",
      "(Pdb) p gender\n",
      "'male'\n",
      "(Pdb) n\n",
      "> <ipython-input-5-d57366017485>(8)debug_bmi()\n",
      "-> elif gender=='male':\n",
      "(Pdb) n\n",
      "> <ipython-input-5-d57366017485>(9)debug_bmi()\n",
      "-> standard_weight=(height-100)*0.9\n",
      "(Pdb) l\n",
      "  4  \t        import pdb\n",
      "  5  \t        pdb.set_trace()\n",
      "  6  \t    if gender !='male' and gender !='female':\n",
      "  7  \t        print('input error')\n",
      "  8  \t    elif gender=='male':\n",
      "  9  ->\t        standard_weight=(height-100)*0.9\n",
      " 10  \t    else:\n",
      " 11  \t        standard_weight=(height-100)*0.9-2.5\n",
      " 12  \t    if weight<=(standard_weight*0.9):\n",
      " 13  \t        print('your BMI is -1')\n",
      " 14  \t    elif weight<(standard_weight*1.1):\n",
      "(Pdb) b 14\n",
      "Breakpoint 1 at <ipython-input-5-d57366017485>:14\n",
      "(Pdb) c\n",
      "> <ipython-input-5-d57366017485>(14)debug_bmi()\n",
      "-> elif weight<(standard_weight*1.1):\n",
      "(Pdb) l\n",
      "  9  \t        standard_weight=(height-100)*0.9\n",
      " 10  \t    else:\n",
      " 11  \t        standard_weight=(height-100)*0.9-2.5\n",
      " 12  \t    if weight<=(standard_weight*0.9):\n",
      " 13  \t        print('your BMI is -1')\n",
      " 14 B->\t    elif weight<(standard_weight*1.1):\n",
      " 15  \t        print('your BMI is 0')\n",
      " 16  \t    elif weight<(standard_weight*1.2):\n",
      " 17  \t        print('your BMI is 1')\n",
      " 18  \t    elif weight<(standard_weight*1.3):\n",
      " 19  \t        print('your BMI is 2')\n",
      "(Pdb) r\n",
      "your BMI is 1\n",
      "--Return--\n",
      "> <ipython-input-5-d57366017485>(17)debug_bmi()->None\n",
      "-> print('your BMI is 1')\n",
      "(Pdb) s\n",
      "--Return--\n",
      "> <ipython-input-5-d57366017485>(25)<module>()->None\n",
      "-> debug_bmi(160,60,'male')\n"
     ]
    }
   ],
   "source": [
    "_DEBUG=True\n",
    "def debug_bmi(height,weight,gender):\n",
    "    if _DEBUG==True:\n",
    "        import pdb\n",
    "        pdb.set_trace()\n",
    "    if gender !='male' and gender !='female':\n",
    "        print('input error')\n",
    "    elif gender=='male':\n",
    "        standard_weight=(height-100)*0.9\n",
    "    else:\n",
    "        standard_weight=(height-100)*0.9-2.5\n",
    "    if weight<=(standard_weight*0.9):\n",
    "        print('your BMI is -1')\n",
    "    elif weight<(standard_weight*1.1):\n",
    "        print('your BMI is 0')\n",
    "    elif weight<(standard_weight*1.2):\n",
    "        print('your BMI is 1')\n",
    "    elif weight<(standard_weight*1.3):\n",
    "        print('your BMI is 2')\n",
    "    elif weight<(standard_weight*1.5):\n",
    "        print('your BMI is 3')\n",
    "    else:\n",
    "        print('your BMI is 4')\n",
    "if __name__=='__main__':\n",
    "    debug_bmi(160,60,'male')"
   ]
  },
  {
   "cell_type": "code",
   "execution_count": null,
   "metadata": {},
   "outputs": [],
   "source": []
  }
 ],
 "metadata": {
  "kernelspec": {
   "display_name": "Python 3",
   "language": "python",
   "name": "python3"
  },
  "language_info": {
   "codemirror_mode": {
    "name": "ipython",
    "version": 3
   },
   "file_extension": ".py",
   "mimetype": "text/x-python",
   "name": "python",
   "nbconvert_exporter": "python",
   "pygments_lexer": "ipython3",
   "version": "3.6.4"
  }
 },
 "nbformat": 4,
 "nbformat_minor": 2
}
