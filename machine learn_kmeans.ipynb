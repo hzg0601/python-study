{
 "cells": [
  {
   "cell_type": "code",
   "execution_count": 23,
   "metadata": {},
   "outputs": [
    {
     "name": "stdout",
     "output_type": "stream",
     "text": [
      "[25.41111535 23.24940231 27.81679719]\n",
      "expense:25.41\n",
      "['h8', 'j10']\n",
      "expense:23.25\n",
      "['a1', 'b2', 'c3', 'd4', 'e5', 'f6', 'g7']\n",
      "expense:27.82\n",
      "['i9']\n"
     ]
    },
    {
     "data": {
      "image/png": "[encoded data removed]",
      "text/plain": [
       "<matplotlib.figure.Figure at 0x1c81f62df98>"
      ]
     },
     "metadata": {},
     "output_type": "display_data"
    }
   ],
   "source": [
    "import numpy as np\n",
    "from sklearn.cluster import KMeans as km\n",
    "import matplotlib.pyplot as plt \n",
    "\n",
    "def load_data(filepath):\n",
    "    f=open(filepath,'r+')#打开文件\n",
    "    lines=f.readlines()#读取所有条目作为迭代类型,read,读取整个文件,readline,读取下一行,即跳过本条目\n",
    "    data=[]\n",
    "    name=[]\n",
    "    for line in lines:\n",
    "        items=line.strip().split('\\t')#\n",
    "        name.append(items[0])#每一条目的第一项为城市名,\n",
    "        data.append([float(items[i]) for i in range(1,len(items))])#第二项至最后一项为消费条目数据,共len(items)个条目\n",
    "        \n",
    "    return data,name\n",
    "\n",
    "def showCluster(dataSet,k,centers,clusterAssignment):#数据集,聚类中心数,聚类中心,聚类结果\n",
    "    numSamples,dim=dataSet.shape#行,列\n",
    "    mark=['or','ob','om']#4个聚类中心\n",
    "    #draw all samples\n",
    "    for i in range(numSamples):#对于每一行\n",
    "        markIndex=int(clusterAssignment[i])#数据所属的类,1,2,3或4\n",
    "        plt.plot(dataSet[i,0],dataSet[i,1],mark[markIndex])#画出样本点,以第一列为横坐标,第二列为纵坐标\n",
    "    mark=['Dr','Db','Dm']\n",
    "    #draw the centroids,\n",
    "    for i in range(k):\n",
    "        plt.plot(centers[i,0],centers[i,1],mark[i],markersize=17)#画出聚类中心\n",
    "    plt.show()\n",
    "\n",
    "def main():\n",
    "    data,name=load_data('C:\\\\Users\\\\hzg0601\\\\Desktop\\\\other\\\\city.txt')\n",
    "    #print(data)\n",
    "    #print(len(data))\n",
    "    k_m=km(n_clusters=3)#设置聚类中心个数,  \n",
    "    label=k_m.fit_predict(data)\n",
    "    expense=np.sum(k_m.cluster_centers_,axis=1)#计算行均值\n",
    "    print(expense)\n",
    "    citycluster=[[],[],[]]\n",
    "    for i in range(len(name)):\n",
    "        citycluster[label[i]].append(name[i])\n",
    "    for i in range(len(citycluster)):\n",
    "        print('expense:%.2f' % expense[i])\n",
    "        print(citycluster[i])\n",
    "    data=np.array(data).reshape(len(data),len(data[0]))\n",
    "    showCluster(data,3,k_m.cluster_centers_,label)\n",
    "        \n",
    "if __name__=='__main__':\n",
    "    main()\n",
    "        \n"
   ]
  },
  {
   "cell_type": "code",
   "execution_count": 7,
   "metadata": {},
   "outputs": [],
   "source": []
  },
  {
   "cell_type": "code",
   "execution_count": 5,
   "metadata": {},
   "outputs": [],
   "source": [
    "#KMeans(n_clusters=8, init=’k-means++’,\n",
    "#n_init=10, max_iter=300, tol=0.0001, precompute_distances=’auto’, \n",
    "#verbose=0, random_state=None, copy_x=True, n_jobs=1, algorithm=’auto’) \n",
    "\n",
    "#init : {‘k-means++’, ‘random’ or an ndarray},初始化种子的方法,默认为k-means\n",
    "#n_init:对于每组初始化种子,算法运行的次数\n",
    "#precompute_distances : {‘auto’, True, False},‘auto’ : do not precompute distances if n_samples * n_clusters > 12 million.\n",
    "#random_state : int, RandomState instance or None, optional, default: None\n",
    "    #If int, random_state is the seed used by the random number generator; \n",
    "    #If RandomState instance, random_state is the random number generator;\n",
    "    #If None, the random number generator is the RandomState instance used by np.random.\n",
    "#copy_x : boolean, default True,如果预计算距离,则优先精确计算数据的中心\n",
    "#n_jobs : int,并发计算参数,如果是-1则使用所有cpu核心,如果为1,则不采用并发计算,如n_jobs小于-1,则使用n_cpu+1+n_jobs\n",
    "#algorithm : “auto”, “full” or “elkan”, default=”auto”\n",
    "    #The classical EM-style algorithm is “full”. \n",
    "    #The “elkan” variation is more efficient by using the triangle inequality, but currently doesn’t support sparse data. \n",
    "    #“auto” chooses “elkan” for dense data and “full” for sparse data.\n",
    "    \n",
    "#attributes:\n",
    "    #cluster_centers_ : array, [n_clusters, n_features],Coordinates of cluster centers\n",
    "\n",
    "    #labels_ : :Labels of each point\n",
    "\n",
    "    #inertia_ : float,Sum of squared distances of samples to their closest cluster center.\n",
    "\n",
    "#method:\n",
    "    #fit(X[, y])\tCompute k-means clustering.\n",
    "    #fit_predict(X[, y])\tCompute cluster centers and predict cluster index for each sample.\n",
    "    #fit_transform(X[, y])\tCompute clustering and transform X to cluster-distance space.\n",
    "    #get_params([deep])\tGet parameters for this estimator.\n",
    "    #predict(X)\tPredict the closest cluster each sample in X belongs to.\n",
    "    #score(X[, y])\tOpposite of the value of X on the K-means objective.\n",
    "    #set_params(**params)\tSet the parameters of this estimator.\n",
    "    #transform(X)\tTransform X to a cluster-distance space."
   ]
  },
  {
   "cell_type": "code",
   "execution_count": 9,
   "metadata": {},
   "outputs": [
    {
     "data": {
      "text/plain": [
       "array([[1, 2, 3],\n",
       "       [4, 5, 6]])"
      ]
     },
     "execution_count": 9,
     "metadata": {},
     "output_type": "execute_result"
    }
   ],
   "source": [
    "import numpy as np\n",
    "a=np.array([1,2,3,4,5,6]).reshape(2,3)\n",
    "a"
   ]
  },
  {
   "cell_type": "code",
   "execution_count": 11,
   "metadata": {},
   "outputs": [
    {
     "data": {
      "text/plain": [
       "array([2., 5.])"
      ]
     },
     "execution_count": 11,
     "metadata": {},
     "output_type": "execute_result"
    }
   ],
   "source": [
    "np.mean(a,axis=1)"
   ]
  },
  {
   "cell_type": "code",
   "execution_count": 1,
   "metadata": {},
   "outputs": [],
   "source": [
    "#DBSCAN密度聚类\n",
    "#把数据点分为三类:\n",
    "    #核心点,在半径Eps内含有超过MinPts数目的点\n",
    "    #边界点,在半径Eps内点的数量小于MinPts,但是落在核心点的邻域内\n",
    "    #噪音点,其余.\n",
    "#算法流程:\n",
    "    #将所有点标记为核心点,边界点或噪声点\n",
    "    #删除噪声点\n",
    "    #为距离在Eps内的所有核心点之间赋予一条边\n",
    "    #每组连通的核心点形成一个簇\n",
    "    #将每个边界点指派到一个与之关联的核心点的簇中(从属某个核心点的半径范围之内)\n",
    "#DBSCAN主要参数:\n",
    "    #eps:两个样本被视为邻节点的最大距离\n",
    "    #min_samples:簇的样本数\n",
    "    #metric:距离计算方式\n",
    "    #例,sklearn.cluster.DBSCAN(eps=0.5,min_sample=5,metric='euclidean')#欧式距离"
   ]
  },
  {
   "cell_type": "code",
   "execution_count": null,
   "metadata": {},
   "outputs": [],
   "source": [
    "import numpy as np\n",
    "import sklearn.cluster as skc\n",
    "from sklearn import metrics\n",
    "import matplotlib.pyplot as plt\n",
    "\n",
    "mac2id=dict()\n",
    "onlinetimes=[]\n",
    "f=open('data.txt')\n",
    "for line in f:\n",
    "    mac=line.split(',')[2]\n",
    "    onlinetime=int(line.split(',')[6])\n",
    "    starttime=int(line.split(',')[4].split(' ')[1].split(':')[0])#读取每条的mac地址,开始上网时长\n",
    "    if mac not in mac2id:\n",
    "        mac2id[mac]=len(onlinetimes)#键是mac地址,值为时长\n",
    "        onlinetimes.append((starttime,onlinetime))#时长由开始时间与时长组成\n",
    "    else:\n",
    "        onlinetimes[mac2id[mac]]=[(starttime,onlinetime)]#值是上网开始时间,和时长\n",
    "real_X=np.array(onlinetimes).reshape((-1,2))#把数据变成x行2列,即如果不知道原数据结构,则可以-1为为通配符,python自动匹配剩余维度\n",
    "\n",
    "#以开始上网时间为目标聚类\n",
    "\n",
    "X=real_X[:,0:1]#保持行不变,取出第一列\n",
    "db=skc.DBSCAN(eps=0.01,min_smaples=20).fit(X)#以第一列即开始上网时间进行聚类\n",
    "labels=db.labels\n",
    "print('Labels:')\n",
    "print(labels)\n",
    "ratio=len(labels[labels[:]==-1])/len(labels)#取出所有离散点(值为-1)的作为新数组,计算其长度,从而计算噪音点的比例\n",
    "print('Noise ratio:',format(ratio,'.2%'))\n",
    "\n",
    "n_centers_=len(set(labels))-(1 if -1 in labels else 0)#set取集合,即类的个数,如果有噪音点,-1作为中心的个数,否则-0\n",
    "print('estimate number of clusters: %d' %n_clusters_)#\n",
    "print('silhouette coefficient: %0.3f' % metrics.silhouette_score(X,labels))#计算所有样本的轮廓系数的平均值\n",
    "\n",
    "for i in range(n_clusters_):\n",
    "    print('Cluster ',i,':')\n",
    "    print(list(X[labels==i].flatten()))#把数组降到一维,按行排序\n",
    "plt.hist(X,24)#横轴的长度,24+1\n",
    "\n",
    "#plt.hist(x, bins=None, range=None, density=None, weights=None, cumulative=False, bottom=None, histtype='bar', align='mid',\n",
    "#orientation='vertical', rwidth=None, log=False, color=None, label=None, stacked=False, normed=None, hold=None, data=None, **kwargs)"
   ]
  },
  {
   "cell_type": "code",
   "execution_count": 21,
   "metadata": {},
   "outputs": [
    {
     "name": "stdout",
     "output_type": "stream",
     "text": [
      "[[1 2 3]\n",
      " [4 5 6]]\n"
     ]
    },
    {
     "data": {
      "text/plain": [
       "array([1, 2, 3, 4, 5, 6])"
      ]
     },
     "execution_count": 21,
     "metadata": {},
     "output_type": "execute_result"
    }
   ],
   "source": [
    "import numpy as np\n",
    "import matplotlib.pyplot as plt\n",
    "a=np.array([1,2,3,4,5,6]).reshape(2,-1)\n",
    "print(a)\n",
    "a[:,0:2]\n",
    "a.flatten()"
   ]
  },
  {
   "cell_type": "code",
   "execution_count": 22,
   "metadata": {},
   "outputs": [],
   "source": [
    "plt.hist?"
   ]
  },
  {
   "cell_type": "code",
   "execution_count": null,
   "metadata": {},
   "outputs": [],
   "source": []
  }
 ],
 "metadata": {
  "kernelspec": {
   "display_name": "Python 3",
   "language": "python",
   "name": "python3"
  },
  "language_info": {
   "codemirror_mode": {
    "name": "ipython",
    "version": 3
   },
   "file_extension": ".py",
   "mimetype": "text/x-python",
   "name": "python",
   "nbconvert_exporter": "python",
   "pygments_lexer": "ipython3",
   "version": "3.6.5"
  },
  "latex_envs": {
   "LaTeX_envs_menu_present": true,
   "autoclose": true,
   "autocomplete": false,
   "bibliofile": "biblio.bib",
   "cite_by": "apalike",
   "current_citInitial": 1,
   "eqLabelWithNumbers": true,
   "eqNumInitial": 1,
   "hotkeys": {
    "equation": "Ctrl-E",
    "itemize": "Ctrl-I"
   },
   "labels_anchors": false,
   "latex_user_defs": false,
   "report_style_numbering": false,
   "user_envs_cfg": false
  },
  "toc": {
   "base_numbering": 1,
   "nav_menu": {},
   "number_sections": true,
   "sideBar": false,
   "skip_h1_title": false,
   "title_cell": "Table of Contents",
   "title_sidebar": "Contents",
   "toc_cell": false,
   "toc_position": {},
   "toc_section_display": true,
   "toc_window_display": false
  }
 },
 "nbformat": 4,
 "nbformat_minor": 2
}
