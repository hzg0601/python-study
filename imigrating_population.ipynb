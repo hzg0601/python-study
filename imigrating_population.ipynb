{
 "cells": [
  {
   "cell_type": "code",
   "execution_count": null,
   "metadata": {
    "scrolled": false
   },
   "outputs": [],
   "source": [
    "import pandas as pd \n",
    "\n",
    "a=pd.read_stata('C:/Users/hzg0601/Desktop/migration_population_data/2016/2016_a.dta')\n",
    "\n",
    "\n"
   ]
  },
  {
   "cell_type": "code",
   "execution_count": null,
   "metadata": {
    "scrolled": false
   },
   "outputs": [],
   "source": [
    "for i in a:\n",
    "    try:\n",
    "        a[i]=a[i].apply(lambda x:x.encode('latin-1').decode('gbk'))\n",
    "    except:\n",
    "        continue\n",
    "a.head(n=10)\n"
   ]
  },
  {
   "cell_type": "code",
   "execution_count": null,
   "metadata": {},
   "outputs": [],
   "source": [
    "a.to_excel('2016_a.xlsx')"
   ]
  },
  {
   "cell_type": "code",
   "execution_count": null,
   "metadata": {
    "scrolled": false
   },
   "outputs": [],
   "source": [
    "import pandas as pd\n",
    "def select(value):\n",
    "    if value is not None:\n",
    "\n",
    "        value=value.encode('latin-1').decode('gbk')\n",
    "\n",
    "    return value\n",
    "\n",
    "b=pd.read_stata('C:\\\\Users\\\\hzg0601\\\\Desktop\\\\migration_population_data\\\\2017年中国流动人口动态监测调查数据（A 卷）\\\\2017年中国流动人口动态监测调查数据（A 卷）\\\\2017_Migrant_A_desensitized.dta')\n",
    "for i in b:\n",
    "    try:\n",
    "        b[i]=b[i].apply(select)\n",
    "       \n",
    "    except AttributeError:\n",
    "        print(i,'****',b[i][0],'***********','AttributeError')\n",
    "        continue\n",
    "    except UnicodeEncodeError:\n",
    "        print(i,'****',b[i][0],'***********','UnicodeEncodeError')\n",
    "        continue\n",
    "    except:\n",
    "        print(i,'****',b[i][0],'***********','unkown except')\n",
    "        continue\n",
    "\n",
    "b.to_excel('2017.xlsx')"
   ]
  },
  {
   "cell_type": "code",
   "execution_count": null,
   "metadata": {},
   "outputs": [],
   "source": [
    "import os\n",
    "import pandas as pd\n",
    "filepath='C:\\\\Users\\\\hzg0601\\\\Desktop\\\\migration_population_data\\\\'\n",
    "filename=os.listdir(filepath)\n",
    "filelist=[]\n",
    "for root,dirs,files in os.walk(filepath):\n",
    "    for file in files:import os\n",
    "root_filepath='C:\\\\Users\\\\hzg0601\\\\Desktop\\\\migration_population_data'\n",
    "# filename=os.listdir(filepath)\n",
    "filelist=[]\n",
    "\n",
    "filepathlist=[]\n",
    "for root,dirs,files in os.walk(root_filepath):\n",
    "\n",
    "    for file in files:\n",
    "        filelist.append(file.split('.')[0])\n",
    "        filepathlist.append(os.path.join(root,file))\n",
    "        filelist.append(filepath)\n",
    "filelist  \n",
    "\n",
    "\n",
    "def stata2xlsx(filepathlist=filepathlist,filelist=filelist):\n",
    "    for filepath,filename in zip(filepathlist,filelist):\n",
    "        \n",
    "        try:\n",
    "            file=pd.read_stata(filepath)\n",
    "            for i in file:\n",
    "                try:\n",
    "                    file[i]=file[i].apply(lambda x:x.encode('latin-1').decode('gbk'))\n",
    "                except:\n",
    "                    continue\n",
    "\n",
    "            file.to_excel(os.path.join(root_filepath,filename+'.xlsx'))\n",
    "        except:\n",
    "            print(filepath)\n",
    "stata2xlsx()"
   ]
  },
  {
   "cell_type": "code",
   "execution_count": null,
   "metadata": {},
   "outputs": [],
   "source": [
    "import os\n",
    "\n",
    "\n",
    "from pyecharts import Geo, Map\n",
    "\n",
    "def load_large_dta(fname):\n",
    "    import sys\n",
    "\n",
    "    reader = pd.read_stata(fname,iterator=True)\n",
    "    df = pd.DataFrame()\n",
    "\n",
    "    try:\n",
    "        chunk = reader.get_chunk(100*1000)\n",
    "        while len(chunk) > 0:\n",
    "            df = df.append(chunk, ignore_index=True)\n",
    "            chunk = reader.get_chunk(100*1000)\n",
    "            print ('.')\n",
    "            sys.stdout.flush()\n",
    "    except (StopIteration, KeyboardInterrupt):\n",
    "        pass\n",
    "\n",
    "    print('\\nloaded {} rows'.format(len(df)))\n",
    "\n",
    "    return df\n",
    "\n",
    "\n",
    "\n",
    "def deconde_str(string):\n",
    "    \"\"\"\n",
    "    解码 dta文件防止 乱码\n",
    "    \"\"\"\n",
    "    re = string.encode('latin-1').decode('utf-8')\n",
    "    return re"
   ]
  }
 ],
 "metadata": {
  "kernelspec": {
   "display_name": "Python 3",
   "language": "python",
   "name": "python3"
  },
  "language_info": {
   "codemirror_mode": {
    "name": "ipython",
    "version": 3
   },
   "file_extension": ".py",
   "mimetype": "text/x-python",
   "name": "python",
   "nbconvert_exporter": "python",
   "pygments_lexer": "ipython3",
   "version": "3.6.5"
  },
  "latex_envs": {
   "LaTeX_envs_menu_present": true,
   "autoclose": true,
   "autocomplete": false,
   "bibliofile": "biblio.bib",
   "cite_by": "apalike",
   "current_citInitial": 1,
   "eqLabelWithNumbers": true,
   "eqNumInitial": 1,
   "hotkeys": {
    "equation": "Ctrl-E",
    "itemize": "Ctrl-I"
   },
   "labels_anchors": false,
   "latex_user_defs": false,
   "report_style_numbering": false,
   "user_envs_cfg": false
  },
  "toc": {
   "base_numbering": 1,
   "nav_menu": {},
   "number_sections": true,
   "sideBar": false,
   "skip_h1_title": false,
   "title_cell": "Table of Contents",
   "title_sidebar": "Contents",
   "toc_cell": false,
   "toc_position": {},
   "toc_section_display": true,
   "toc_window_display": false
  }
 },
 "nbformat": 4,
 "nbformat_minor": 2
}
