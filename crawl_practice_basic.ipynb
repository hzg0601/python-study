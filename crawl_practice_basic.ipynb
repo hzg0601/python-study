{
 "cells": [
  {
   "cell_type": "code",
   "execution_count": 2,
   "metadata": {},
   "outputs": [
    {
     "name": "stdout",
     "output_type": "stream",
     "text": [
      "200\n",
      "gbk\n"
     ]
    },
    {
     "data": {
      "text/plain": [
       "'<!DOCTYPE HTML>\\n<html lang=\"zh-CN\">\\n<head>\\n    <!-- shouji -->\\n    <meta http-equiv=\"Content-Type\" content=\"text/html; charset=gbk\" />\\n    <title>【福佳进口啤酒】比利时进口啤酒 Hoegaarden 福佳白啤酒 330ml*24瓶 整箱装【行情 报价 价格 评测】-京东</title>\\n    <meta name=\"keywords\" content=\"Hoegaarden进口啤酒,福佳进口啤酒,福佳进口啤酒报价,Hoegaarden进口啤酒报价\"/>\\n    <meta name=\"description\" content=\"【福佳进口啤酒】京东JD.COM提供福佳进口啤酒正品行货，并包括Hoegaarden进口啤酒网购指南，以及福佳进口啤酒图片、进口啤酒参数、进口啤酒评论、进口啤酒心得、进口啤酒技巧等信息，网购福佳进口啤酒上京东,放心又轻松\" />\\n    <meta name=\"format-detection\" content=\"telephone=no\">\\n    <meta http-equiv=\"mobile-agent\" content=\"format=xhtml; url=//item.m.jd.com/product/4035443.html\">\\n    <meta http-equiv=\"mobile-agent\" content=\"format=html5; url=//item.m.jd.com/product/4035443.html\">\\n    <meta http-equiv=\"X-UA-Compatible\" content=\"IE=Edge\">\\n    <link rel=\"canonical\" href=\"//item.jd.com/4035443.html\"/>\\n        <link rel=\"dns-prefetch\" href=\"//misc.360buyimg.com\"/>\\n    <link rel=\"dns-prefetch\" href=\"//static.360buyimg.com\"/>\\n    <link rel=\"dns-prefetch\" href=\"//i'"
      ]
     },
     "execution_count": 2,
     "metadata": {},
     "output_type": "execute_result"
    }
   ],
   "source": [
    "import requests as rq\n",
    "r=rq.get('https://item.jd.com/4035443.html')\n",
    "print(r.status_code)\n",
    "print(r.encoding)\n",
    "r.text[:1000]"
   ]
  },
  {
   "cell_type": "code",
   "execution_count": 3,
   "metadata": {},
   "outputs": [
    {
     "name": "stdout",
     "output_type": "stream",
     "text": [
      "<!DOCTYPE HTML>\n",
      "<html lang=\"zh-CN\">\n",
      "<head>\n",
      "    <!-- shouji -->\n",
      "    <meta http-equiv=\"Content-Type\" content=\"text/html; charset=gbk\" />\n",
      "    <title>【福佳进口啤酒】比利时进口啤酒 Hoegaarden 福佳白啤酒 330ml*24瓶 整箱装【行情 报价 价格 评测】-京东</title>\n",
      "    <meta name=\"keywords\" content=\"Hoegaarden进口啤酒,福佳进口啤酒,福佳进口啤酒报价,Hoegaarden进口啤酒报价\"/>\n",
      "    <meta name=\"description\" content=\"【福佳进口啤酒】京东JD.COM提供福佳进口啤酒正品行货，并包括Hoegaarden进口啤酒网购指南，以及福佳进口啤酒图片、进口啤酒参数、进口啤酒评论、进口啤酒心得、进口啤酒技巧等信息，网购福佳进口啤酒上京东,放心又轻松\" />\n",
      "    <meta name=\"format-detection\" content=\"telephone=no\">\n",
      "    <meta http-equiv=\"mobile-agent\" content=\"format=xhtml; url=//item.m.jd.com/product/4035443.html\">\n",
      "    <meta http-equiv=\"mobile-agent\" content=\"format=html5; url=//item.m.jd.com/product/4035443.html\">\n",
      "    <meta http-equiv=\"X-UA-Compatible\" content=\"IE=Edge\">\n",
      "    <link rel=\"canonical\" href=\"//item.jd.com/4035443.html\"/>\n",
      "        <link rel=\"dns-prefetch\" href=\"//misc.360buyimg.com\"/>\n",
      "    <link rel=\"dns-prefetch\" href=\"//static.360buyimg.com\"/>\n",
      "    <link rel=\"dns-prefetch\" href=\"//i\n"
     ]
    }
   ],
   "source": [
    "import requests as rq\n",
    "url='https://item.jd.com/4035443.html'\n",
    "try:\n",
    "    r=rq.get(url)\n",
    "    r.raise_for_status()\n",
    "    r.encoding=r.apparent_encoding\n",
    "    print(r.text[:1000])\n",
    "except:\n",
    "    print('爬取失败')"
   ]
  },
  {
   "cell_type": "code",
   "execution_count": 7,
   "metadata": {},
   "outputs": [
    {
     "name": "stdout",
     "output_type": "stream",
     "text": [
      "200\n",
      "UTF-8\n"
     ]
    },
    {
     "data": {
      "text/plain": [
       "{'user-agent': 'Chrome/10', 'Accept-Encoding': 'gzip, deflate', 'Accept': '*/*', 'Connection': 'keep-alive'}"
      ]
     },
     "execution_count": 7,
     "metadata": {},
     "output_type": "execute_result"
    }
   ],
   "source": [
    "import requests as rq\n",
    "kv={'user-agent':'Chrome/10'}\n",
    "url='https://www.amazon.cn/dp/B073LZ7NTH'\n",
    "r=rq.get(url,headers=kv)\n",
    "print(r.status_code)\n",
    "print(r.encoding)\n",
    "r.text[:50]\n",
    "r.request.headers"
   ]
  },
  {
   "cell_type": "code",
   "execution_count": 9,
   "metadata": {},
   "outputs": [
    {
     "name": "stdout",
     "output_type": "stream",
     "text": [
      "200\n",
      "http://www.baidu.com/s?wd=python\n"
     ]
    },
    {
     "data": {
      "text/plain": [
       "321110"
      ]
     },
     "execution_count": 9,
     "metadata": {},
     "output_type": "execute_result"
    }
   ],
   "source": [
    "#搜索引擎关键词提交接口\n",
    "#百度的关键词接口:http://www.baidu.com/s?wd=keyword\n",
    "#360的关键词接口:http://www.so.com/s?wd=keyword   #替换keyword即可向搜索引擎提交关键词\n",
    "\n",
    "import requests as rq\n",
    "kv={'wd':'python'}#提交关键词\n",
    "url='http://www.baidu.com/s'\n",
    "r=rq.get(url,params=kv)\n",
    "print(r.status_code)\n",
    "print(r.request.url)\n",
    "len(r.text)"
   ]
  },
  {
   "cell_type": "code",
   "execution_count": 14,
   "metadata": {},
   "outputs": [
    {
     "name": "stdout",
     "output_type": "stream",
     "text": [
      "文件保存成功\n"
     ]
    }
   ],
   "source": [
    "import requests as rq\n",
    "import os \n",
    "url='https://s3.cn-north-1.amazonaws.com.cn/sitbweb-cn/content/B079FNYLFQ/resources/837781481'\n",
    "root='E://pics//'\n",
    "kv={'user-agent':'Chrome/10'}\n",
    "path=root+url.split('/')[-1]\n",
    "\n",
    "if not os.path.exists(root):\n",
    "    os.mkdir(root)\n",
    "if not os.path.exists(path):\n",
    "    r=rq.get(url,headers=kv)\n",
    "    with open(path,'wb') as f:\n",
    "        f.write(r.content)\n",
    "        f.close()\n",
    "        print('文件保存成功')\n",
    "else:\n",
    "    print('文件已存在')\n"
   ]
  },
  {
   "cell_type": "code",
   "execution_count": 18,
   "metadata": {},
   "outputs": [
    {
     "name": "stdout",
     "output_type": "stream",
     "text": [
      "文件保存成功\n"
     ]
    }
   ],
   "source": [
    "import requests as rq\n",
    "import os \n",
    "url='https://www.youtube.com/MRMzByNval0'\n",
    "root='E://pics//'\n",
    "kv={'user-agent':'Chrome/10'}\n",
    "path=root+url.split('/')[-1]\n",
    "\n",
    "if not os.path.exists(root):\n",
    "    os.mkdir(root)\n",
    "if not os.path.exists(path):\n",
    "    r=rq.get(url,headers=kv)\n",
    "    with open(path,'wb') as f:\n",
    "        f.write(r.content)\n",
    "        f.close()\n",
    "        print('文件保存成功')\n",
    "else:\n",
    "    print('文件已存在')"
   ]
  },
  {
   "cell_type": "code",
   "execution_count": 20,
   "metadata": {},
   "outputs": [
    {
     "name": "stdout",
     "output_type": "stream",
     "text": [
      "please input the ip221.238.245.24\n"
     ]
    },
    {
     "data": {
      "text/plain": [
       "'cript\" src=\"http://tajs.qq.com/stats?sId=36241650\" charset=\"UTF-8\"></script></div>\\r\\n</body>\\r\\n</html>'"
      ]
     },
     "execution_count": 20,
     "metadata": {},
     "output_type": "execute_result"
    }
   ],
   "source": [
    "import requests as rq\n",
    "url='http://www.ip138.com/ips138.asp?ip='\n",
    "ip=input('please input the ip')\n",
    "r=rq.get(url+ip)\n",
    "r.status_code\n",
    "r.text[100:]"
   ]
  },
  {
   "cell_type": "code",
   "execution_count": 26,
   "metadata": {},
   "outputs": [
    {
     "data": {
      "text/plain": [
       "[48, 49]"
      ]
     },
     "execution_count": 26,
     "metadata": {},
     "output_type": "execute_result"
    }
   ],
   "source": [
    "from numpy import *\n",
    "a=list(arange(50))\n",
    "a[-2:]"
   ]
  },
  {
   "cell_type": "code",
   "execution_count": 25,
   "metadata": {},
   "outputs": [
    {
     "name": "stdout",
     "output_type": "stream",
     "text": [
      "<class 'bs4.element.Tag'>\n"
     ]
    },
    {
     "data": {
      "text/plain": [
       "'10.71'"
      ]
     },
     "execution_count": 25,
     "metadata": {},
     "output_type": "execute_result"
    }
   ],
   "source": [
    "import requests as rq\n",
    "import re\n",
    "from bs4 import BeautifulSoup as BS\n",
    "\n",
    "url='https://gupiao.baidu.com/stock/sh601766.html'\n",
    "r=rq.get(url)\n",
    "r.encoding=r.apparent_encoding\n",
    "demo=r.text\n",
    "soup=BS(demo,'html.parser')\n",
    "bsfind=soup.find_all('div',attrs={'class':\"line2\"},recursive=True)\n",
    "print(type(bsfind[0]))\n",
    "bsfind[0].dt.text.split()\n",
    "bsfind[0].dd.text.split()[0]"
   ]
  },
  {
   "cell_type": "code",
   "execution_count": null,
   "metadata": {},
   "outputs": [],
   "source": []
  }
 ],
 "metadata": {
  "kernelspec": {
   "display_name": "Python 3",
   "language": "python",
   "name": "python3"
  },
  "language_info": {
   "codemirror_mode": {
    "name": "ipython",
    "version": 3
   },
   "file_extension": ".py",
   "mimetype": "text/x-python",
   "name": "python",
   "nbconvert_exporter": "python",
   "pygments_lexer": "ipython3",
   "version": "3.6.5"
  },
  "latex_envs": {
   "LaTeX_envs_menu_present": true,
   "autoclose": true,
   "autocomplete": false,
   "bibliofile": "biblio.bib",
   "cite_by": "apalike",
   "current_citInitial": 1,
   "eqLabelWithNumbers": true,
   "eqNumInitial": 1,
   "hotkeys": {
    "equation": "Ctrl-E",
    "itemize": "Ctrl-I"
   },
   "labels_anchors": false,
   "latex_user_defs": false,
   "report_style_numbering": false,
   "user_envs_cfg": false
  },
  "toc": {
   "base_numbering": 1,
   "nav_menu": {},
   "number_sections": true,
   "sideBar": false,
   "skip_h1_title": false,
   "title_cell": "Table of Contents",
   "title_sidebar": "Contents",
   "toc_cell": false,
   "toc_position": {},
   "toc_section_display": true,
   "toc_window_display": false
  }
 },
 "nbformat": 4,
 "nbformat_minor": 2
}
