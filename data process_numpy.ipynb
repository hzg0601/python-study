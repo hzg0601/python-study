{
 "cells": [
  {
   "cell_type": "code",
   "execution_count": 1,
   "metadata": {},
   "outputs": [],
   "source": [
    "#列表和数组\n",
    "    #列表的数据类型可以不同,数组的数据类型则须相同(节省存储空间)\n",
    "    #数组是以向量为基础进行计算,而列表则是以元素为基础,因此数组可以省去元素间运算所需的循环,使一维向量更像单个数据\n",
    "#高维数据:仅利用最基本的二元关系展示数据间的复杂结构,字典类型,json,xml,yaml\n",
    "\n",
    "#numpy\n",
    "    #广播功能函数\n",
    "    #ndarray\n",
    "    #整合C/C++/fortran代码的工具\n",
    "    #线性代数,傅里叶变换,随机数生成等功能\n",
    "    \n",
    "#array,asarray:array和asarray都可以将结构数据转化为ndarray，\n",
    "#但是主要区别就是当数据源是ndarray时，array仍然会copy出一个副本，占用新的内存，但asarray不会。\n",
    "#ndarray是一个类,而array是一个函数(方法)\n",
    "\n",
    "#.ndim,秩,即轴的数量或维度的数量(即维度dimension)\n",
    "#.shape,形状\n",
    "#.size,对象元素的个数\n",
    "#.dtype,对象元素类型,便于储存和计算,控制程序规模\n",
    "    #bool\n",
    "    #intc,与c语言中的int类型一致,一般是int32或int64\n",
    "    #intp,用于索引的整数,与C语言的ssize_t一致,int32或int64\n",
    "    #int8,字节长度的整数,取值[-2**7,2**7-1]\n",
    "    #int16,16位长度的整数\n",
    "    #int32\n",
    "    #int64\n",
    "    #unit8,8位无符号整数,取值[0,2**8]\n",
    "    #unit16,\n",
    "    #unit32\n",
    "    #unit64\n",
    "    #float16,16位半精度浮点数,1位符号位,5位指数,10位尾数\n",
    "    #float32,32位单精度浮点数,8位指数,23位尾数\n",
    "    #float64,64位双精度浮点数,11位指数,52位尾数\n",
    "    #complex64,复数类型,实部和虚部都是32位浮点数\n",
    "    #complex128,实部和虚部都是64位浮点数\n",
    "    \n",
    "#.itemsize,对象每个元素的大小,以字节为单位\n",
    "\n",
    "#当数组维度不同时,每一个元素返回对象为\"Object\"    \n",
    "\n",
    "\n",
    "    "
   ]
  },
  {
   "cell_type": "code",
   "execution_count": 3,
   "metadata": {},
   "outputs": [
    {
     "name": "stdout",
     "output_type": "stream",
     "text": [
      "3\n",
      "(2, 2, 2)\n",
      "int32\n",
      "4\n"
     ]
    }
   ],
   "source": [
    "from numpy import *\n",
    "a=array([1,2,3,4,5,6,7,8]).reshape(2,2,2)\n",
    "print(a.ndim)\n",
    "print(a.shape)\n",
    "print(a.dtype)\n",
    "print(a.itemsize)#数据元大小"
   ]
  },
  {
   "cell_type": "code",
   "execution_count": 1,
   "metadata": {},
   "outputs": [],
   "source": [
    "#ndarray数组的创建方法\n",
    "    #从python中的列表\\元组等类型创建ndarray数组,np.array(list/tuple,dtype=np.float32)\n",
    "    #使用函数创建,如arange(n),从0到n-1;,zeros(shape),ones(shape),np.full(shape,val),np.eye(n)\n",
    "    #从字节流(raw bytes)创建\n",
    "    #从文件读取特定格式\n",
    "    "
   ]
  },
  {
   "cell_type": "code",
   "execution_count": 2,
   "metadata": {},
   "outputs": [
    {
     "name": "stdout",
     "output_type": "stream",
     "text": [
      "[[1.  2. ]\n",
      " [2.3 3.5]]\n",
      "[0 1 2 3 4]\n",
      "[[0. 0. 0. 0. 0.]\n",
      " [0. 0. 0. 0. 0.]\n",
      " [0. 0. 0. 0. 0.]]\n",
      "[[4 4 4 4 4]\n",
      " [4 4 4 4 4]\n",
      " [4 4 4 4 4]]\n",
      "[[1. 0. 0. 0.]\n",
      " [0. 1. 0. 0.]\n",
      " [0. 0. 1. 0.]\n",
      " [0. 0. 0. 1.]]\n"
     ]
    }
   ],
   "source": [
    "import numpy as np\n",
    "x=np.array([[1,2],(2.3,3.5)])\n",
    "print(x)\n",
    "print(np.arange(5))#0~n-1\n",
    "print(np.zeros((3,5)))#shape必须是元组类型\n",
    "print(np.full((3,5),4))#生产形状为shape,数值为val的数组\n",
    "print(np.eye(4))#生成单位阵"
   ]
  },
  {
   "cell_type": "code",
   "execution_count": 28,
   "metadata": {
    "scrolled": true
   },
   "outputs": [
    {
     "name": "stdout",
     "output_type": "stream",
     "text": [
      "[1 1 1]\n",
      "[[0 0]\n",
      " [0 0]]\n",
      "[5 5 5]\n"
     ]
    }
   ],
   "source": [
    "print(np.ones_like([2,3,4]))#生成一个和数组shape一致的全是1的数组\n",
    "print(np.zeros_like([[1,2],[2,3]]))#必须是数组\n",
    "print(np.full_like([1,3,4],5))"
   ]
  },
  {
   "cell_type": "code",
   "execution_count": 39,
   "metadata": {},
   "outputs": [
    {
     "name": "stdout",
     "output_type": "stream",
     "text": [
      "[1.         2.33333333 3.66666667 5.        ]\n"
     ]
    },
    {
     "data": {
      "text/plain": [
       "array([[0., 0., 0.],\n",
       "       [0., 0., 0.],\n",
       "       [1., 1., 1.]])"
      ]
     },
     "execution_count": 39,
     "metadata": {},
     "output_type": "execute_result"
    }
   ],
   "source": [
    "print(np.linspace(1,5,num=4,endpint=False))#其,止,数目,不包含尾部,默认为True\n",
    "a=np.array(zeros((2,3)))\n",
    "b=np.array(ones((1,3)))\n",
    "np.concatenate((a,b),axis=0)#将一个多个数组按axis合并,被合并数组,以()组合,axis默认为0\n",
    "#numpy默认数字类型为浮点数"
   ]
  },
  {
   "cell_type": "code",
   "execution_count": 46,
   "metadata": {},
   "outputs": [
    {
     "data": {
      "text/plain": [
       "[[23.0, 0.0], [0.0, 0.0], [0.0, 0.0]]"
      ]
     },
     "execution_count": 46,
     "metadata": {},
     "output_type": "execute_result"
    }
   ],
   "source": [
    "#reshape,不改变数组元素,返回一个shape形状的数组,原数组不变\n",
    "#resize,与reshape功能相似,但修改原数组\n",
    "#swapaxes(axis1,axis2)#将数组N个维度中两个维度进行调换\n",
    "#.flatten(),对数组进行降维,返回折叠后的一维数组,原数组不变\n",
    "#.ravel(),与flatten类似,修改原数组,即当值被修改后,原数组也会改变\n",
    "#.astype(new_type)#改变数组元素类型,生成一个新的数组\n",
    "#.tolist()转化成list\n",
    "\n",
    "a=np.array(zeros((2,3)))\n",
    "a.reshape(3,2)\n",
    "a.resize(3,2)\n",
    "a.swapaxes(0,1)\n",
    "a.flatten()\n",
    "a.ravel()[0]=23\n",
    "a.astype(np.int)\n",
    "a.tolist()"
   ]
  },
  {
   "cell_type": "code",
   "execution_count": 50,
   "metadata": {},
   "outputs": [
    {
     "name": "stdout",
     "output_type": "stream",
     "text": [
      "[[[ 0  1  2  3]\n",
      "  [ 4  5  6  7]\n",
      "  [ 8  9 10 11]]\n",
      "\n",
      " [[12 13 14 15]\n",
      "  [16 17 18 19]\n",
      "  [20 21 22 23]]]\n",
      "17\n",
      "[ 5 17]\n",
      "[[[ 0  2]\n",
      "  [ 4  6]\n",
      "  [ 8 10]]\n",
      "\n",
      " [[12 14]\n",
      "  [16 18]\n",
      "  [20 22]]]\n"
     ]
    }
   ],
   "source": [
    "#索引和切片\n",
    "a=np.array([9,8,7,6,5])\n",
    "a[1:-1:2]#起始:终止:步长\n",
    "a=arange(24).reshape((2,3,4))\n",
    "print(a)\n",
    "print(a[-1,-2,-3])\n",
    "print(a[:,1,-3])#选取整个维度\n",
    "print(a[:,:,::2])#步长为2\n"
   ]
  },
  {
   "cell_type": "code",
   "execution_count": 73,
   "metadata": {},
   "outputs": [
    {
     "name": "stdout",
     "output_type": "stream",
     "text": [
      "[[[0.         0.08695652 0.17391304 0.26086957]\n",
      "  [0.34782609 0.43478261 0.52173913 0.60869565]\n",
      "  [0.69565217 0.7826087  0.86956522 0.95652174]]\n",
      "\n",
      " [[1.04347826 1.13043478 1.2173913  1.30434783]\n",
      "  [1.39130435 1.47826087 1.56521739 1.65217391]\n",
      "  [1.73913043 1.82608696 1.91304348 2.        ]]]\n",
      "**********************************\n",
      "[[[0.         1.         1.41421356 1.73205081]\n",
      "  [2.         2.23606798 2.44948974 2.64575131]\n",
      "  [2.82842712 3.         3.16227766 3.31662479]]\n",
      "\n",
      " [[3.46410162 3.60555128 3.74165739 3.87298335]\n",
      "  [4.         4.12310563 4.24264069 4.35889894]\n",
      "  [4.47213595 4.58257569 4.69041576 4.79583152]]]\n",
      "*********************************\n",
      "[[[0. 1. 2. 2.]\n",
      "  [2. 3. 3. 3.]\n",
      "  [3. 3. 4. 4.]]\n",
      "\n",
      " [[4. 4. 4. 4.]\n",
      "  [4. 5. 5. 5.]\n",
      "  [5. 5. 5. 5.]]]\n",
      "*********************************\n",
      "[[[0. 1. 1. 1.]\n",
      "  [2. 2. 2. 2.]\n",
      "  [2. 3. 3. 3.]]\n",
      "\n",
      " [[3. 3. 3. 3.]\n",
      "  [4. 4. 4. 4.]\n",
      "  [4. 4. 4. 4.]]]\n",
      "*********************************\n",
      "[[[0. 1. 1. 2.]\n",
      "  [2. 2. 2. 3.]\n",
      "  [3. 3. 3. 3.]]\n",
      "\n",
      " [[3. 4. 4. 4.]\n",
      "  [4. 4. 4. 4.]\n",
      "  [4. 5. 5. 5.]]]\n",
      "*********************************\n",
      "(array([[[0.        , 0.        , 0.41421356, 0.73205081],\n",
      "        [0.        , 0.23606798, 0.44948974, 0.64575131],\n",
      "        [0.82842712, 0.        , 0.16227766, 0.31662479]],\n",
      "\n",
      "       [[0.46410162, 0.60555128, 0.74165739, 0.87298335],\n",
      "        [0.        , 0.12310563, 0.24264069, 0.35889894],\n",
      "        [0.47213595, 0.58257569, 0.69041576, 0.79583152]]]), array([[[0., 1., 1., 1.],\n",
      "        [2., 2., 2., 2.],\n",
      "        [2., 3., 3., 3.]],\n",
      "\n",
      "       [[3., 3., 3., 3.],\n",
      "        [4., 4., 4., 4.],\n",
      "        [4., 4., 4., 4.]]]))\n",
      "*********************************\n",
      "[[[0 1 1 1]\n",
      "  [1 1 1 1]\n",
      "  [1 1 1 1]]\n",
      "\n",
      " [[1 1 1 1]\n",
      "  [1 1 1 1]\n",
      "  [1 1 1 1]]]\n"
     ]
    }
   ],
   "source": [
    "#数组计算\n",
    "    #np.abs(x)\n",
    "    #np.fabs(x)绝对值\n",
    "    #np.sqrt(x)\n",
    "    #np.square(x)\n",
    "    #np.log(x),np.log10(x),np.log2(x)\n",
    "    #np.ceil(x)等于或超过这个元素的最小整数\n",
    "    #np.floor(x)小于这个元素的最大整数值\n",
    "    #np.rint(x),四舍五入\n",
    "    #np.modf(x),将数组各元素的小数和整数部分以两个独立的数组形式返回\n",
    "    #np.cos/np.cosh/np.sin/np.sinh/np.tan/np.tanh,普通型和双曲型三角函数\n",
    "    #np.exp(x)\n",
    "    #np.sign(x),计算各元素的符号值,1+;0,0;-1,-;\n",
    "    \n",
    "a=arange(24).reshape((2,3,4))\n",
    "print(a/a.mean())\n",
    "print('**********************************')\n",
    "np.abs(a)\n",
    "np.fabs(a)\n",
    "print(np.sqrt(a))\n",
    "print('*********************************')\n",
    "print(np.ceil(np.sqrt(a)))\n",
    "print('*********************************')\n",
    "print(np.floor(np.sqrt(a)))\n",
    "print('*********************************')\n",
    "print(np.rint(np.sqrt(a)))\n",
    "print('*********************************')\n",
    "print(np.modf(np.sqrt(a)))\n",
    "print('*********************************')\n",
    "print(np.sign(a))"
   ]
  },
  {
   "cell_type": "code",
   "execution_count": 75,
   "metadata": {},
   "outputs": [
    {
     "name": "stdout",
     "output_type": "stream",
     "text": [
      "[[[ 0.  1.  2.  3.]\n",
      "  [ 4.  5.  6.  7.]\n",
      "  [ 8.  9. 10. 11.]]\n",
      "\n",
      " [[12. 13. 14. 15.]\n",
      "  [16. 17. 18. 19.]\n",
      "  [20. 21. 22. 23.]]]\n",
      "[[[False False  True  True]\n",
      "  [ True  True  True  True]\n",
      "  [ True  True  True  True]]\n",
      "\n",
      " [[ True  True  True  True]\n",
      "  [ True  True  True  True]\n",
      "  [ True  True  True  True]]]\n"
     ]
    }
   ],
   "source": [
    "#二元函数\n",
    "    #+-*/**\n",
    "    #np.maximum(x,y),np.fmax()\n",
    "    #np.minimun(x,y),np.fmax()\n",
    "    #np.mod(x,y)取模,取除数\n",
    "    #np.copysign(x,y)符号赋值\n",
    "    #><==!=<+,>==,算术比较,返回布尔型数组\n",
    "b=np.sqrt(a)\n",
    "print(np.fmax(a,b))\n",
    "print(a>b)"
   ]
  },
  {
   "cell_type": "code",
   "execution_count": 69,
   "metadata": {},
   "outputs": [
    {
     "data": {
      "image/png": "[encoded data removed]",
      "text/plain": [
       "<matplotlib.figure.Figure at 0x22333e71e80>"
      ]
     },
     "metadata": {},
     "output_type": "display_data"
    },
    {
     "name": "stdout",
     "output_type": "stream",
     "text": [
      "None\n"
     ]
    },
    {
     "data": {
      "image/png": "[encoded data removed]",
      "text/plain": [
       "<matplotlib.figure.Figure at 0x22333e71240>"
      ]
     },
     "metadata": {},
     "output_type": "display_data"
    }
   ],
   "source": [
    "import matplotlib.pyplot as plt\n",
    "import matplotlib.image as img\n",
    "h1=img.imread('C:\\\\Users\\\\hzg0601\\\\Desktop\\\\other\\\\hyperbolic1.png')\n",
    "h2=img.imread('C:\\\\Users\\\\hzg0601\\\\Desktop\\\\other\\\\hyperbolic2.png')\n",
    "plt.imshow(h1)\n",
    "plt.axis('off')\n",
    "print(plt.show())\n",
    "plt.imshow(h2)\n",
    "plt.axis('off')\n",
    "plt.show()\n"
   ]
  },
  {
   "cell_type": "code",
   "execution_count": 81,
   "metadata": {},
   "outputs": [
    {
     "name": "stdout",
     "output_type": "stream",
     "text": [
      "[[[ 0  1  2  3]\n",
      "  [ 4  5  6  7]\n",
      "  [ 8  9 10 11]]\n",
      "\n",
      " [[12 13 14 15]\n",
      "  [16 17 18 19]\n",
      "  [20 21 22 23]]]\n",
      "*********************************************\n",
      "[[[ 0  1  2  3]\n",
      "  [ 4  5  6  7]\n",
      "  [ 8  9 10 11]]\n",
      "\n",
      " [[12 13 14 15]\n",
      "  [16 17 18 19]\n",
      "  [20 21 22 23]]]\n",
      "***********************************\n",
      "[[[ 0  1  2  3]\n",
      "  [ 4  5  6  7]\n",
      "  [ 8  9 10 11]]\n",
      "\n",
      " [[12 13 14 15]\n",
      "  [16 17 18 19]\n",
      "  [20 21 22 23]]]\n"
     ]
    }
   ],
   "source": [
    "#读写CSV\n",
    "    #np.savetxt(frame,array,fmt='%.18e',delimiter=None)#fmt数据格式,delimiter=',',frame,文件名\n",
    "    #np.loadtxt(frame,dtype=np.float,delimiter=None,unpack=False)#frame可以是压缩文件,bz2,gz等,unpack,如果True,读入属性将分别写入不同变量\n",
    "        #\n",
    "    #只能存储/读取一维,二维数组\n",
    "\n",
    "    \n",
    "    #a.tofile(frame,sep='',format='%s'),frame,如b.dat等;sep分割字符串,如果是空串,写入二进制;format,写入文件的格式\n",
    "    #np.fromfile(frame,dtype=float,count=-1,sep=''),count,读入元素的个数,-1表示读入整个文件\n",
    "\n",
    "    #将shape,sep等信息也另存一个文件\n",
    "    \n",
    "    #np.save(fname,array),或np.savez(fname,array),fname,以.npy为扩展名,压缩扩展名为.npz\n",
    "    #np.load(fname)#以二进制形式存储\n",
    "    \n",
    "a=np.arange(24).reshape(2,3,4)\n",
    "a.tofile('a.dat',sep=',',format='%d')\n",
    "c=np.fromfile('a.dat',dtype=np.int,sep=',').reshape(2,3,4)\n",
    "print(c)\n",
    "print('*********************************************')\n",
    "a.tofile('b.dat',format='%d')\n",
    "d=np.fromfile('b.dat',dtype=np.int).reshape(2,3,4)\n",
    "print(d)\n",
    "print('***********************************')\n",
    "np.save('d.npy',a)\n",
    "print(np.load('d.npy'))"
   ]
  },
  {
   "cell_type": "code",
   "execution_count": 118,
   "metadata": {},
   "outputs": [
    {
     "name": "stdout",
     "output_type": "stream",
     "text": [
      "[[[0.77132064 0.02075195 0.63364823 0.74880388 0.49850701 0.22479665\n",
      "   0.19806286 0.76053071 0.16911084 0.08833981]\n",
      "  [0.68535982 0.95339335 0.00394827 0.51219226 0.81262096 0.61252607\n",
      "   0.72175532 0.29187607 0.91777412 0.71457578]\n",
      "  [0.54254437 0.14217005 0.37334076 0.67413362 0.44183317 0.43401399\n",
      "   0.61776698 0.51313824 0.65039718 0.60103895]\n",
      "  [0.8052232  0.52164715 0.90864888 0.31923609 0.09045935 0.30070006\n",
      "   0.11398436 0.82868133 0.04689632 0.62628715]\n",
      "  [0.54758616 0.819287   0.19894754 0.8568503  0.35165264 0.75464769\n",
      "   0.29596171 0.88393648 0.32551164 0.1650159 ]]]\n",
      "*****************************\n",
      "[[[-0.80459114 -0.21269764 -0.33914025]\n",
      "  [ 0.31216994  0.56515267 -0.14742026]]]\n",
      "*****************************\n",
      "[186  80 109  43  58]\n",
      "*****************************\n",
      "[[ 1.65614717 -1.2345687  -1.05768472  0.13841398 -0.08590004]\n",
      " [-0.13623051 -1.13711521  0.63813581 -0.49160395 -1.24628501]\n",
      " [-0.37993208 -0.27125813 -1.45463451  0.45167545  1.12480673]\n",
      " [ 2.66987296  1.3330996  -0.96764219 -0.25143933  0.22066056]]\n",
      "*****************************\n",
      "[[12 13 14 15 16 17]\n",
      " [ 0  1  2  3  4  5]\n",
      " [18 19 20 21 22 23]\n",
      " [ 6  7  8  9 10 11]]\n",
      "****************************\n",
      "[[-0.13623051 -1.13711521  0.63813581 -0.49160395 -1.24628501]\n",
      " [-0.37993208 -0.27125813 -1.45463451  0.45167545  1.12480673]\n",
      " [ 2.66987296  1.3330996  -0.96764219 -0.25143933  0.22066056]\n",
      " [ 1.65614717 -1.2345687  -1.05768472  0.13841398 -0.08590004]]\n",
      "*******************************\n",
      "[[ 1.65614717 -1.2345687  -1.05768472  0.13841398 -0.08590004]\n",
      " [-0.13623051 -1.13711521  0.63813581 -0.49160395 -1.24628501]\n",
      " [-0.37993208 -0.27125813 -1.45463451  0.45167545  1.12480673]\n",
      " [ 2.66987296  1.3330996  -0.96764219 -0.25143933  0.22066056]]\n",
      "******************************\n"
     ]
    },
    {
     "data": {
      "text/plain": [
       "array([[247,  49,  96],\n",
       "       [255,  97,  83]])"
      ]
     },
     "execution_count": 118,
     "metadata": {},
     "output_type": "execute_result"
    }
   ],
   "source": [
    "#np.random模块\n",
    "    #rand(d0,d1,...dn),根据d0-dn创建随机数组,浮点数,[0,1),均匀分布\n",
    "    #randn(d0,d1,...dn),创建标准正态分布随机数组\n",
    "    #randint(low,high,size,dtype)创建随机整数数组,范围为(low,high),数目为size\n",
    "    #seed(s),随机数种子,s是给定的种子值\n",
    "    \n",
    "    #x.shuffle(a),根据数组a的第一轴进行随机排列,改变数组**************已无效\n",
    "    #permutation(a),根据数组a的第一轴产生一个新的乱序数组,不改变数组********************改变数组\n",
    "    #choice(a,size,replace,p),从a中随机抽取,size为数目,replace是否放回,p对应于a每个元素的抽取概率,a必须为1维\n",
    "    \n",
    "    #uniform(low,high,size)\n",
    "    #normal(loc,scale,size),loc为均值,scale为标准差\n",
    "    #poisson(lam,size)\n",
    "\n",
    "np.random.seed(10)\n",
    "print(np.random.rand(1,5,10))\n",
    "print('*****************************')\n",
    "print(np.random.randn(1,2,3))\n",
    "print('*****************************')\n",
    "print(np.random.randint(1,200,5))\n",
    "print('*****************************')\n",
    "a=np.arange(24).reshape(4,6)\n",
    "b=np.random.randn(4,5)\n",
    "print(b)\n",
    "print('*****************************')\n",
    "np.random.shuffle(a)\n",
    "print(a)\n",
    "print('****************************')\n",
    "print(np.random.permutation(b))#permutation\n",
    "print('*******************************')\n",
    "print(b)#不改变b\n",
    "print('******************************')\n",
    "\n",
    "b=np.random.randint(1,288,(10))\n",
    "np.random.choice(b,size=(2,3),replace=False,p=b/sum(b))#只能是1维"
   ]
  },
  {
   "cell_type": "code",
   "execution_count": 128,
   "metadata": {},
   "outputs": [
    {
     "name": "stdout",
     "output_type": "stream",
     "text": [
      "[[0.0379717  0.8171767  0.81246485]\n",
      " [0.18843566 0.3730624  0.74419214]]\n",
      "*********************\n",
      "[0.65897978 0.52170192]\n",
      "*********************************\n",
      "1\n",
      "***********************\n",
      "(0, 1)\n",
      "******************\n",
      "0.7792049997066005\n",
      "*****************\n",
      "0.5586272668925703\n"
     ]
    }
   ],
   "source": [
    "#统计函数\n",
    "    #np.sum(a,axis)\n",
    "    #.mean(a,axis)\n",
    "    #.average(a,axis,weights),加权平均数\n",
    "    #.std(a,axis)\n",
    "    #.std.var(a,axis)\n",
    "    #max,min\n",
    "    #argmin,argmax计算数组中元素的最小值\\最大值的降成一维后的下标\n",
    "    #unravel_index(index,shape)根据shape将一维下标index,转换成多维下标\n",
    "    #ptp(a),计算数组中元素最大值与最小值的差\n",
    "    #median()计算出的中位数\n",
    "    \n",
    "    #\n",
    "a=np.random.rand(2,3)\n",
    "print(a)\n",
    "print('*********************')\n",
    "print(np.average(a,axis=1,weights=[2,3,5]))\n",
    "print('*********************************')\n",
    "print(np.argmax(a))\n",
    "print('***********************')\n",
    "print(np.unravel_index(np.argmax(a),a.shape))\n",
    "print('******************')\n",
    "print(ptp(a))\n",
    "print('*****************')\n",
    "print(median(a))#计算的中位数"
   ]
  },
  {
   "cell_type": "code",
   "execution_count": 129,
   "metadata": {},
   "outputs": [
    {
     "data": {
      "text/plain": [
       "[array([[-0.85440929,  1.88926522, -0.19272156],\n",
       "        [-0.85440929,  1.88926522, -0.19272156]]),\n",
       " array([[-0.91676767,  0.51679568,  1.95035902],\n",
       "        [ 1.82690684,  0.84763954, -0.13162776]])]"
      ]
     },
     "execution_count": 129,
     "metadata": {},
     "output_type": "execute_result"
    }
   ],
   "source": [
    "#梯度函数\n",
    "    #np.gradient(f),计算数组中元素的梯度,当f为多维时,返回每个维度的梯度\n",
    "    #梯度是数值的变化率,即两个数之间的斜率\n",
    "a=np.random.randn(2,3)#只有单侧时除数为1,双侧时除数为2\n",
    "np.gradient(a)#任何一个元素有两个方向"
   ]
  },
  {
   "cell_type": "code",
   "execution_count": 168,
   "metadata": {},
   "outputs": [
    {
     "name": "stdout",
     "output_type": "stream",
     "text": [
      "1190 900\n"
     ]
    }
   ],
   "source": [
    "#图像的数组表示\n",
    "    #RGB,0-255,R/G/B都是一个字节\n",
    "from PIL import Image\n",
    "import numpy as np\n",
    "import matplotlib.image as img\n",
    "im2=np.array(img.imread('C:\\\\Users\\\\hzg0601\\\\Documents\\\\test.jpg'))\n",
    "im=Image.open('C:\\\\Users\\\\hzg0601\\\\Documents\\\\test.jpg')\n",
    "a=zeros((m,n,3))\n",
    "m,n=im2.shape\n",
    "print(m,n)\n",
    "for i in range(m):\n",
    "    for j in range(n):\n",
    "        a[i,j,:]=im.getpixel((j,i))\n",
    "a.shape\n",
    "b=[255,255,255]-a\n",
    "im1=Image.fromarray(b.astype('uint8'))#重新存为图像文件\n",
    "#im1.show()\n",
    "\n",
    "im1.save('C:\\\\Users\\\\hzg0601\\\\Documents\\\\test1.jpg')\n",
    "\n",
    "test2n=255-im2\n",
    "im2i=Image.fromarray(test2n.astype('uint8'))\n",
    "im2i.show()\n"
   ]
  },
  {
   "cell_type": "code",
   "execution_count": 199,
   "metadata": {},
   "outputs": [],
   "source": [
    "#手绘效果\n",
    "    #黑白\n",
    "    #边缘加粗\n",
    "    #相同或相近色彩为白色\n",
    "    #略有光源效果\n",
    "from PIL import Image\n",
    "import numpy as np\n",
    "a=np.array(Image.open('C:\\\\Users\\\\hzg0601\\\\Pictures\\\\se.jpg').convert('L')).astype('float')\n",
    "depth=8  #立体深度\n",
    "grad=np.gradient(a)\n",
    "grad_x,grad_y=grad#分别取纵横图像梯度值,梯度值代表色彩明暗变化\n",
    "grad_x=grad_x*depth/100\n",
    "grad_y=grad_y*depth/100#根据深度调整x,y方向的梯度值\n",
    "A=np.sqrt(grad_x**2+grad_y**2+1)\n",
    "uni_x=grad_x/A#归一化,图像平面的单位法向量\n",
    "uni_y=grad_y/A\n",
    "uni_z=1/A#\n",
    "\n",
    "vec_el=np.pi/2.2#光源的俯视角度,弧度值,单位光线在平面上的投影长度\n",
    "vec_az=np.pi/4#光源的方位角度,弧度值\n",
    "dx=np.cos(vec_el)*np.cos(vec_az)#光源对x轴的影响,光源在坐标轴的具体位置,即光源方向的影响因子\n",
    "dy=np.cos(vec_el)*np.sin(vec_az)#光源对y轴的影响\n",
    "dz=np.sin(vec_el)#光源对z轴的影响\n",
    "\n",
    "b=255*(dx*uni_x+dy*uni_y+dz*uni_z)#光源归一化,梯度与光源相互作用\n",
    "b=b.clip(0,255)#为避免越界,将生成的灰度值裁剪至0-255\n",
    "im=Image.fromarray(b.astype('uint8'))\n",
    "im.show()\n",
    "im.save('C:\\\\Users\\\\hzg0601\\\\Pictures\\\\se1.jpg')"
   ]
  },
  {
   "cell_type": "code",
   "execution_count": 202,
   "metadata": {},
   "outputs": [
    {
     "data": {
      "image/png": "[encoded data removed]",
      "text/plain": [
       "<matplotlib.figure.Figure at 0x22333a2d780>"
      ]
     },
     "metadata": {},
     "output_type": "display_data"
    },
    {
     "name": "stdout",
     "output_type": "stream",
     "text": [
      "None\n"
     ]
    },
    {
     "data": {
      "image/png": "[encoded data removed]",
      "text/plain": [
       "<matplotlib.figure.Figure at 0x22333a2d630>"
      ]
     },
     "metadata": {},
     "output_type": "display_data"
    }
   ],
   "source": [
    "import matplotlib.pyplot as plt\n",
    "import matplotlib.image as img\n",
    "h1=img.imread('C:\\\\Users\\\\hzg0601\\\\Pictures\\\\light.jpg')\n",
    "h2=img.imread('C:\\\\Users\\\\hzg0601\\\\Pictures\\\\light2.jpg')\n",
    "plt.imshow(h1)\n",
    "plt.axis('off')\n",
    "print(plt.show())\n",
    "\n",
    "plt.imshow(h2)\n",
    "plt.axis('off')\n",
    "plt.show()\n"
   ]
  },
  {
   "cell_type": "code",
   "execution_count": null,
   "metadata": {},
   "outputs": [],
   "source": []
  }
 ],
 "metadata": {
  "kernelspec": {
   "display_name": "Python 3",
   "language": "python",
   "name": "python3"
  },
  "language_info": {
   "codemirror_mode": {
    "name": "ipython",
    "version": 3
   },
   "file_extension": ".py",
   "mimetype": "text/x-python",
   "name": "python",
   "nbconvert_exporter": "python",
   "pygments_lexer": "ipython3",
   "version": "3.6.5"
  },
  "latex_envs": {
   "LaTeX_envs_menu_present": true,
   "autoclose": true,
   "autocomplete": false,
   "bibliofile": "biblio.bib",
   "cite_by": "apalike",
   "current_citInitial": 1,
   "eqLabelWithNumbers": true,
   "eqNumInitial": 1,
   "hotkeys": {
    "equation": "Ctrl-E",
    "itemize": "Ctrl-I"
   },
   "labels_anchors": false,
   "latex_user_defs": false,
   "report_style_numbering": false,
   "user_envs_cfg": false
  },
  "toc": {
   "base_numbering": 1,
   "nav_menu": {},
   "number_sections": true,
   "sideBar": false,
   "skip_h1_title": false,
   "title_cell": "Table of Contents",
   "title_sidebar": "Contents",
   "toc_cell": false,
   "toc_position": {},
   "toc_section_display": true,
   "toc_window_display": false
  }
 },
 "nbformat": 4,
 "nbformat_minor": 2
}
