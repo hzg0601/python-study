{
 "cells": [
  {
   "cell_type": "code",
   "execution_count": null,
   "metadata": {},
   "outputs": [
    {
     "name": "stdout",
     "output_type": "stream",
     "text": [
      " http://www.unionlife.com.cn/unionlife/resource/cms/2018/07/2018073011130127756.pdf\n",
      " http://www.unionlife.com.cn/unionlife/resource/cms/2018/07/2018072014302530410.pdf\n",
      " http://www.unionlife.com.cn/unionlife/resource/cms/2018/07/2018072014292425402.pdf\n",
      " http://www.unionlife.com.cn/unionlife/resource/cms/2018/06/2018062913185080735.pdf\n",
      " http://www.unionlife.com.cn/unionlife/resource/cms/2018/06/2018063021194486977.pdf\n",
      " http://www.unionlife.com.cn/unionlife/resource/cms/2018/07/2018073011130127756.pdf\n",
      " http://www.unionlife.com.cn/unionlife/resource/cms/2018/07/2018072014302530410.pdf\n",
      " http://www.unionlife.com.cn/unionlife/resource/cms/2018/07/2018072014292425402.pdf\n",
      " http://www.unionlife.com.cn/unionlife/resource/cms/2018/06/2018062913185080735.pdf\n",
      " http://www.unionlife.com.cn/unionlife/resource/cms/2018/06/2018063021194486977.pdf\n",
      " http://www.unionlife.com.cn/unionlife/resource/cms/2018/06/2018063021463271680.pdf\n",
      " http://www.unionlife.com.cn/unionlife/resource/cms/2018/06/2018063021455421899.pdf\n",
      " http://www.unionlife.com.cn/unionlife/resource/cms/2018/06/2018063021451794225.pdf\n",
      " http://www.unionlife.com.cn/unionlife/resource/cms/2018/06/2018063021442377477.pdf\n",
      " http://www.unionlife.com.cn/unionlife/resource/cms/2018/06/2018063021434682293.pdf\n",
      " http://www.unionlife.com.cn/unionlife/resource/cms/2018/06/2018063021430930770.pdf\n",
      " http://www.unionlife.com.cn/unionlife/resource/cms/2018/06/2018063021421491288.pdf\n",
      " http://www.unionlife.com.cn/unionlife/resource/cms/2018/06/2018063021281213703.pdf\n",
      " http://www.unionlife.com.cn/unionlife/resource/cms/2018/06/2018063021410671062.pdf\n",
      " http://www.unionlife.com.cn/unionlife/resource/cms/2018/06/2018063021402835421.pdf\n",
      " http://www.unionlife.com.cn/unionlife/resource/cms/2018/07/2018073011130127756.pdf\n",
      " http://www.unionlife.com.cn/unionlife/resource/cms/2018/07/2018072014302530410.pdf\n",
      " http://www.unionlife.com.cn/unionlife/resource/cms/2018/07/2018072014292425402.pdf\n",
      " http://www.unionlife.com.cn/unionlife/resource/cms/2018/06/2018062913185080735.pdf\n",
      " http://www.unionlife.com.cn/unionlife/resource/cms/2018/06/2018063021194486977.pdf\n",
      " http://www.unionlife.com.cn/unionlife/resource/cms/2018/07/2018073011130127756.pdf\n",
      " http://www.unionlife.com.cn/unionlife/resource/cms/2018/07/2018072014302530410.pdf\n",
      " http://www.unionlife.com.cn/unionlife/resource/cms/2018/07/2018072014292425402.pdf\n",
      " http://www.unionlife.com.cn/unionlife/resource/cms/2018/06/2018062913185080735.pdf\n",
      " http://www.unionlife.com.cn/unionlife/resource/cms/2018/06/2018063021194486977.pdf\n",
      " http://www.unionlife.com.cn/unionlife/resource/cms/2018/07/2018073011130127756.pdf\n",
      " http://www.unionlife.com.cn/unionlife/resource/cms/2018/07/2018072014302530410.pdf\n",
      " http://www.unionlife.com.cn/unionlife/resource/cms/2018/07/2018072014292425402.pdf\n",
      " http://www.unionlife.com.cn/unionlife/resource/cms/2018/06/2018062913185080735.pdf\n",
      " http://www.unionlife.com.cn/unionlife/resource/cms/2018/06/2018063021194486977.pdf\n",
      " http://www.unionlife.com.cn/unionlife/resource/cms/2018/06/2018063021394566681.pdf\n",
      " http://www.unionlife.com.cn/unionlife/resource/cms/2018/06/2018063021385466097.pdf\n",
      " http://www.unionlife.com.cn/unionlife/resource/cms/2018/06/2018063021380470222.pdf\n",
      " http://www.unionlife.com.cn/unionlife/resource/cms/2018/06/2018063021272125432.pdf\n",
      " http://www.unionlife.com.cn/unionlife/resource/cms/2018/06/2018063021311535443.pdf\n",
      " http://www.unionlife.com.cn/unionlife/resource/cms/2018/07/2018070310441167585.pdf\n",
      " http://www.unionlife.com.cn/unionlife/resource/cms/2018/07/2018070309541777446.pdf\n"
     ]
    }
   ],
   "source": [
    "import requests as rq\n",
    "import re\n",
    "import os\n",
    "import time\n",
    "root_url_b='http://www.unionlife.com.cn/unionlife/_public_basic/jbxx/cpmljtk/11422-'\n",
    "root_url_e='.html'\n",
    "root='D://pics//pdf//'\n",
    "root_url=' http://www.unionlife.com.cn'\n",
    "\n",
    "def getHtml(url):\n",
    "    page = rq.get(url)\n",
    "    page.encoding=page.apparent_encoding\n",
    "    \n",
    "    return page.text\n",
    "\n",
    "def getUrl(html):\n",
    "    reg = r'(?:href|HREF)=\"?((?:http://)?.+?\\.pdf)'\n",
    "    url_re = re.compile(reg)\n",
    "    url_lst = re.findall(url_re,html)\n",
    "    return(url_lst)\n",
    "\n",
    "def getFile(url):\n",
    "    \n",
    "    path=root+url.split('/')[-1]\n",
    "    print(url)\n",
    "    if not os.path.exists(root):\n",
    "        os.mkdir(root)\n",
    "    if not os.path.exists(path):\n",
    "        r=rq.get(url)\n",
    "        \n",
    "        with open(path,'wb') as f:\n",
    "            f.write(r.content)\n",
    "\n",
    "for i in range(1,20):\n",
    "    raw_url=root_url_b+str(i)+root_url_e\n",
    "    html=getHtml(raw_url)\n",
    "    url_lst=getUrl(html)\n",
    "    \n",
    "    for url in url_lst[:]:\n",
    "        url=root_url+url\n",
    "        getFile(url)"
   ]
  },
  {
   "cell_type": "code",
   "execution_count": 27,
   "metadata": {},
   "outputs": [],
   "source": [
    "import urllib3 \n",
    "urllib3.request.urlencode?"
   ]
  }
 ],
 "metadata": {
  "kernelspec": {
   "display_name": "Python 3",
   "language": "python",
   "name": "python3"
  },
  "language_info": {
   "codemirror_mode": {
    "name": "ipython",
    "version": 3
   },
   "file_extension": ".py",
   "mimetype": "text/x-python",
   "name": "python",
   "nbconvert_exporter": "python",
   "pygments_lexer": "ipython3",
   "version": "3.6.5"
  },
  "latex_envs": {
   "LaTeX_envs_menu_present": true,
   "autoclose": true,
   "autocomplete": false,
   "bibliofile": "biblio.bib",
   "cite_by": "apalike",
   "current_citInitial": 1,
   "eqLabelWithNumbers": true,
   "eqNumInitial": 1,
   "hotkeys": {
    "equation": "Ctrl-E",
    "itemize": "Ctrl-I"
   },
   "labels_anchors": false,
   "latex_user_defs": false,
   "report_style_numbering": false,
   "user_envs_cfg": false
  },
  "toc": {
   "base_numbering": 1,
   "nav_menu": {},
   "number_sections": true,
   "sideBar": false,
   "skip_h1_title": false,
   "title_cell": "Table of Contents",
   "title_sidebar": "Contents",
   "toc_cell": false,
   "toc_position": {},
   "toc_section_display": true,
   "toc_window_display": false
  }
 },
 "nbformat": 4,
 "nbformat_minor": 2
}
